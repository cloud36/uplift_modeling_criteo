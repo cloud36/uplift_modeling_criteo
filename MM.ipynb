{
 "cells": [
  {
   "cell_type": "code",
   "execution_count": 3,
   "metadata": {
    "collapsed": true
   },
   "outputs": [],
   "source": [
    "import xgboost as xgb"
   ]
  },
  {
   "cell_type": "code",
   "execution_count": null,
   "metadata": {
    "collapsed": true
   },
   "outputs": [],
   "source": []
  },
  {
   "cell_type": "code",
   "execution_count": 4,
   "metadata": {
    "collapsed": false
   },
   "outputs": [],
   "source": [
    "from scipy.stats import uniform\n",
    "import pandas as pd\n",
    "import numpy as np\n",
    "from sklearn.ensemble import RandomForestRegressor\n",
    "from sklearn.metrics import make_scorer\n",
    "from sklearn.grid_search import RandomizedSearchCV, GridSearchCV\n",
    "from sklearn.cross_validation import train_test_split, StratifiedKFold\n",
    "from xgboost import XGBRegressor\n",
    "from sklearn.metrics import roc_auc_score\n",
    "import matplotlib.pyplot as plt\n",
    "import seaborn as sns\n",
    "%matplotlib inline  \n",
    "plt.rcParams['figure.figsize'] = [15, 5]"
   ]
  },
  {
   "cell_type": "code",
   "execution_count": 5,
   "metadata": {
    "collapsed": true
   },
   "outputs": [],
   "source": [
    "def timer(start_time=None):\n",
    "    if not start_time:\n",
    "        start_time = datetime.now()\n",
    "        return start_time\n",
    "    elif start_time:\n",
    "        thour, temp_sec = divmod((datetime.now() - start_time).total_seconds(), 3600)\n",
    "        tmin, tsec = divmod(temp_sec, 60)\n",
    "        print('\\n Time taken: %i hours %i minutes and %s seconds.' % (thour, tmin, round(tsec, 2)))\n"
   ]
  },
  {
   "cell_type": "code",
   "execution_count": 6,
   "metadata": {
    "collapsed": false
   },
   "outputs": [],
   "source": [
    "data = pd.read_csv('results.csv')"
   ]
  },
  {
   "cell_type": "code",
   "execution_count": 7,
   "metadata": {
    "collapsed": true
   },
   "outputs": [],
   "source": [
    "data['outcome'] = data['test_out'].apply(str) + data['control_out'].apply(str)"
   ]
  },
  {
   "cell_type": "code",
   "execution_count": 8,
   "metadata": {
    "collapsed": false
   },
   "outputs": [
    {
     "data": {
      "text/html": [
       "<div>\n",
       "<table border=\"1\" class=\"dataframe\">\n",
       "  <thead>\n",
       "    <tr style=\"text-align: right;\">\n",
       "      <th></th>\n",
       "      <th>control_ix</th>\n",
       "      <th>test_ix</th>\n",
       "      <th>control_out</th>\n",
       "      <th>test_out</th>\n",
       "      <th>distance</th>\n",
       "      <th>f0</th>\n",
       "      <th>f1</th>\n",
       "      <th>f2</th>\n",
       "      <th>f3</th>\n",
       "      <th>f4</th>\n",
       "      <th>...</th>\n",
       "      <th>f3c</th>\n",
       "      <th>f4c</th>\n",
       "      <th>f5c</th>\n",
       "      <th>f6c</th>\n",
       "      <th>f7c</th>\n",
       "      <th>f8c</th>\n",
       "      <th>f9c</th>\n",
       "      <th>f10c</th>\n",
       "      <th>f11c</th>\n",
       "      <th>outcome</th>\n",
       "    </tr>\n",
       "  </thead>\n",
       "  <tbody>\n",
       "    <tr>\n",
       "      <th>0</th>\n",
       "      <td>1</td>\n",
       "      <td>19114443</td>\n",
       "      <td>0</td>\n",
       "      <td>0</td>\n",
       "      <td>0.007983</td>\n",
       "      <td>1.478699</td>\n",
       "      <td>3.417861</td>\n",
       "      <td>8.390882</td>\n",
       "      <td>2.344760</td>\n",
       "      <td>3.506733</td>\n",
       "      <td>...</td>\n",
       "      <td>2.307094</td>\n",
       "      <td>3.506733</td>\n",
       "      <td>10.840586</td>\n",
       "      <td>-2.526549</td>\n",
       "      <td>-0.752980</td>\n",
       "      <td>-9.904933</td>\n",
       "      <td>16.894056</td>\n",
       "      <td>-1.860900</td>\n",
       "      <td>4.157648</td>\n",
       "      <td>00</td>\n",
       "    </tr>\n",
       "    <tr>\n",
       "      <th>1</th>\n",
       "      <td>9</td>\n",
       "      <td>9637197</td>\n",
       "      <td>0</td>\n",
       "      <td>0</td>\n",
       "      <td>0.011760</td>\n",
       "      <td>0.732334</td>\n",
       "      <td>3.263641</td>\n",
       "      <td>8.678399</td>\n",
       "      <td>2.703948</td>\n",
       "      <td>3.506733</td>\n",
       "      <td>...</td>\n",
       "      <td>2.613870</td>\n",
       "      <td>3.506733</td>\n",
       "      <td>10.161281</td>\n",
       "      <td>-1.343855</td>\n",
       "      <td>-0.166689</td>\n",
       "      <td>-8.286829</td>\n",
       "      <td>13.193869</td>\n",
       "      <td>-1.860900</td>\n",
       "      <td>4.157648</td>\n",
       "      <td>00</td>\n",
       "    </tr>\n",
       "    <tr>\n",
       "      <th>2</th>\n",
       "      <td>16</td>\n",
       "      <td>152609</td>\n",
       "      <td>0</td>\n",
       "      <td>0</td>\n",
       "      <td>0.003313</td>\n",
       "      <td>-0.742603</td>\n",
       "      <td>3.263641</td>\n",
       "      <td>8.980436</td>\n",
       "      <td>3.735871</td>\n",
       "      <td>3.506733</td>\n",
       "      <td>...</td>\n",
       "      <td>3.735871</td>\n",
       "      <td>3.506733</td>\n",
       "      <td>10.161281</td>\n",
       "      <td>-2.039146</td>\n",
       "      <td>-0.166689</td>\n",
       "      <td>-16.247004</td>\n",
       "      <td>9.850093</td>\n",
       "      <td>-1.860900</td>\n",
       "      <td>4.157648</td>\n",
       "      <td>00</td>\n",
       "    </tr>\n",
       "    <tr>\n",
       "      <th>3</th>\n",
       "      <td>33</td>\n",
       "      <td>81790</td>\n",
       "      <td>0</td>\n",
       "      <td>0</td>\n",
       "      <td>0.011970</td>\n",
       "      <td>0.947677</td>\n",
       "      <td>3.263641</td>\n",
       "      <td>8.442494</td>\n",
       "      <td>3.022606</td>\n",
       "      <td>4.013466</td>\n",
       "      <td>...</td>\n",
       "      <td>2.877999</td>\n",
       "      <td>3.803153</td>\n",
       "      <td>10.161281</td>\n",
       "      <td>-0.728742</td>\n",
       "      <td>-0.166689</td>\n",
       "      <td>-23.066055</td>\n",
       "      <td>24.184974</td>\n",
       "      <td>-8.601271</td>\n",
       "      <td>4.157648</td>\n",
       "      <td>00</td>\n",
       "    </tr>\n",
       "    <tr>\n",
       "      <th>4</th>\n",
       "      <td>38</td>\n",
       "      <td>3238104</td>\n",
       "      <td>0</td>\n",
       "      <td>0</td>\n",
       "      <td>0.020262</td>\n",
       "      <td>1.527733</td>\n",
       "      <td>3.263641</td>\n",
       "      <td>8.552558</td>\n",
       "      <td>3.162731</td>\n",
       "      <td>3.506733</td>\n",
       "      <td>...</td>\n",
       "      <td>2.703948</td>\n",
       "      <td>3.506733</td>\n",
       "      <td>10.840586</td>\n",
       "      <td>-4.169010</td>\n",
       "      <td>-2.751289</td>\n",
       "      <td>-15.614602</td>\n",
       "      <td>16.250365</td>\n",
       "      <td>-1.860900</td>\n",
       "      <td>4.157648</td>\n",
       "      <td>00</td>\n",
       "    </tr>\n",
       "  </tbody>\n",
       "</table>\n",
       "<p>5 rows × 30 columns</p>\n",
       "</div>"
      ],
      "text/plain": [
       "   control_ix   test_ix  control_out  test_out  distance        f0        f1  \\\n",
       "0           1  19114443            0         0  0.007983  1.478699  3.417861   \n",
       "1           9   9637197            0         0  0.011760  0.732334  3.263641   \n",
       "2          16    152609            0         0  0.003313 -0.742603  3.263641   \n",
       "3          33     81790            0         0  0.011970  0.947677  3.263641   \n",
       "4          38   3238104            0         0  0.020262  1.527733  3.263641   \n",
       "\n",
       "         f2        f3        f4   ...          f3c       f4c        f5c  \\\n",
       "0  8.390882  2.344760  3.506733   ...     2.307094  3.506733  10.840586   \n",
       "1  8.678399  2.703948  3.506733   ...     2.613870  3.506733  10.161281   \n",
       "2  8.980436  3.735871  3.506733   ...     3.735871  3.506733  10.161281   \n",
       "3  8.442494  3.022606  4.013466   ...     2.877999  3.803153  10.161281   \n",
       "4  8.552558  3.162731  3.506733   ...     2.703948  3.506733  10.840586   \n",
       "\n",
       "        f6c       f7c        f8c        f9c      f10c      f11c  outcome  \n",
       "0 -2.526549 -0.752980  -9.904933  16.894056 -1.860900  4.157648       00  \n",
       "1 -1.343855 -0.166689  -8.286829  13.193869 -1.860900  4.157648       00  \n",
       "2 -2.039146 -0.166689 -16.247004   9.850093 -1.860900  4.157648       00  \n",
       "3 -0.728742 -0.166689 -23.066055  24.184974 -8.601271  4.157648       00  \n",
       "4 -4.169010 -2.751289 -15.614602  16.250365 -1.860900  4.157648       00  \n",
       "\n",
       "[5 rows x 30 columns]"
      ]
     },
     "execution_count": 8,
     "metadata": {},
     "output_type": "execute_result"
    }
   ],
   "source": [
    "data.head()"
   ]
  },
  {
   "cell_type": "code",
   "execution_count": 9,
   "metadata": {
    "collapsed": false
   },
   "outputs": [
    {
     "data": {
      "text/plain": [
       "Index(['control_ix', 'test_ix', 'control_out', 'test_out', 'distance', 'f0',\n",
       "       'f1', 'f2', 'f3', 'f4', 'f5', 'f6', 'f7', 'f8', 'f9', 'f10', 'f11',\n",
       "       'f0c', 'f1c', 'f2c', 'f3c', 'f4c', 'f5c', 'f6c', 'f7c', 'f8c', 'f9c',\n",
       "       'f10c', 'f11c', 'outcome'],\n",
       "      dtype='object')"
      ]
     },
     "execution_count": 9,
     "metadata": {},
     "output_type": "execute_result"
    }
   ],
   "source": [
    "data.columns"
   ]
  },
  {
   "cell_type": "code",
   "execution_count": 10,
   "metadata": {
    "collapsed": true
   },
   "outputs": [],
   "source": [
    "features = ['f0','f1', 'f2', 'f3', 'f4', 'f5', 'f6', 'f7', 'f8', 'f9', 'f10', 'f11']\n",
    "target   = 'outcome'"
   ]
  },
  {
   "cell_type": "code",
   "execution_count": 11,
   "metadata": {
    "collapsed": false
   },
   "outputs": [],
   "source": [
    "br = pd.DataFrame(data['outcome'].value_counts()).reset_index()"
   ]
  },
  {
   "cell_type": "code",
   "execution_count": 12,
   "metadata": {
    "collapsed": false
   },
   "outputs": [
    {
     "data": {
      "text/html": [
       "<div>\n",
       "<table border=\"1\" class=\"dataframe\">\n",
       "  <thead>\n",
       "    <tr style=\"text-align: right;\">\n",
       "      <th></th>\n",
       "      <th>index</th>\n",
       "      <th>outcome</th>\n",
       "    </tr>\n",
       "  </thead>\n",
       "  <tbody>\n",
       "    <tr>\n",
       "      <th>0</th>\n",
       "      <td>00</td>\n",
       "      <td>3375295</td>\n",
       "    </tr>\n",
       "    <tr>\n",
       "      <th>1</th>\n",
       "      <td>01</td>\n",
       "      <td>5002</td>\n",
       "    </tr>\n",
       "    <tr>\n",
       "      <th>2</th>\n",
       "      <td>10</td>\n",
       "      <td>4767</td>\n",
       "    </tr>\n",
       "    <tr>\n",
       "      <th>3</th>\n",
       "      <td>11</td>\n",
       "      <td>709</td>\n",
       "    </tr>\n",
       "  </tbody>\n",
       "</table>\n",
       "</div>"
      ],
      "text/plain": [
       "  index  outcome\n",
       "0    00  3375295\n",
       "1    01     5002\n",
       "2    10     4767\n",
       "3    11      709"
      ]
     },
     "execution_count": 12,
     "metadata": {},
     "output_type": "execute_result"
    }
   ],
   "source": [
    "br"
   ]
  },
  {
   "cell_type": "code",
   "execution_count": 13,
   "metadata": {
    "collapsed": true
   },
   "outputs": [],
   "source": [
    "# as we can see the 00 (lost causes) segment is hugely overrepresented "
   ]
  },
  {
   "cell_type": "code",
   "execution_count": 14,
   "metadata": {
    "collapsed": true
   },
   "outputs": [],
   "source": [
    "# sampling strategy.\n",
    "# balance by undersampling\n",
    "# binary between sleeping dogs and persuadables \n",
    "# convert to regression 01 lowest to 11 highest\n",
    "# three class: persuadbles, (00,11), sleeping dogs: balance "
   ]
  },
  {
   "cell_type": "code",
   "execution_count": 15,
   "metadata": {
    "collapsed": false
   },
   "outputs": [],
   "source": [
    "# undersampling\n",
    "br = pd.DataFrame(data['outcome'].value_counts()).reset_index()\n",
    "\n",
    "sample = pd.concat([data[data.outcome == '00'][features + [target]].sample(n=min(data['outcome'].value_counts()))\n",
    "                         ,data[data.outcome == '01'][features + [target]].sample(n=min(data['outcome'].value_counts()))\n",
    "                         ,data[data.outcome == '10'][features + [target]].sample(n=min(data['outcome'].value_counts()))\n",
    "                         ,data[data.outcome == '11'][features + [target]].sample(n=min(data['outcome'].value_counts()))])"
   ]
  },
  {
   "cell_type": "code",
   "execution_count": 46,
   "metadata": {
    "collapsed": true
   },
   "outputs": [],
   "source": [
    "# binary \n",
    "br = data[(data.outcome == '01') | (data.outcome == '10')]['outcome'].value_counts()\n",
    "\n",
    "sample = pd.concat([data[data.outcome == '01'][features + [target]].sample(n=min(data['outcome'].value_counts()))\n",
    "                   ,data[data.outcome == '10'][features + [target]].sample(n=min(data['outcome'].value_counts()))])\n",
    "\n"
   ]
  },
  {
   "cell_type": "code",
   "execution_count": 47,
   "metadata": {
    "collapsed": false
   },
   "outputs": [],
   "source": [
    "# seed = 7\n",
    "# test_size = 0.3\n",
    "# X_trian, X_test, y_train, y_test = train_test_split(sample[features], sample[target], test_size=test_size, random_state=seed)"
   ]
  },
  {
   "cell_type": "code",
   "execution_count": 48,
   "metadata": {
    "collapsed": true
   },
   "outputs": [],
   "source": [
    "params = {\n",
    "        'min_child_weight': [1, 5, 10],\n",
    "        'gamma': [0.5, 1, 1.5, 2, 5],\n",
    "        'subsample': [0.6, 0.8, 1.0],\n",
    "        'colsample_bytree': [0.6, 0.8, 1.0],\n",
    "        'max_depth': [3, 4, 5]\n",
    "        }"
   ]
  },
  {
   "cell_type": "code",
   "execution_count": 49,
   "metadata": {
    "collapsed": false
   },
   "outputs": [],
   "source": [
    "xgbc = xgb.XGBClassifier(learning_rate=0.02, n_estimators=600, objective='multi:softmax', silent=True, nthread=1, num_class=4)"
   ]
  },
  {
   "cell_type": "code",
   "execution_count": 50,
   "metadata": {
    "collapsed": false
   },
   "outputs": [
    {
     "name": "stdout",
     "output_type": "stream",
     "text": [
      "Fitting 5 folds for each of 5 candidates, totalling 25 fits\n",
      "[CV] gamma=2, colsample_bytree=1.0, subsample=1.0, min_child_weight=5, max_depth=4 \n",
      "[CV] gamma=2, colsample_bytree=1.0, subsample=1.0, min_child_weight=5, max_depth=4 \n",
      "[CV] gamma=2, colsample_bytree=1.0, subsample=1.0, min_child_weight=5, max_depth=4 \n",
      "[CV] gamma=2, colsample_bytree=1.0, subsample=1.0, min_child_weight=5, max_depth=4 \n"
     ]
    },
    {
     "name": "stderr",
     "output_type": "stream",
     "text": [
      "/home/cbartondepaul/anaconda3/lib/python3.5/site-packages/sklearn/preprocessing/label.py:166: DeprecationWarning: The truth value of an empty array is ambiguous. Returning False, but in future this will result in an error. Use `array.size > 0` to check that an array is not empty.\n",
      "  if diff:\n"
     ]
    },
    {
     "name": "stdout",
     "output_type": "stream",
     "text": [
      "[CV]  gamma=2, colsample_bytree=1.0, subsample=1.0, min_child_weight=5, max_depth=4, score=0.658451 -   1.4s\n",
      "[CV] gamma=2, colsample_bytree=1.0, subsample=1.0, min_child_weight=5, max_depth=4 \n"
     ]
    },
    {
     "name": "stderr",
     "output_type": "stream",
     "text": [
      "/home/cbartondepaul/anaconda3/lib/python3.5/site-packages/sklearn/preprocessing/label.py:166: DeprecationWarning: The truth value of an empty array is ambiguous. Returning False, but in future this will result in an error. Use `array.size > 0` to check that an array is not empty.\n",
      "  if diff:\n"
     ]
    },
    {
     "name": "stdout",
     "output_type": "stream",
     "text": [
      "[CV]  gamma=2, colsample_bytree=1.0, subsample=1.0, min_child_weight=5, max_depth=4, score=0.626761 -   1.5s\n",
      "[CV] gamma=5, colsample_bytree=1.0, subsample=0.6, min_child_weight=10, max_depth=4 \n"
     ]
    },
    {
     "name": "stderr",
     "output_type": "stream",
     "text": [
      "/home/cbartondepaul/anaconda3/lib/python3.5/site-packages/sklearn/preprocessing/label.py:166: DeprecationWarning: The truth value of an empty array is ambiguous. Returning False, but in future this will result in an error. Use `array.size > 0` to check that an array is not empty.\n",
      "  if diff:\n"
     ]
    },
    {
     "name": "stdout",
     "output_type": "stream",
     "text": [
      "[CV]  gamma=2, colsample_bytree=1.0, subsample=1.0, min_child_weight=5, max_depth=4, score=0.640845 -   1.6s\n"
     ]
    },
    {
     "name": "stderr",
     "output_type": "stream",
     "text": [
      "/home/cbartondepaul/anaconda3/lib/python3.5/site-packages/sklearn/preprocessing/label.py:166: DeprecationWarning: The truth value of an empty array is ambiguous. Returning False, but in future this will result in an error. Use `array.size > 0` to check that an array is not empty.\n",
      "  if diff:\n"
     ]
    },
    {
     "name": "stdout",
     "output_type": "stream",
     "text": [
      "[CV] gamma=5, colsample_bytree=1.0, subsample=0.6, min_child_weight=10, max_depth=4 \n",
      "[CV]  gamma=2, colsample_bytree=1.0, subsample=1.0, min_child_weight=5, max_depth=4, score=0.630282 -   1.6s\n",
      "[CV] gamma=5, colsample_bytree=1.0, subsample=0.6, min_child_weight=10, max_depth=4 \n"
     ]
    },
    {
     "name": "stderr",
     "output_type": "stream",
     "text": [
      "/home/cbartondepaul/anaconda3/lib/python3.5/site-packages/sklearn/preprocessing/label.py:166: DeprecationWarning: The truth value of an empty array is ambiguous. Returning False, but in future this will result in an error. Use `array.size > 0` to check that an array is not empty.\n",
      "  if diff:\n"
     ]
    },
    {
     "name": "stdout",
     "output_type": "stream",
     "text": [
      "[CV]  gamma=2, colsample_bytree=1.0, subsample=1.0, min_child_weight=5, max_depth=4, score=0.627660 -   1.4s\n",
      "[CV] gamma=5, colsample_bytree=1.0, subsample=0.6, min_child_weight=10, max_depth=4 \n"
     ]
    },
    {
     "name": "stderr",
     "output_type": "stream",
     "text": [
      "/home/cbartondepaul/anaconda3/lib/python3.5/site-packages/sklearn/preprocessing/label.py:166: DeprecationWarning: The truth value of an empty array is ambiguous. Returning False, but in future this will result in an error. Use `array.size > 0` to check that an array is not empty.\n",
      "  if diff:\n"
     ]
    },
    {
     "name": "stdout",
     "output_type": "stream",
     "text": [
      "[CV]  gamma=5, colsample_bytree=1.0, subsample=0.6, min_child_weight=10, max_depth=4, score=0.619718 -   1.7s\n",
      "[CV] gamma=5, colsample_bytree=1.0, subsample=0.6, min_child_weight=10, max_depth=4 \n"
     ]
    },
    {
     "name": "stderr",
     "output_type": "stream",
     "text": [
      "/home/cbartondepaul/anaconda3/lib/python3.5/site-packages/sklearn/preprocessing/label.py:166: DeprecationWarning: The truth value of an empty array is ambiguous. Returning False, but in future this will result in an error. Use `array.size > 0` to check that an array is not empty.\n",
      "  if diff:\n"
     ]
    },
    {
     "name": "stdout",
     "output_type": "stream",
     "text": [
      "[CV]  gamma=5, colsample_bytree=1.0, subsample=0.6, min_child_weight=10, max_depth=4, score=0.602113 -   2.0s\n",
      "[CV] gamma=1.5, colsample_bytree=0.8, subsample=0.6, min_child_weight=1, max_depth=3 \n"
     ]
    },
    {
     "name": "stderr",
     "output_type": "stream",
     "text": [
      "/home/cbartondepaul/anaconda3/lib/python3.5/site-packages/sklearn/preprocessing/label.py:166: DeprecationWarning: The truth value of an empty array is ambiguous. Returning False, but in future this will result in an error. Use `array.size > 0` to check that an array is not empty.\n",
      "  if diff:\n"
     ]
    },
    {
     "name": "stdout",
     "output_type": "stream",
     "text": [
      "[CV]  gamma=5, colsample_bytree=1.0, subsample=0.6, min_child_weight=10, max_depth=4, score=0.602113 -   2.3s\n",
      "[CV] gamma=1.5, colsample_bytree=0.8, subsample=0.6, min_child_weight=1, max_depth=3 \n"
     ]
    },
    {
     "name": "stderr",
     "output_type": "stream",
     "text": [
      "/home/cbartondepaul/anaconda3/lib/python3.5/site-packages/sklearn/preprocessing/label.py:166: DeprecationWarning: The truth value of an empty array is ambiguous. Returning False, but in future this will result in an error. Use `array.size > 0` to check that an array is not empty.\n",
      "  if diff:\n"
     ]
    },
    {
     "name": "stdout",
     "output_type": "stream",
     "text": [
      "[CV]  gamma=5, colsample_bytree=1.0, subsample=0.6, min_child_weight=10, max_depth=4, score=0.619718 -   1.8s\n",
      "[CV] gamma=1.5, colsample_bytree=0.8, subsample=0.6, min_child_weight=1, max_depth=3 \n"
     ]
    },
    {
     "name": "stderr",
     "output_type": "stream",
     "text": [
      "/home/cbartondepaul/anaconda3/lib/python3.5/site-packages/sklearn/preprocessing/label.py:166: DeprecationWarning: The truth value of an empty array is ambiguous. Returning False, but in future this will result in an error. Use `array.size > 0` to check that an array is not empty.\n",
      "  if diff:\n"
     ]
    },
    {
     "name": "stdout",
     "output_type": "stream",
     "text": [
      "[CV]  gamma=5, colsample_bytree=1.0, subsample=0.6, min_child_weight=10, max_depth=4, score=0.609929 -   1.7s\n",
      "[CV] gamma=1.5, colsample_bytree=0.8, subsample=0.6, min_child_weight=1, max_depth=3 \n"
     ]
    },
    {
     "name": "stderr",
     "output_type": "stream",
     "text": [
      "/home/cbartondepaul/anaconda3/lib/python3.5/site-packages/sklearn/preprocessing/label.py:166: DeprecationWarning: The truth value of an empty array is ambiguous. Returning False, but in future this will result in an error. Use `array.size > 0` to check that an array is not empty.\n",
      "  if diff:\n"
     ]
    },
    {
     "name": "stdout",
     "output_type": "stream",
     "text": [
      "[CV]  gamma=1.5, colsample_bytree=0.8, subsample=0.6, min_child_weight=1, max_depth=3, score=0.602113 -   1.6s\n",
      "[CV] gamma=1.5, colsample_bytree=0.8, subsample=0.6, min_child_weight=1, max_depth=3 \n"
     ]
    },
    {
     "name": "stderr",
     "output_type": "stream",
     "text": [
      "/home/cbartondepaul/anaconda3/lib/python3.5/site-packages/sklearn/preprocessing/label.py:166: DeprecationWarning: The truth value of an empty array is ambiguous. Returning False, but in future this will result in an error. Use `array.size > 0` to check that an array is not empty.\n",
      "  if diff:\n"
     ]
    },
    {
     "name": "stdout",
     "output_type": "stream",
     "text": [
      "[CV]  gamma=1.5, colsample_bytree=0.8, subsample=0.6, min_child_weight=1, max_depth=3, score=0.612676 -   1.6s\n",
      "[CV] gamma=0.5, colsample_bytree=1.0, subsample=0.8, min_child_weight=10, max_depth=4 \n"
     ]
    },
    {
     "name": "stderr",
     "output_type": "stream",
     "text": [
      "/home/cbartondepaul/anaconda3/lib/python3.5/site-packages/sklearn/preprocessing/label.py:166: DeprecationWarning: The truth value of an empty array is ambiguous. Returning False, but in future this will result in an error. Use `array.size > 0` to check that an array is not empty.\n",
      "  if diff:\n"
     ]
    },
    {
     "name": "stdout",
     "output_type": "stream",
     "text": [
      "[CV]  gamma=1.5, colsample_bytree=0.8, subsample=0.6, min_child_weight=1, max_depth=3, score=0.598592 -   1.5s\n",
      "[CV] gamma=0.5, colsample_bytree=1.0, subsample=0.8, min_child_weight=10, max_depth=4 \n"
     ]
    },
    {
     "name": "stderr",
     "output_type": "stream",
     "text": [
      "/home/cbartondepaul/anaconda3/lib/python3.5/site-packages/sklearn/preprocessing/label.py:166: DeprecationWarning: The truth value of an empty array is ambiguous. Returning False, but in future this will result in an error. Use `array.size > 0` to check that an array is not empty.\n",
      "  if diff:\n"
     ]
    },
    {
     "name": "stdout",
     "output_type": "stream",
     "text": [
      "[CV]  gamma=1.5, colsample_bytree=0.8, subsample=0.6, min_child_weight=1, max_depth=3, score=0.598592 -   1.3s\n",
      "[CV] gamma=0.5, colsample_bytree=1.0, subsample=0.8, min_child_weight=10, max_depth=4 \n"
     ]
    },
    {
     "name": "stderr",
     "output_type": "stream",
     "text": [
      "/home/cbartondepaul/anaconda3/lib/python3.5/site-packages/sklearn/preprocessing/label.py:166: DeprecationWarning: The truth value of an empty array is ambiguous. Returning False, but in future this will result in an error. Use `array.size > 0` to check that an array is not empty.\n",
      "  if diff:\n"
     ]
    },
    {
     "name": "stdout",
     "output_type": "stream",
     "text": [
      "[CV]  gamma=1.5, colsample_bytree=0.8, subsample=0.6, min_child_weight=1, max_depth=3, score=0.574468 -   1.8s\n",
      "[CV] gamma=0.5, colsample_bytree=1.0, subsample=0.8, min_child_weight=10, max_depth=4 \n"
     ]
    },
    {
     "name": "stderr",
     "output_type": "stream",
     "text": [
      "/home/cbartondepaul/anaconda3/lib/python3.5/site-packages/sklearn/preprocessing/label.py:166: DeprecationWarning: The truth value of an empty array is ambiguous. Returning False, but in future this will result in an error. Use `array.size > 0` to check that an array is not empty.\n",
      "  if diff:\n"
     ]
    },
    {
     "name": "stdout",
     "output_type": "stream",
     "text": [
      "[CV]  gamma=0.5, colsample_bytree=1.0, subsample=0.8, min_child_weight=10, max_depth=4, score=0.630282 -   2.0s\n",
      "[CV] gamma=0.5, colsample_bytree=1.0, subsample=0.8, min_child_weight=10, max_depth=4 \n"
     ]
    },
    {
     "name": "stderr",
     "output_type": "stream",
     "text": [
      "/home/cbartondepaul/anaconda3/lib/python3.5/site-packages/sklearn/preprocessing/label.py:166: DeprecationWarning: The truth value of an empty array is ambiguous. Returning False, but in future this will result in an error. Use `array.size > 0` to check that an array is not empty.\n",
      "  if diff:\n"
     ]
    },
    {
     "name": "stdout",
     "output_type": "stream",
     "text": [
      "[CV]  gamma=0.5, colsample_bytree=1.0, subsample=0.8, min_child_weight=10, max_depth=4, score=0.633803 -   1.9s\n",
      "[CV] gamma=0.5, colsample_bytree=0.6, subsample=1.0, min_child_weight=5, max_depth=4 \n"
     ]
    },
    {
     "name": "stderr",
     "output_type": "stream",
     "text": [
      "/home/cbartondepaul/anaconda3/lib/python3.5/site-packages/sklearn/preprocessing/label.py:166: DeprecationWarning: The truth value of an empty array is ambiguous. Returning False, but in future this will result in an error. Use `array.size > 0` to check that an array is not empty.\n",
      "  if diff:\n"
     ]
    },
    {
     "name": "stdout",
     "output_type": "stream",
     "text": [
      "[CV]  gamma=0.5, colsample_bytree=1.0, subsample=0.8, min_child_weight=10, max_depth=4, score=0.626761 -   1.7s\n",
      "[CV] gamma=0.5, colsample_bytree=0.6, subsample=1.0, min_child_weight=5, max_depth=4 \n"
     ]
    },
    {
     "name": "stderr",
     "output_type": "stream",
     "text": [
      "/home/cbartondepaul/anaconda3/lib/python3.5/site-packages/sklearn/preprocessing/label.py:166: DeprecationWarning: The truth value of an empty array is ambiguous. Returning False, but in future this will result in an error. Use `array.size > 0` to check that an array is not empty.\n",
      "  if diff:\n"
     ]
    },
    {
     "name": "stdout",
     "output_type": "stream",
     "text": [
      "[CV]  gamma=0.5, colsample_bytree=0.6, subsample=1.0, min_child_weight=5, max_depth=4, score=0.605634 -   1.3s\n",
      "[CV] gamma=0.5, colsample_bytree=0.6, subsample=1.0, min_child_weight=5, max_depth=4 \n"
     ]
    },
    {
     "name": "stderr",
     "output_type": "stream",
     "text": [
      "/home/cbartondepaul/anaconda3/lib/python3.5/site-packages/sklearn/preprocessing/label.py:166: DeprecationWarning: The truth value of an empty array is ambiguous. Returning False, but in future this will result in an error. Use `array.size > 0` to check that an array is not empty.\n",
      "  if diff:\n"
     ]
    },
    {
     "name": "stdout",
     "output_type": "stream",
     "text": [
      "[CV]  gamma=0.5, colsample_bytree=0.6, subsample=1.0, min_child_weight=5, max_depth=4, score=0.616197 -   1.3s\n",
      "[CV] gamma=0.5, colsample_bytree=0.6, subsample=1.0, min_child_weight=5, max_depth=4 \n"
     ]
    },
    {
     "name": "stderr",
     "output_type": "stream",
     "text": [
      "/home/cbartondepaul/anaconda3/lib/python3.5/site-packages/sklearn/preprocessing/label.py:166: DeprecationWarning: The truth value of an empty array is ambiguous. Returning False, but in future this will result in an error. Use `array.size > 0` to check that an array is not empty.\n",
      "  if diff:\n"
     ]
    },
    {
     "name": "stdout",
     "output_type": "stream",
     "text": [
      "[CV]  gamma=0.5, colsample_bytree=1.0, subsample=0.8, min_child_weight=10, max_depth=4, score=0.633803 -   2.5s\n",
      "[CV] gamma=0.5, colsample_bytree=0.6, subsample=1.0, min_child_weight=5, max_depth=4 \n"
     ]
    },
    {
     "name": "stderr",
     "output_type": "stream",
     "text": [
      "/home/cbartondepaul/anaconda3/lib/python3.5/site-packages/sklearn/preprocessing/label.py:166: DeprecationWarning: The truth value of an empty array is ambiguous. Returning False, but in future this will result in an error. Use `array.size > 0` to check that an array is not empty.\n",
      "  if diff:\n"
     ]
    },
    {
     "name": "stdout",
     "output_type": "stream",
     "text": [
      "[CV]  gamma=0.5, colsample_bytree=1.0, subsample=0.8, min_child_weight=10, max_depth=4, score=0.581560 -   2.4s\n"
     ]
    },
    {
     "name": "stderr",
     "output_type": "stream",
     "text": [
      "/home/cbartondepaul/anaconda3/lib/python3.5/site-packages/sklearn/preprocessing/label.py:166: DeprecationWarning: The truth value of an empty array is ambiguous. Returning False, but in future this will result in an error. Use `array.size > 0` to check that an array is not empty.\n",
      "  if diff:\n"
     ]
    },
    {
     "name": "stdout",
     "output_type": "stream",
     "text": [
      "[CV]  gamma=0.5, colsample_bytree=0.6, subsample=1.0, min_child_weight=5, max_depth=4, score=0.595070 -   1.1s\n"
     ]
    },
    {
     "name": "stderr",
     "output_type": "stream",
     "text": [
      "/home/cbartondepaul/anaconda3/lib/python3.5/site-packages/sklearn/preprocessing/label.py:166: DeprecationWarning: The truth value of an empty array is ambiguous. Returning False, but in future this will result in an error. Use `array.size > 0` to check that an array is not empty.\n",
      "  if diff:\n"
     ]
    },
    {
     "name": "stdout",
     "output_type": "stream",
     "text": [
      "[CV]  gamma=0.5, colsample_bytree=0.6, subsample=1.0, min_child_weight=5, max_depth=4, score=0.598592 -   1.2s\n"
     ]
    },
    {
     "name": "stderr",
     "output_type": "stream",
     "text": [
      "/home/cbartondepaul/anaconda3/lib/python3.5/site-packages/sklearn/preprocessing/label.py:166: DeprecationWarning: The truth value of an empty array is ambiguous. Returning False, but in future this will result in an error. Use `array.size > 0` to check that an array is not empty.\n",
      "  if diff:\n"
     ]
    },
    {
     "name": "stdout",
     "output_type": "stream",
     "text": [
      "[CV]  gamma=0.5, colsample_bytree=0.6, subsample=1.0, min_child_weight=5, max_depth=4, score=0.609929 -   1.2s\n"
     ]
    },
    {
     "name": "stderr",
     "output_type": "stream",
     "text": [
      "[Parallel(n_jobs=4)]: Done  25 out of  25 | elapsed:   10.7s finished\n"
     ]
    },
    {
     "data": {
      "text/plain": [
       "RandomizedSearchCV(cv=5, error_score='raise',\n",
       "          estimator=XGBClassifier(base_score=0.5, booster='gbtree', colsample_bylevel=1,\n",
       "       colsample_bytree=1, gamma=0, learning_rate=0.02, max_delta_step=0,\n",
       "       max_depth=3, min_child_weight=1, missing=None, n_estimators=600,\n",
       "       n_jobs=1, nthread=1, num_class=4, objective='multi:softmax',\n",
       "       random_state=0, reg_alpha=0, reg_lambda=1, scale_pos_weight=1,\n",
       "       seed=None, silent=True, subsample=1),\n",
       "          fit_params={}, iid=True, n_iter=5, n_jobs=4,\n",
       "          param_distributions={'gamma': [0.5, 1, 1.5, 2, 5], 'colsample_bytree': [0.6, 0.8, 1.0], 'subsample': [0.6, 0.8, 1.0], 'min_child_weight': [1, 5, 10], 'max_depth': [3, 4, 5]},\n",
       "          pre_dispatch='2*n_jobs', random_state=1001, refit=True,\n",
       "          scoring='accuracy', verbose=3)"
      ]
     },
     "execution_count": 50,
     "metadata": {},
     "output_type": "execute_result"
    }
   ],
   "source": [
    "folds = 4\n",
    "param_comb = 5\n",
    "\n",
    "#skf = StratifiedKFold(y=folds, shuffle = True, random_state = 1001)\n",
    "\n",
    "random_search = RandomizedSearchCV(xgbc, param_distributions=params, n_iter=param_comb, scoring='accuracy', n_jobs=4, cv=5, verbose=3, random_state=1001 )\n",
    "\n",
    "# Here we go\n",
    "#start_time = timer(None) # timing starts from this point for \"start_time\" variable\n",
    "random_search.fit(sample[features], sample[target])\n",
    "#timer(start_time) # timing ends here for \"start_time\" variable"
   ]
  },
  {
   "cell_type": "code",
   "execution_count": null,
   "metadata": {
    "collapsed": true
   },
   "outputs": [],
   "source": []
  },
  {
   "cell_type": "code",
   "execution_count": null,
   "metadata": {
    "collapsed": true
   },
   "outputs": [],
   "source": []
  },
  {
   "cell_type": "code",
   "execution_count": 51,
   "metadata": {
    "collapsed": false
   },
   "outputs": [],
   "source": [
    "test = pd.read_csv('data_000000000007.csv')"
   ]
  },
  {
   "cell_type": "code",
   "execution_count": 52,
   "metadata": {
    "collapsed": false
   },
   "outputs": [
    {
     "data": {
      "text/html": [
       "<div>\n",
       "<table border=\"1\" class=\"dataframe\">\n",
       "  <thead>\n",
       "    <tr style=\"text-align: right;\">\n",
       "      <th></th>\n",
       "      <th>f0</th>\n",
       "      <th>f1</th>\n",
       "      <th>f2</th>\n",
       "      <th>f3</th>\n",
       "      <th>f4</th>\n",
       "      <th>f5</th>\n",
       "      <th>f6</th>\n",
       "      <th>f7</th>\n",
       "      <th>f8</th>\n",
       "      <th>f9</th>\n",
       "      <th>f10</th>\n",
       "      <th>f11</th>\n",
       "      <th>treatment</th>\n",
       "      <th>conversion</th>\n",
       "      <th>visit</th>\n",
       "      <th>exposure</th>\n",
       "    </tr>\n",
       "  </thead>\n",
       "  <tbody>\n",
       "    <tr>\n",
       "      <th>0</th>\n",
       "      <td>-0.179662</td>\n",
       "      <td>3.263641</td>\n",
       "      <td>9.187297</td>\n",
       "      <td>3.581365</td>\n",
       "      <td>3.506733</td>\n",
       "      <td>10.161281</td>\n",
       "      <td>-3.645030</td>\n",
       "      <td>-0.166689</td>\n",
       "      <td>-11.067974</td>\n",
       "      <td>9.850093</td>\n",
       "      <td>-1.8609</td>\n",
       "      <td>4.157648</td>\n",
       "      <td>1</td>\n",
       "      <td>0</td>\n",
       "      <td>0</td>\n",
       "      <td>0</td>\n",
       "    </tr>\n",
       "    <tr>\n",
       "      <th>1</th>\n",
       "      <td>1.569166</td>\n",
       "      <td>3.417861</td>\n",
       "      <td>8.782523</td>\n",
       "      <td>2.839861</td>\n",
       "      <td>3.506733</td>\n",
       "      <td>10.840586</td>\n",
       "      <td>-1.455483</td>\n",
       "      <td>-1.270076</td>\n",
       "      <td>-17.381754</td>\n",
       "      <td>15.228113</td>\n",
       "      <td>-1.8609</td>\n",
       "      <td>4.157648</td>\n",
       "      <td>1</td>\n",
       "      <td>0</td>\n",
       "      <td>1</td>\n",
       "      <td>0</td>\n",
       "    </tr>\n",
       "    <tr>\n",
       "      <th>2</th>\n",
       "      <td>-0.274570</td>\n",
       "      <td>3.263641</td>\n",
       "      <td>8.547123</td>\n",
       "      <td>3.735871</td>\n",
       "      <td>3.506733</td>\n",
       "      <td>10.161281</td>\n",
       "      <td>-0.606249</td>\n",
       "      <td>-0.166689</td>\n",
       "      <td>-17.455612</td>\n",
       "      <td>11.700187</td>\n",
       "      <td>-1.8609</td>\n",
       "      <td>4.157648</td>\n",
       "      <td>1</td>\n",
       "      <td>0</td>\n",
       "      <td>0</td>\n",
       "      <td>0</td>\n",
       "    </tr>\n",
       "    <tr>\n",
       "      <th>3</th>\n",
       "      <td>1.735415</td>\n",
       "      <td>3.263641</td>\n",
       "      <td>8.739826</td>\n",
       "      <td>3.317236</td>\n",
       "      <td>3.506733</td>\n",
       "      <td>10.161281</td>\n",
       "      <td>-2.491569</td>\n",
       "      <td>-0.166689</td>\n",
       "      <td>-21.012160</td>\n",
       "      <td>19.182694</td>\n",
       "      <td>-1.8609</td>\n",
       "      <td>4.157648</td>\n",
       "      <td>1</td>\n",
       "      <td>0</td>\n",
       "      <td>0</td>\n",
       "      <td>0</td>\n",
       "    </tr>\n",
       "    <tr>\n",
       "      <th>4</th>\n",
       "      <td>-1.016393</td>\n",
       "      <td>3.263641</td>\n",
       "      <td>9.085640</td>\n",
       "      <td>3.735871</td>\n",
       "      <td>3.506733</td>\n",
       "      <td>10.161281</td>\n",
       "      <td>-0.946781</td>\n",
       "      <td>-0.166689</td>\n",
       "      <td>-8.898590</td>\n",
       "      <td>9.850093</td>\n",
       "      <td>-1.8609</td>\n",
       "      <td>4.157648</td>\n",
       "      <td>1</td>\n",
       "      <td>0</td>\n",
       "      <td>0</td>\n",
       "      <td>0</td>\n",
       "    </tr>\n",
       "  </tbody>\n",
       "</table>\n",
       "</div>"
      ],
      "text/plain": [
       "         f0        f1        f2        f3        f4         f5        f6  \\\n",
       "0 -0.179662  3.263641  9.187297  3.581365  3.506733  10.161281 -3.645030   \n",
       "1  1.569166  3.417861  8.782523  2.839861  3.506733  10.840586 -1.455483   \n",
       "2 -0.274570  3.263641  8.547123  3.735871  3.506733  10.161281 -0.606249   \n",
       "3  1.735415  3.263641  8.739826  3.317236  3.506733  10.161281 -2.491569   \n",
       "4 -1.016393  3.263641  9.085640  3.735871  3.506733  10.161281 -0.946781   \n",
       "\n",
       "         f7         f8         f9     f10       f11  treatment  conversion  \\\n",
       "0 -0.166689 -11.067974   9.850093 -1.8609  4.157648          1           0   \n",
       "1 -1.270076 -17.381754  15.228113 -1.8609  4.157648          1           0   \n",
       "2 -0.166689 -17.455612  11.700187 -1.8609  4.157648          1           0   \n",
       "3 -0.166689 -21.012160  19.182694 -1.8609  4.157648          1           0   \n",
       "4 -0.166689  -8.898590   9.850093 -1.8609  4.157648          1           0   \n",
       "\n",
       "   visit  exposure  \n",
       "0      0         0  \n",
       "1      1         0  \n",
       "2      0         0  \n",
       "3      0         0  \n",
       "4      0         0  "
      ]
     },
     "execution_count": 52,
     "metadata": {},
     "output_type": "execute_result"
    }
   ],
   "source": [
    "test.head()"
   ]
  },
  {
   "cell_type": "code",
   "execution_count": 53,
   "metadata": {
    "collapsed": true
   },
   "outputs": [],
   "source": [
    "y_test = random_search.predict_proba(test[features])"
   ]
  },
  {
   "cell_type": "code",
   "execution_count": 54,
   "metadata": {
    "collapsed": false
   },
   "outputs": [
    {
     "data": {
      "text/plain": [
       "array([[0., 1.],\n",
       "       [0., 1.],\n",
       "       [0., 1.],\n",
       "       ...,\n",
       "       [0., 1.],\n",
       "       [0., 1.],\n",
       "       [0., 1.]], dtype=float32)"
      ]
     },
     "execution_count": 54,
     "metadata": {},
     "output_type": "execute_result"
    }
   ],
   "source": [
    "y_test"
   ]
  },
  {
   "cell_type": "code",
   "execution_count": 56,
   "metadata": {
    "collapsed": false
   },
   "outputs": [
    {
     "name": "stderr",
     "output_type": "stream",
     "text": [
      "/home/cbartondepaul/anaconda3/lib/python3.5/site-packages/sklearn/preprocessing/label.py:166: DeprecationWarning: The truth value of an empty array is ambiguous. Returning False, but in future this will result in an error. Use `array.size > 0` to check that an array is not empty.\n",
      "  if diff:\n"
     ]
    }
   ],
   "source": [
    "y_test_pred = random_search.predict(test[features])"
   ]
  },
  {
   "cell_type": "code",
   "execution_count": 57,
   "metadata": {
    "collapsed": false
   },
   "outputs": [
    {
     "data": {
      "text/plain": [
       "array(['10', '10', '10', ..., '10', '10', '10'], dtype=object)"
      ]
     },
     "execution_count": 57,
     "metadata": {},
     "output_type": "execute_result"
    }
   ],
   "source": [
    "y_test_pred"
   ]
  },
  {
   "cell_type": "code",
   "execution_count": 58,
   "metadata": {
    "collapsed": true
   },
   "outputs": [],
   "source": [
    "outcomes = {} #'00', '01', '10', '11']:\n",
    "    "
   ]
  },
  {
   "cell_type": "code",
   "execution_count": 59,
   "metadata": {
    "collapsed": false
   },
   "outputs": [],
   "source": [
    "i = 0 \n",
    "for pred in y_test_pred:\n",
    "    if pred not in outcomes:\n",
    "        outcomes[pred] = np.argmax(y_test[i])\n",
    "    else:\n",
    "        pass\n",
    "    i += 1"
   ]
  },
  {
   "cell_type": "code",
   "execution_count": 60,
   "metadata": {
    "collapsed": false
   },
   "outputs": [
    {
     "data": {
      "text/plain": [
       "{'01': 0, '10': 1}"
      ]
     },
     "execution_count": 60,
     "metadata": {},
     "output_type": "execute_result"
    }
   ],
   "source": [
    "outcomes"
   ]
  },
  {
   "cell_type": "code",
   "execution_count": null,
   "metadata": {
    "collapsed": false
   },
   "outputs": [],
   "source": [
    "from pylift.eval import UpliftEval\n"
   ]
  },
  {
   "cell_type": "code",
   "execution_count": null,
   "metadata": {
    "collapsed": false
   },
   "outputs": [],
   "source": [
    "upev = UpliftEval(test['treatment'], test['conversion'], y_test[:,1])"
   ]
  },
  {
   "cell_type": "code",
   "execution_count": null,
   "metadata": {
    "collapsed": false
   },
   "outputs": [],
   "source": [
    "upev.q1_qini"
   ]
  },
  {
   "cell_type": "code",
   "execution_count": null,
   "metadata": {
    "collapsed": false
   },
   "outputs": [],
   "source": [
    "upev.plot(plot_type='qini',show_practical_max=True, show_no_dogs=True)"
   ]
  },
  {
   "cell_type": "code",
   "execution_count": null,
   "metadata": {
    "collapsed": true
   },
   "outputs": [],
   "source": []
  }
 ],
 "metadata": {
  "kernelspec": {
   "display_name": "Python 3",
   "language": "python",
   "name": "python3"
  },
  "language_info": {
   "codemirror_mode": {
    "name": "ipython",
    "version": 3
   },
   "file_extension": ".py",
   "mimetype": "text/x-python",
   "name": "python",
   "nbconvert_exporter": "python",
   "pygments_lexer": "ipython3",
   "version": "3.5.4"
  }
 },
 "nbformat": 4,
 "nbformat_minor": 0
}
