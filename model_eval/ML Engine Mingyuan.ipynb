{
 "cells": [
  {
   "cell_type": "markdown",
   "metadata": {},
   "source": [
    "## Use Google Cloud ML Engine\n",
    "\n",
    "I used Google Cloud ML Engine to train uplift model for the entire dataset"
   ]
  },
  {
   "cell_type": "markdown",
   "metadata": {},
   "source": [
    "### Overview of Data"
   ]
  },
  {
   "cell_type": "code",
   "execution_count": 48,
   "metadata": {},
   "outputs": [
    {
     "name": "stderr",
     "output_type": "stream",
     "text": [
      "/usr/local/envs/py3env/lib/python3.5/site-packages/sklearn/cross_validation.py:41: DeprecationWarning: This module was deprecated in version 0.18 in favor of the model_selection module into which all the refactored classes and functions are moved. Also note that the interface of the new CV iterators are different from that of this module. This module will be removed in 0.20.\n",
      "  \"This module will be removed in 0.20.\", DeprecationWarning)\n"
     ]
    }
   ],
   "source": [
    "import datetime\n",
    "import os\n",
    "import subprocess\n",
    "import sys\n",
    "import json\n",
    "import xgboost\n",
    "from sklearn.externals import joblib\n",
    "from sklearn.ensemble import RandomForestClassifier\n",
    "from sklearn.svm import LinearSVC\n",
    "from sklearn.calibration import CalibratedClassifierCV\n",
    "from sklearn.linear_model import LogisticRegression\n",
    "from sklearn.model_selection import train_test_split\n",
    "from sklearn.metrics import accuracy_score\n",
    "import numpy as np\n",
    "import pandas as pd\n",
    "from sklearn.metrics import hamming_loss\n",
    "from sklearn.metrics import log_loss\n",
    "from IPython.display import clear_output\n",
    "from scipy import stats\n",
    "import matplotlib.pyplot as plt\n",
    "%matplotlib inline\n",
    "import seaborn as sns; sns.set()\n",
    "\n",
    "# Fill in your Cloud Storage bucket name\n",
    "BUCKET_NAME = 'capstone-project-229521'"
   ]
  },
  {
   "cell_type": "markdown",
   "metadata": {},
   "source": [
    "Loading data from Bucket directly is actually much faster than loading from Bigquery."
   ]
  },
  {
   "cell_type": "code",
   "execution_count": 18,
   "metadata": {},
   "outputs": [
    {
     "data": {
      "text/plain": [
       "0"
      ]
     },
     "execution_count": 18,
     "metadata": {},
     "output_type": "execute_result"
    }
   ],
   "source": [
    "uplift_data_filename = 'criteo-uplift.csv'\n",
    "data_dir = 'gs://capstone-project-229521/'\n",
    "\n",
    "# gsutil outputs everything to stderr so we need to divert it to stdout.\n",
    "subprocess.check_call(['gsutil', '-o', 'GSUtil:parallel_composite_upload_threshold=150M', 'cp', os.path.join(data_dir, uplift_data_filename), uplift_data_filename])"
   ]
  },
  {
   "cell_type": "code",
   "execution_count": 19,
   "metadata": {},
   "outputs": [],
   "source": [
    "# Load data into pandas\n",
    "uplift = pd.read_csv(uplift_data_filename)\n",
    "\n",
    "uplift = uplift.drop(['visit', 'exposure'], axis=1)"
   ]
  },
  {
   "cell_type": "code",
   "execution_count": 20,
   "metadata": {},
   "outputs": [
    {
     "data": {
      "text/html": [
       "<div>\n",
       "<style scoped>\n",
       "    .dataframe tbody tr th:only-of-type {\n",
       "        vertical-align: middle;\n",
       "    }\n",
       "\n",
       "    .dataframe tbody tr th {\n",
       "        vertical-align: top;\n",
       "    }\n",
       "\n",
       "    .dataframe thead th {\n",
       "        text-align: right;\n",
       "    }\n",
       "</style>\n",
       "<table border=\"1\" class=\"dataframe\">\n",
       "  <thead>\n",
       "    <tr style=\"text-align: right;\">\n",
       "      <th></th>\n",
       "      <th>f0</th>\n",
       "      <th>f1</th>\n",
       "      <th>f2</th>\n",
       "      <th>f3</th>\n",
       "      <th>f4</th>\n",
       "      <th>f5</th>\n",
       "      <th>f6</th>\n",
       "      <th>f7</th>\n",
       "      <th>f8</th>\n",
       "      <th>f9</th>\n",
       "      <th>f10</th>\n",
       "      <th>f11</th>\n",
       "      <th>treatment</th>\n",
       "      <th>conversion</th>\n",
       "    </tr>\n",
       "  </thead>\n",
       "  <tbody>\n",
       "    <tr>\n",
       "      <th>0</th>\n",
       "      <td>1.0</td>\n",
       "      <td>0.0</td>\n",
       "      <td>0.909820</td>\n",
       "      <td>1.0</td>\n",
       "      <td>0.0</td>\n",
       "      <td>0.0</td>\n",
       "      <td>1.0</td>\n",
       "      <td>1.0</td>\n",
       "      <td>0.951115</td>\n",
       "      <td>0.0</td>\n",
       "      <td>1.0</td>\n",
       "      <td>0.0</td>\n",
       "      <td>1.0</td>\n",
       "      <td>0.0</td>\n",
       "    </tr>\n",
       "    <tr>\n",
       "      <th>1</th>\n",
       "      <td>1.0</td>\n",
       "      <td>0.0</td>\n",
       "      <td>0.941173</td>\n",
       "      <td>1.0</td>\n",
       "      <td>0.0</td>\n",
       "      <td>0.0</td>\n",
       "      <td>1.0</td>\n",
       "      <td>1.0</td>\n",
       "      <td>0.951115</td>\n",
       "      <td>0.0</td>\n",
       "      <td>1.0</td>\n",
       "      <td>0.0</td>\n",
       "      <td>1.0</td>\n",
       "      <td>0.0</td>\n",
       "    </tr>\n",
       "    <tr>\n",
       "      <th>2</th>\n",
       "      <td>1.0</td>\n",
       "      <td>0.0</td>\n",
       "      <td>0.895906</td>\n",
       "      <td>1.0</td>\n",
       "      <td>0.0</td>\n",
       "      <td>0.0</td>\n",
       "      <td>1.0</td>\n",
       "      <td>1.0</td>\n",
       "      <td>0.951115</td>\n",
       "      <td>0.0</td>\n",
       "      <td>1.0</td>\n",
       "      <td>0.0</td>\n",
       "      <td>1.0</td>\n",
       "      <td>0.0</td>\n",
       "    </tr>\n",
       "    <tr>\n",
       "      <th>3</th>\n",
       "      <td>1.0</td>\n",
       "      <td>0.0</td>\n",
       "      <td>0.941306</td>\n",
       "      <td>1.0</td>\n",
       "      <td>0.0</td>\n",
       "      <td>0.0</td>\n",
       "      <td>1.0</td>\n",
       "      <td>1.0</td>\n",
       "      <td>0.951115</td>\n",
       "      <td>0.0</td>\n",
       "      <td>1.0</td>\n",
       "      <td>0.0</td>\n",
       "      <td>1.0</td>\n",
       "      <td>0.0</td>\n",
       "    </tr>\n",
       "    <tr>\n",
       "      <th>4</th>\n",
       "      <td>1.0</td>\n",
       "      <td>0.0</td>\n",
       "      <td>0.995832</td>\n",
       "      <td>1.0</td>\n",
       "      <td>0.0</td>\n",
       "      <td>0.0</td>\n",
       "      <td>1.0</td>\n",
       "      <td>1.0</td>\n",
       "      <td>0.951115</td>\n",
       "      <td>0.0</td>\n",
       "      <td>1.0</td>\n",
       "      <td>0.0</td>\n",
       "      <td>0.0</td>\n",
       "      <td>0.0</td>\n",
       "    </tr>\n",
       "  </tbody>\n",
       "</table>\n",
       "</div>"
      ],
      "text/plain": [
       "    f0   f1        f2   f3   f4   f5   f6   f7        f8   f9  f10  f11  \\\n",
       "0  1.0  0.0  0.909820  1.0  0.0  0.0  1.0  1.0  0.951115  0.0  1.0  0.0   \n",
       "1  1.0  0.0  0.941173  1.0  0.0  0.0  1.0  1.0  0.951115  0.0  1.0  0.0   \n",
       "2  1.0  0.0  0.895906  1.0  0.0  0.0  1.0  1.0  0.951115  0.0  1.0  0.0   \n",
       "3  1.0  0.0  0.941306  1.0  0.0  0.0  1.0  1.0  0.951115  0.0  1.0  0.0   \n",
       "4  1.0  0.0  0.995832  1.0  0.0  0.0  1.0  1.0  0.951115  0.0  1.0  0.0   \n",
       "\n",
       "   treatment  conversion  \n",
       "0        1.0         0.0  \n",
       "1        1.0         0.0  \n",
       "2        1.0         0.0  \n",
       "3        1.0         0.0  \n",
       "4        0.0         0.0  "
      ]
     },
     "execution_count": 20,
     "metadata": {},
     "output_type": "execute_result"
    }
   ],
   "source": [
    "# normalize\n",
    "df=(uplift-uplift.min())/(uplift.max()-uplift.min())\n",
    "df.head()"
   ]
  },
  {
   "cell_type": "code",
   "execution_count": null,
   "metadata": {},
   "outputs": [],
   "source": [
    "len(df)"
   ]
  },
  {
   "cell_type": "markdown",
   "metadata": {},
   "source": [
    "### Format data for prediction\n",
    "Create an input.json file with each input instance on a separate line. "
   ]
  },
  {
   "cell_type": "code",
   "execution_count": 21,
   "metadata": {},
   "outputs": [],
   "source": [
    "# split the data\n",
    "X_train, X_test, y_train, y_test = train_test_split(df[df.columns[:-1]], df[['treatment','conversion']], test_size=0.1, random_state=35)"
   ]
  },
  {
   "cell_type": "code",
   "execution_count": 104,
   "metadata": {},
   "outputs": [],
   "source": [
    "with open('input.json', 'w') as outfile:\n",
    "  json.dump(X_test.to_json(orient='values'), outfile)"
   ]
  },
  {
   "cell_type": "code",
   "execution_count": null,
   "metadata": {},
   "outputs": [],
   "source": []
  },
  {
   "cell_type": "code",
   "execution_count": null,
   "metadata": {},
   "outputs": [],
   "source": []
  },
  {
   "cell_type": "code",
   "execution_count": null,
   "metadata": {},
   "outputs": [],
   "source": []
  },
  {
   "cell_type": "markdown",
   "metadata": {},
   "source": [
    "### Write the cells out to Python files\n",
    "\n",
    "- We need to write python files for our model, and then submit it to the ML engine.\n",
    "- I used two-model approach since transformed outcome approach didn't show significant better performance."
   ]
  },
  {
   "cell_type": "markdown",
   "metadata": {},
   "source": [
    "* Random Forest\n",
    "\n",
    "First algorithm I tried is Random Forest"
   ]
  },
  {
   "cell_type": "code",
   "execution_count": 153,
   "metadata": {},
   "outputs": [
    {
     "name": "stdout",
     "output_type": "stream",
     "text": [
      "Overwriting trainer/uplift_randomforest.py\n"
     ]
    }
   ],
   "source": [
    "%writefile trainer/uplift_randomforest.py\n",
    "import datetime\n",
    "import os\n",
    "import subprocess\n",
    "import sys\n",
    "import numpy as np\n",
    "import pandas as pd\n",
    "from sklearn.externals import joblib\n",
    "from sklearn.ensemble import RandomForestClassifier\n",
    "from sklearn.model_selection import train_test_split\n",
    "#from sklearn.cross_validation import train_test_split\n",
    "\n",
    "# Fill in your Cloud Storage bucket name\n",
    "BUCKET_NAME = 'capstone-project-229521'\n",
    "\n",
    "uplift_data_filename = 'criteo-uplift.csv'\n",
    "data_dir = 'gs://capstone-project-229521/'\n",
    "\n",
    "# gsutil outputs everything to stderr so we need to divert it to stdout.\n",
    "subprocess.check_call(['gsutil', '-o', 'GSUtil:parallel_composite_upload_threshold=150M', 'cp', os.path.join(data_dir, uplift_data_filename), uplift_data_filename])\n",
    "\n",
    "# Load data into pandas, then use `.values` to get NumPy arrays\n",
    "uplift = pd.read_csv(uplift_data_filename)\n",
    "uplift = uplift.drop(['visit', 'exposure'], axis=1)\n",
    "\n",
    "# normalize\n",
    "df=(uplift-uplift.min())/(uplift.max()-uplift.min())\n",
    "\n",
    "# split the data\n",
    "X_train, X_test, y_train, y_test = train_test_split(df[df.columns[:-1]], df[['treatment','conversion']], stratify= df['conversion'], test_size=0.1, random_state=35)\n",
    "\n",
    "# Train the model\n",
    "clf = RandomForestClassifier(n_estimators=50, max_depth=69, min_samples_split=139)\n",
    "\n",
    "# treatment\n",
    "# fits on treatment group and predicts probability PT (Y = 1|X ) \n",
    "fit_t = clf.fit(X_train[X_train.columns[:-1]][X_train.treatment == 1], y_train['conversion'][y_train.treatment == 1])\n",
    "pt_pred = fit_t.predict_proba(X_test[X_train.columns[:-1]])[:,1]\n",
    "yt_pred = fit_t.predict(X_test[X_train.columns[:-1]])\n",
    "\n",
    "# control\n",
    "# fits on control group and predicts PC (Y = 1|X )\n",
    "fit_c = clf.fit(X_train[X_train.columns[:-1]][X_train.treatment == 0], y_train['conversion'][y_train.treatment == 0])\n",
    "pc_pred = fit_c.predict_proba(X_test[X_train.columns[:-1]])[:,1]\n",
    "yc_pred = fit_c.predict(X_test[X_train.columns[:-1]])\n",
    "\n",
    "# [START train-and-save-model]\n",
    "u = pt_pred - pc_pred\n",
    "test_df = y_test\n",
    "test_df['pt'] = pt_pred\n",
    "test_df['pc'] = pc_pred\n",
    "test_df['rf'] = u\n",
    "test_df['yt'] = yt_pred\n",
    "test_df['yc'] = yc_pred\n",
    "test_df['yt'] = test_df['yt'].astype(np.int64)\n",
    "test_df['yc'] = test_df['yc'].astype(np.int64)\n",
    "test_df['treatment'] = test_df['treatment'].astype(np.int64)\n",
    "test_df['conversion'] = test_df['conversion'].astype(np.int64)\n",
    "\n",
    "# Export the test  to a file\n",
    "model_filename = 'randomforest_test.joblib'\n",
    "joblib.dump(test_df, model_filename)\n",
    "# [END train-and-save-model]\n",
    "\n",
    "# [START upload-model]\n",
    "# Upload the saved model file to Cloud Storage\n",
    "gcs_model_path = os.path.join('gs://', BUCKET_NAME, model_filename)\n",
    "subprocess.check_call(['gsutil', 'cp', model_filename, gcs_model_path])\n",
    "# [END upload-model]"
   ]
  },
  {
   "cell_type": "code",
   "execution_count": 111,
   "metadata": {},
   "outputs": [
    {
     "name": "stdout",
     "output_type": "stream",
     "text": [
      "Overwriting trainer/uplift_xgboost.py\n"
     ]
    }
   ],
   "source": [
    "%writefile trainer/uplift_xgboost.py\n",
    "import datetime\n",
    "import os\n",
    "import subprocess\n",
    "import sys\n",
    "import numpy as np\n",
    "import pandas as pd\n",
    "from sklearn.externals import joblib\n",
    "import xgboost\n",
    "from sklearn.model_selection import train_test_split\n",
    "#from sklearn.cross_validation import train_test_split\n",
    "\n",
    "# Fill in your Cloud Storage bucket name\n",
    "BUCKET_NAME = 'capstone-project-229521'\n",
    "\n",
    "uplift_data_filename = 'criteo-uplift.csv'\n",
    "data_dir = 'gs://capstone-project-229521/'\n",
    "\n",
    "# gsutil outputs everything to stderr so we need to divert it to stdout.\n",
    "subprocess.check_call(['gsutil', '-o', 'GSUtil:parallel_composite_upload_threshold=150M', 'cp', os.path.join(data_dir, uplift_data_filename), uplift_data_filename])\n",
    "\n",
    "# Load data into pandas, then use `.values` to get NumPy arrays\n",
    "uplift = pd.read_csv(uplift_data_filename)\n",
    "uplift = uplift.drop(['visit', 'exposure'], axis=1)\n",
    "\n",
    "# normalize\n",
    "df=(uplift-uplift.min())/(uplift.max()-uplift.min())\n",
    "\n",
    "# split the data\n",
    "X_train, X_test, y_train, y_test = train_test_split(df[df.columns[:-1]], df[['treatment','conversion']], stratify= df['conversion'], test_size=0.1, random_state=35)\n",
    "\n",
    "\n",
    "spw_t = (y_train[y_train.treatment == 1]['conversion'].shape[0] - y_train[y_train.treatment == 1]['conversion'].sum()) / y_train[y_train.treatment == 1]['conversion'].sum()\n",
    "spw_c = (y_train[y_train.treatment == 0]['conversion'].shape[0] - y_train[y_train.treatment == 0]['conversion'].sum()) / y_train[y_train.treatment == 0]['conversion'].sum()\n",
    "\n",
    "# train model with balanced dataset \n",
    "clf_t= xgboost.XGBClassifier(scale_pos_weight=spw_t)\n",
    "clf_c= xgboost.XGBClassifier(scale_pos_weight=spw_c)\n",
    "\n",
    "# treatment\n",
    "# fits on treatment group and predicts probability PT (Y = 1|X ) \n",
    "fit_t = clf_t.fit(X_train[X_train.columns[:-1]][X_train.treatment == 1], y_train['conversion'][y_train.treatment == 1])\n",
    "pt_pred = fit_t.predict_proba(X_test[X_train.columns[:-1]])[:,1]\n",
    "yt_pred = fit_t.predict(X_test[X_train.columns[:-1]])\n",
    "\n",
    "# control\n",
    "# fits on control group and predicts PC (Y = 1|X )\n",
    "fit_c = clf_c.fit(X_train[X_train.columns[:-1]][X_train.treatment == 0], y_train['conversion'][y_train.treatment == 0])\n",
    "pc_pred = fit_c.predict_proba(X_test[X_train.columns[:-1]])[:,1]\n",
    "yc_pred = fit_c.predict(X_test[X_train.columns[:-1]])\n",
    "\n",
    "# [START train-and-save-model]\n",
    "u = pt_pred - pc_pred\n",
    "test_df = y_test\n",
    "test_df['pt'] = pt_pred\n",
    "test_df['pc'] = pc_pred\n",
    "test_df['xgb'] = u\n",
    "test_df['yt'] = yt_pred\n",
    "test_df['yc'] = yc_pred\n",
    "test_df['yt'] = test_df['yt'].astype(np.int64)\n",
    "test_df['yc'] = test_df['yc'].astype(np.int64)\n",
    "test_df['treatment'] = test_df['treatment'].astype(np.int64)\n",
    "test_df['conversion'] = test_df['conversion'].astype(np.int64)\n",
    "\n",
    "# Export the test  to a file\n",
    "model_filename = 'xgboost_test.joblib'\n",
    "joblib.dump(test_df, model_filename)\n",
    "# [END train-and-save-model]\n",
    "\n",
    "# [START upload-model]\n",
    "# Upload the saved model file to Cloud Storage\n",
    "gcs_model_path = os.path.join('gs://', BUCKET_NAME, model_filename)\n",
    "subprocess.check_call(['gsutil', 'cp', model_filename, gcs_model_path])\n",
    "# [END upload-model]"
   ]
  },
  {
   "cell_type": "code",
   "execution_count": 107,
   "metadata": {},
   "outputs": [
    {
     "name": "stdout",
     "output_type": "stream",
     "text": [
      "Overwriting trainer/uplift_svm.py\n"
     ]
    }
   ],
   "source": [
    "%writefile trainer/uplift_svm.py\n",
    "import datetime\n",
    "import os\n",
    "import subprocess\n",
    "import sys\n",
    "import numpy as np\n",
    "import pandas as pd\n",
    "from sklearn.externals import joblib\n",
    "from sklearn.svm import LinearSVC\n",
    "from sklearn.calibration import CalibratedClassifierCV\n",
    "from sklearn.model_selection import train_test_split\n",
    "#from sklearn.cross_validation import train_test_split\n",
    "\n",
    "# Fill in your Cloud Storage bucket name\n",
    "BUCKET_NAME = 'capstone-project-229521'\n",
    "\n",
    "uplift_data_filename = 'criteo-uplift.csv'\n",
    "data_dir = 'gs://capstone-project-229521/'\n",
    "\n",
    "# gsutil outputs everything to stderr so we need to divert it to stdout.\n",
    "subprocess.check_call(['gsutil', '-o', 'GSUtil:parallel_composite_upload_threshold=150M', 'cp', os.path.join(data_dir, uplift_data_filename), uplift_data_filename])\n",
    "\n",
    "# Load data into pandas, then use `.values` to get NumPy arrays\n",
    "uplift = pd.read_csv(uplift_data_filename)\n",
    "uplift = uplift.drop(['visit', 'exposure'], axis=1)\n",
    "\n",
    "# normalize\n",
    "df=(uplift-uplift.min())/(uplift.max()-uplift.min())\n",
    "\n",
    "# split the data\n",
    "X_train, X_test, y_train, y_test = train_test_split(df[df.columns[:-1]], df[['treatment','conversion']], stratify= df['conversion'], test_size=0.1, random_state=35)\n",
    "\n",
    "# Train the model\n",
    "svm = LinearSVC(random_state = 0, class_weight = 'balanced', dual=False, max_iter=10000)\n",
    "clf= CalibratedClassifierCV(svm)\n",
    "\n",
    "# treatment\n",
    "# fits on treatment group and predicts probability PT (Y = 1|X ) \n",
    "fit_t = clf.fit(X_train[X_train.columns[:-1]][X_train.treatment == 1], y_train['conversion'][y_train.treatment == 1])\n",
    "pt_pred = fit_t.predict_proba(X_test[X_train.columns[:-1]])[:,1]\n",
    "yt_pred = fit_t.predict(X_test[X_train.columns[:-1]])\n",
    "\n",
    "# control\n",
    "# fits on control group and predicts PC (Y = 1|X )\n",
    "fit_c = clf.fit(X_train[X_train.columns[:-1]][X_train.treatment == 0], y_train['conversion'][y_train.treatment == 0])\n",
    "pc_pred = fit_c.predict_proba(X_test[X_train.columns[:-1]])[:,1]\n",
    "yc_pred = fit_c.predict(X_test[X_train.columns[:-1]])\n",
    "\n",
    "# [START train-and-save-model]\n",
    "u = pt_pred - pc_pred\n",
    "test_df = y_test\n",
    "test_df['pt'] = pt_pred\n",
    "test_df['pc'] = pc_pred\n",
    "test_df['svm'] = u\n",
    "test_df['yt'] = yt_pred\n",
    "test_df['yc'] = yc_pred\n",
    "test_df['yt'] = test_df['yt'].astype(np.int64)\n",
    "test_df['yc'] = test_df['yc'].astype(np.int64)\n",
    "test_df['treatment'] = test_df['treatment'].astype(np.int64)\n",
    "test_df['conversion'] = test_df['conversion'].astype(np.int64)\n",
    "\n",
    "# Export the test  to a file\n",
    "model_filename = 'svm_test.joblib'\n",
    "joblib.dump(test_df, model_filename)\n",
    "# [END train-and-save-model]\n",
    "\n",
    "# [START upload-model]\n",
    "# Upload the saved model file to Cloud Storage\n",
    "gcs_model_path = os.path.join('gs://', BUCKET_NAME, model_filename)\n",
    "subprocess.check_call(['gsutil', 'cp', model_filename, gcs_model_path])\n",
    "# [END upload-model]"
   ]
  },
  {
   "cell_type": "markdown",
   "metadata": {},
   "source": [
    "* Logistic Regression"
   ]
  },
  {
   "cell_type": "code",
   "execution_count": 12,
   "metadata": {},
   "outputs": [
    {
     "name": "stdout",
     "output_type": "stream",
     "text": [
      "Overwriting trainer/uplift_logistic.py\n"
     ]
    }
   ],
   "source": [
    "%writefile trainer/uplift_logistic.py\n",
    "import datetime\n",
    "import os\n",
    "import subprocess\n",
    "import sys\n",
    "import numpy as np\n",
    "import pandas as pd\n",
    "from sklearn.externals import joblib\n",
    "from sklearn.linear_model import LogisticRegression\n",
    "from sklearn.model_selection import train_test_split\n",
    "#from sklearn.cross_validation import train_test_split\n",
    "\n",
    "# Fill in your Cloud Storage bucket name\n",
    "BUCKET_NAME = 'capstone-project-229521'\n",
    "\n",
    "uplift_data_filename = 'criteo-uplift.csv'\n",
    "data_dir = 'gs://capstone-project-229521/'\n",
    "\n",
    "# gsutil outputs everything to stderr so we need to divert it to stdout.\n",
    "subprocess.check_call(['gsutil', '-o', 'GSUtil:parallel_composite_upload_threshold=150M', 'cp', os.path.join(data_dir, uplift_data_filename), uplift_data_filename])\n",
    "\n",
    "# Load data into pandas, then use `.values` to get NumPy arrays\n",
    "uplift = pd.read_csv(uplift_data_filename)\n",
    "\n",
    "uplift = uplift.drop(['visit', 'exposure'], axis=1)\n",
    "\n",
    "# normalize\n",
    "df=(uplift-uplift.min())/(uplift.max()-uplift.min())\n",
    "\n",
    "# split the data\n",
    "X_train, X_test, y_train, y_test = train_test_split(df[df.columns[:-1]], df[['treatment','conversion']], stratify= df['conversion'], test_size=0.1, random_state=35)\n",
    "\n",
    "# Train the model\n",
    "clf = LogisticRegression()\n",
    "\n",
    "# treatment\n",
    "# fits on treatment group and predicts probability PT (Y = 1|X ) \n",
    "fit_t = clf.fit(X_train[X_train.columns[:-1]][X_train.treatment == 1], y_train['conversion'][y_train.treatment == 1])\n",
    "pt_pred = fit_t.predict_proba(X_test[X_train.columns[:-1]])[:,1]\n",
    "yt_pred = fit_t.predict(X_test[X_train.columns[:-1]])\n",
    "\n",
    "# control\n",
    "# fits on control group and predicts PC (Y = 1|X )\n",
    "fit_c = clf.fit(X_train[X_train.columns[:-1]][X_train.treatment == 0], y_train['conversion'][y_train.treatment == 0])\n",
    "pc_pred = fit_c.predict_proba(X_test[X_train.columns[:-1]])[:,1]\n",
    "yc_pred = fit_c.predict(X_test[X_train.columns[:-1]])\n",
    "\n",
    "# [START train-and-save-model]\n",
    "u = pt_pred - pc_pred\n",
    "test_df = y_test\n",
    "test_df['pt'] = pt_pred\n",
    "test_df['pc'] = pc_pred\n",
    "test_df['lg'] = u\n",
    "test_df['yt'] = yt_pred\n",
    "test_df['yc'] = yc_pred\n",
    "test_df['yt'] = test_df['yt'].astype(np.int64)\n",
    "test_df['yc'] = test_df['yc'].astype(np.int64)\n",
    "test_df['treatment'] = test_df['treatment'].astype(np.int64)\n",
    "test_df['conversion'] = test_df['conversion'].astype(np.int64)\n",
    "\n",
    "# Export the test  to a file\n",
    "model_filename = 'logistic_test.joblib'\n",
    "joblib.dump(test_df, model_filename)\n",
    "# [END train-and-save-model]\n",
    "\n",
    "# [START upload-model]\n",
    "# Upload the saved model file to Cloud Storage\n",
    "gcs_model_path = os.path.join('gs://', BUCKET_NAME, model_filename)\n",
    "subprocess.check_call(['gsutil', 'cp', model_filename, gcs_model_path])\n",
    "# [END upload-model]"
   ]
  },
  {
   "cell_type": "markdown",
   "metadata": {},
   "source": [
    "- This step is to configure our trainning model due to the large input size."
   ]
  },
  {
   "cell_type": "code",
   "execution_count": 35,
   "metadata": {},
   "outputs": [
    {
     "name": "stdout",
     "output_type": "stream",
     "text": [
      "Overwriting config.yaml\n"
     ]
    }
   ],
   "source": [
    "%writefile config.yaml\n",
    "trainingInput:\n",
    "  scaleTier: CUSTOM\n",
    "  masterType: complex_model_l"
   ]
  },
  {
   "cell_type": "code",
   "execution_count": 134,
   "metadata": {},
   "outputs": [
    {
     "name": "stdout",
     "output_type": "stream",
     "text": [
      "Writing config2.yaml\n"
     ]
    }
   ],
   "source": [
    "%writefile config2.yaml\n",
    "trainingInput:\n",
    "  scaleTier: CUSTOM\n",
    "  masterType: complex_model_l\n",
    "  workerType: complex_model_l\n",
    "  parameterServerType: large_model\n",
    "  workerCount: 9\n",
    "  parameterServerCount: 3"
   ]
  },
  {
   "cell_type": "markdown",
   "metadata": {},
   "source": [
    "- Now we can sumbit the Google Cloud ML Engine jobs"
   ]
  },
  {
   "cell_type": "code",
   "execution_count": 81,
   "metadata": {},
   "outputs": [
    {
     "name": "stdout",
     "output_type": "stream",
     "text": [
      "jobId: uplift_random_forest_20190222_180755\n",
      "state: QUEUED\n"
     ]
    },
    {
     "name": "stderr",
     "output_type": "stream",
     "text": [
      "Job [uplift_random_forest_20190222_180755] submitted successfully.\n",
      "Your job is still active. You may view the status of your job with the command\n",
      "\n",
      "  $ gcloud ml-engine jobs describe uplift_random_forest_20190222_180755\n",
      "\n",
      "or continue streaming the logs with the command\n",
      "\n",
      "  $ gcloud ml-engine jobs stream-logs uplift_random_forest_20190222_180755\n"
     ]
    }
   ],
   "source": [
    "%bash\n",
    "\n",
    "JOB_NAME=\"uplift_random_forest_$(date +\"%Y%m%d_%H%M%S\")\"\n",
    "JOB_DIR=gs://capstone-project-229521/random_forest_job_dir\n",
    "TRAINING_PACKAGE_PATH=\"./trainer/\"\n",
    "MAIN_TRAINER_MODULE=\"trainer.uplift_randomforest\"\n",
    "REGION=us-central1\n",
    "RUNTIME_VERSION=1.12\n",
    "PYTHON_VERSION=2.7\n",
    "SCALE_TIER=BASIC\n",
    "\n",
    "gcloud ml-engine jobs submit training $JOB_NAME \\\n",
    "  --job-dir $JOB_DIR \\\n",
    "  --package-path $TRAINING_PACKAGE_PATH \\\n",
    "  --module-name $MAIN_TRAINER_MODULE \\\n",
    "  --region $REGION \\\n",
    "  --runtime-version=$RUNTIME_VERSION \\\n",
    "  --python-version=$PYTHON_VERSION \\\n",
    "  --config config.yaml \\\n",
    "  -- \\\n",
    "  --user_first_arg=first_arg_value \\\n",
    "  --user_second_arg=second_arg_value"
   ]
  },
  {
   "cell_type": "code",
   "execution_count": 93,
   "metadata": {},
   "outputs": [
    {
     "name": "stdout",
     "output_type": "stream",
     "text": [
      "jobId: uplift_logistic_20190222_194732\n",
      "state: QUEUED\n"
     ]
    },
    {
     "name": "stderr",
     "output_type": "stream",
     "text": [
      "Job [uplift_logistic_20190222_194732] submitted successfully.\n",
      "Your job is still active. You may view the status of your job with the command\n",
      "\n",
      "  $ gcloud ml-engine jobs describe uplift_logistic_20190222_194732\n",
      "\n",
      "or continue streaming the logs with the command\n",
      "\n",
      "  $ gcloud ml-engine jobs stream-logs uplift_logistic_20190222_194732\n"
     ]
    }
   ],
   "source": [
    "%bash\n",
    "\n",
    "JOB_NAME=\"uplift_logistic_$(date +\"%Y%m%d_%H%M%S\")\"\n",
    "JOB_DIR=gs://capstone-project-229521/random_forest_job_dir\n",
    "TRAINING_PACKAGE_PATH=\"./trainer/\"\n",
    "MAIN_TRAINER_MODULE=\"trainer.uplift_rf_clf\"\n",
    "REGION=us-central1\n",
    "RUNTIME_VERSION=1.12\n",
    "PYTHON_VERSION=2.7\n",
    "\n",
    "gcloud ml-engine jobs submit training $JOB_NAME \\\n",
    "  --job-dir $JOB_DIR \\\n",
    "  --package-path $TRAINING_PACKAGE_PATH \\\n",
    "  --module-name $MAIN_TRAINER_MODULE \\\n",
    "  --region $REGION \\\n",
    "  --runtime-version=$RUNTIME_VERSION \\\n",
    "  --python-version=$PYTHON_VERSION \\\n",
    "  --config config.yaml \\\n",
    "  -- \\\n",
    "  --user_first_arg=first_arg_value \\\n",
    "  --user_second_arg=second_arg_value"
   ]
  },
  {
   "cell_type": "code",
   "execution_count": null,
   "metadata": {},
   "outputs": [],
   "source": []
  },
  {
   "cell_type": "code",
   "execution_count": null,
   "metadata": {},
   "outputs": [],
   "source": []
  },
  {
   "cell_type": "code",
   "execution_count": 133,
   "metadata": {},
   "outputs": [
    {
     "name": "stdout",
     "output_type": "stream",
     "text": [
      "jobId: uplift_logistic_20190222_204352\n",
      "state: QUEUED\n"
     ]
    },
    {
     "name": "stderr",
     "output_type": "stream",
     "text": [
      "Job [uplift_logistic_20190222_204352] submitted successfully.\n",
      "Your job is still active. You may view the status of your job with the command\n",
      "\n",
      "  $ gcloud ml-engine jobs describe uplift_logistic_20190222_204352\n",
      "\n",
      "or continue streaming the logs with the command\n",
      "\n",
      "  $ gcloud ml-engine jobs stream-logs uplift_logistic_20190222_204352\n"
     ]
    }
   ],
   "source": [
    "%bash\n",
    "\n",
    "JOB_NAME=\"uplift_logistic_$(date +\"%Y%m%d_%H%M%S\")\"\n",
    "JOB_DIR=gs://capstone-project-229521/random_forest_job_dir\n",
    "TRAINING_PACKAGE_PATH=\"./trainer/\"\n",
    "MAIN_TRAINER_MODULE=\"trainer.uplift_logistic\"\n",
    "REGION=us-central1\n",
    "RUNTIME_VERSION=1.12\n",
    "PYTHON_VERSION=2.7\n",
    "\n",
    "gcloud ml-engine jobs submit training $JOB_NAME \\\n",
    "  --job-dir $JOB_DIR \\\n",
    "  --package-path $TRAINING_PACKAGE_PATH \\\n",
    "  --module-name $MAIN_TRAINER_MODULE \\\n",
    "  --region $REGION \\\n",
    "  --runtime-version=$RUNTIME_VERSION \\\n",
    "  --python-version=$PYTHON_VERSION \\\n",
    "  --config config.yaml \\\n",
    "  -- \\\n",
    "  --user_first_arg=first_arg_value \\\n",
    "  --user_second_arg=second_arg_value"
   ]
  },
  {
   "cell_type": "code",
   "execution_count": 19,
   "metadata": {},
   "outputs": [
    {
     "name": "stdout",
     "output_type": "stream",
     "text": [
      "jobId: uplift_xgboost_worker2\n",
      "state: QUEUED\n"
     ]
    },
    {
     "name": "stderr",
     "output_type": "stream",
     "text": [
      "Job [uplift_xgboost_worker2] submitted successfully.\n",
      "Your job is still active. You may view the status of your job with the command\n",
      "\n",
      "  $ gcloud ml-engine jobs describe uplift_xgboost_worker2\n",
      "\n",
      "or continue streaming the logs with the command\n",
      "\n",
      "  $ gcloud ml-engine jobs stream-logs uplift_xgboost_worker2\n"
     ]
    }
   ],
   "source": [
    "%bash\n",
    "\n",
    "JOB_NAME=\"uplift_xgboost_worker2\"\n",
    "JOB_DIR=gs://capstone-project-229521/random_forest_job_dir\n",
    "TRAINING_PACKAGE_PATH=\"./trainer/\"\n",
    "MAIN_TRAINER_MODULE=\"trainer.uplift_xgboost\"\n",
    "REGION=us-central1\n",
    "RUNTIME_VERSION=1.12\n",
    "PYTHON_VERSION=2.7\n",
    "\n",
    "gcloud ml-engine jobs submit training $JOB_NAME \\\n",
    "  --job-dir $JOB_DIR \\\n",
    "  --package-path $TRAINING_PACKAGE_PATH \\\n",
    "  --module-name $MAIN_TRAINER_MODULE \\\n",
    "  --region $REGION \\\n",
    "  --runtime-version=$RUNTIME_VERSION \\\n",
    "  --python-version=$PYTHON_VERSION \\\n",
    "  --config config2.yaml \\\n",
    "  -- \\\n",
    "  --user_first_arg=first_arg_value \\\n",
    "  --user_second_arg=second_arg_value"
   ]
  },
  {
   "cell_type": "code",
   "execution_count": 154,
   "metadata": {},
   "outputs": [
    {
     "name": "stdout",
     "output_type": "stream",
     "text": [
      "jobId: uplift_randomforest_worker4\n",
      "state: QUEUED\n"
     ]
    },
    {
     "name": "stderr",
     "output_type": "stream",
     "text": [
      "Job [uplift_randomforest_worker4] submitted successfully.\n",
      "Your job is still active. You may view the status of your job with the command\n",
      "\n",
      "  $ gcloud ml-engine jobs describe uplift_randomforest_worker4\n",
      "\n",
      "or continue streaming the logs with the command\n",
      "\n",
      "  $ gcloud ml-engine jobs stream-logs uplift_randomforest_worker4\n"
     ]
    }
   ],
   "source": [
    "%bash\n",
    "\n",
    "JOB_NAME=\"uplift_randomforest_worker4\"\n",
    "JOB_DIR=gs://capstone-project-229521/random_forest_job_dir\n",
    "TRAINING_PACKAGE_PATH=\"./trainer/\"\n",
    "MAIN_TRAINER_MODULE=\"trainer.uplift_randomforest\"\n",
    "REGION=us-central1\n",
    "RUNTIME_VERSION=1.12\n",
    "PYTHON_VERSION=2.7\n",
    "\n",
    "gcloud ml-engine jobs submit training $JOB_NAME \\\n",
    "  --job-dir $JOB_DIR \\\n",
    "  --package-path $TRAINING_PACKAGE_PATH \\\n",
    "  --module-name $MAIN_TRAINER_MODULE \\\n",
    "  --region $REGION \\\n",
    "  --runtime-version=$RUNTIME_VERSION \\\n",
    "  --python-version=$PYTHON_VERSION \\\n",
    "  --config config2.yaml \\\n",
    "  -- \\\n",
    "  --user_first_arg=first_arg_value \\\n",
    "  --user_second_arg=second_arg_value"
   ]
  },
  {
   "cell_type": "markdown",
   "metadata": {},
   "source": [
    "## Prediction"
   ]
  },
  {
   "cell_type": "markdown",
   "metadata": {},
   "source": [
    "Actually, we do not need to use gcloud ml-engine predict for the project."
   ]
  },
  {
   "cell_type": "code",
   "execution_count": null,
   "metadata": {},
   "outputs": [],
   "source": [
    "gcloud ml-engine models create \"[YOUR-MODEL-NAME]\"\n",
    "\n",
    "MODEL_DIR=\"gs://your_bucket_name/\"\n",
    "VERSION_NAME=\"[YOUR-VERSION-NAME]\"\n",
    "MODEL_NAME=\"[YOUR-MODEL-NAME]\"\n",
    "FRAMEWORK=\"SCIKIT_LEARN\"\n",
    "\n",
    "gcloud ml-engine versions create $VERSION_NAME \\\n",
    "    --model $MODEL_NAME --origin $MODEL_DIR \\\n",
    "    --runtime-version=1.12 --framework $FRAMEWORK \\\n",
    "    --python-version=3.5\n",
    "\n",
    "gcloud ml-engine versions describe $VERSION_NAME \\\n",
    "    --model $MODEL_NAME\n",
    "\n",
    "MODEL_NAME=\"[YOUR-MODEL-NAME]\"\n",
    "VERSION_NAME=\"[YOUR-VERSION-NAME]\"\n",
    "INPUT_FILE=\"input.json\"\n",
    "\n",
    "gcloud ml-engine predict --model $MODEL_NAME --version \\\n",
    "  $VERSION_NAME --json-instances $INPUT_FILE"
   ]
  },
  {
   "cell_type": "code",
   "execution_count": null,
   "metadata": {},
   "outputs": [],
   "source": []
  },
  {
   "cell_type": "markdown",
   "metadata": {},
   "source": [
    "## Results\n",
    "\n",
    "As long as we obtained the resulting files from gcloud ml-engine, we can draw the uplift curve and evaluate the qini measures."
   ]
  },
  {
   "cell_type": "markdown",
   "metadata": {},
   "source": [
    "### Combine the Results\n",
    "\n",
    "- I used stratified random train/test splits.\n",
    "- Maybe we can do 30 stratified random splits, and obtain the average."
   ]
  },
  {
   "cell_type": "code",
   "execution_count": 53,
   "metadata": {},
   "outputs": [
    {
     "data": {
      "text/plain": [
       "0"
      ]
     },
     "execution_count": 53,
     "metadata": {},
     "output_type": "execute_result"
    }
   ],
   "source": [
    "# Load in rogistic regression results\n",
    "BUCKET_NAME = 'capstone-project-229521'\n",
    "\n",
    "test_model = 'logistic_test.joblib'\n",
    "data_dir = 'gs://capstone-project-229521/'\n",
    "\n",
    "# gsutil outputs everything to stderr so we need to divert it to stdout.\n",
    "subprocess.check_call(['gsutil', 'cp', os.path.join(data_dir, test_model), test_model])"
   ]
  },
  {
   "cell_type": "code",
   "execution_count": 54,
   "metadata": {},
   "outputs": [
    {
     "data": {
      "text/html": [
       "<div>\n",
       "<style scoped>\n",
       "    .dataframe tbody tr th:only-of-type {\n",
       "        vertical-align: middle;\n",
       "    }\n",
       "\n",
       "    .dataframe tbody tr th {\n",
       "        vertical-align: top;\n",
       "    }\n",
       "\n",
       "    .dataframe thead th {\n",
       "        text-align: right;\n",
       "    }\n",
       "</style>\n",
       "<table border=\"1\" class=\"dataframe\">\n",
       "  <thead>\n",
       "    <tr style=\"text-align: right;\">\n",
       "      <th></th>\n",
       "      <th>treatment</th>\n",
       "      <th>conversion</th>\n",
       "      <th>pt</th>\n",
       "      <th>pc</th>\n",
       "      <th>lg</th>\n",
       "      <th>yt</th>\n",
       "      <th>yc</th>\n",
       "    </tr>\n",
       "  </thead>\n",
       "  <tbody>\n",
       "    <tr>\n",
       "      <th>10413941</th>\n",
       "      <td>0</td>\n",
       "      <td>0</td>\n",
       "      <td>0.001044</td>\n",
       "      <td>0.001231</td>\n",
       "      <td>-0.000187</td>\n",
       "      <td>0</td>\n",
       "      <td>0</td>\n",
       "    </tr>\n",
       "    <tr>\n",
       "      <th>16893334</th>\n",
       "      <td>1</td>\n",
       "      <td>0</td>\n",
       "      <td>0.000273</td>\n",
       "      <td>0.000172</td>\n",
       "      <td>0.000101</td>\n",
       "      <td>0</td>\n",
       "      <td>0</td>\n",
       "    </tr>\n",
       "    <tr>\n",
       "      <th>9072123</th>\n",
       "      <td>1</td>\n",
       "      <td>0</td>\n",
       "      <td>0.000796</td>\n",
       "      <td>0.000522</td>\n",
       "      <td>0.000274</td>\n",
       "      <td>0</td>\n",
       "      <td>0</td>\n",
       "    </tr>\n",
       "    <tr>\n",
       "      <th>9143938</th>\n",
       "      <td>1</td>\n",
       "      <td>0</td>\n",
       "      <td>0.000630</td>\n",
       "      <td>0.000573</td>\n",
       "      <td>0.000057</td>\n",
       "      <td>0</td>\n",
       "      <td>0</td>\n",
       "    </tr>\n",
       "    <tr>\n",
       "      <th>4462152</th>\n",
       "      <td>1</td>\n",
       "      <td>0</td>\n",
       "      <td>0.001044</td>\n",
       "      <td>0.001231</td>\n",
       "      <td>-0.000187</td>\n",
       "      <td>0</td>\n",
       "      <td>0</td>\n",
       "    </tr>\n",
       "  </tbody>\n",
       "</table>\n",
       "</div>"
      ],
      "text/plain": [
       "          treatment  conversion        pt        pc        lg  yt  yc\n",
       "10413941          0           0  0.001044  0.001231 -0.000187   0   0\n",
       "16893334          1           0  0.000273  0.000172  0.000101   0   0\n",
       "9072123           1           0  0.000796  0.000522  0.000274   0   0\n",
       "9143938           1           0  0.000630  0.000573  0.000057   0   0\n",
       "4462152           1           0  0.001044  0.001231 -0.000187   0   0"
      ]
     },
     "execution_count": 54,
     "metadata": {},
     "output_type": "execute_result"
    }
   ],
   "source": [
    "lg_df = joblib.load(test_model)\n",
    "lg_df.head()"
   ]
  },
  {
   "cell_type": "code",
   "execution_count": 55,
   "metadata": {},
   "outputs": [
    {
     "data": {
      "text/plain": [
       "0"
      ]
     },
     "execution_count": 55,
     "metadata": {},
     "output_type": "execute_result"
    }
   ],
   "source": [
    "# Load in random forest results\n",
    "test_model = 'randomforest_test.joblib'\n",
    "\n",
    "# gsutil outputs everything to stderr so we need to divert it to stdout.\n",
    "subprocess.check_call(['gsutil', 'cp', os.path.join(data_dir, test_model), test_model])"
   ]
  },
  {
   "cell_type": "code",
   "execution_count": 56,
   "metadata": {},
   "outputs": [
    {
     "data": {
      "text/html": [
       "<div>\n",
       "<style scoped>\n",
       "    .dataframe tbody tr th:only-of-type {\n",
       "        vertical-align: middle;\n",
       "    }\n",
       "\n",
       "    .dataframe tbody tr th {\n",
       "        vertical-align: top;\n",
       "    }\n",
       "\n",
       "    .dataframe thead th {\n",
       "        text-align: right;\n",
       "    }\n",
       "</style>\n",
       "<table border=\"1\" class=\"dataframe\">\n",
       "  <thead>\n",
       "    <tr style=\"text-align: right;\">\n",
       "      <th></th>\n",
       "      <th>treatment</th>\n",
       "      <th>conversion</th>\n",
       "      <th>pt</th>\n",
       "      <th>pc</th>\n",
       "      <th>rf</th>\n",
       "      <th>yt</th>\n",
       "      <th>yc</th>\n",
       "    </tr>\n",
       "  </thead>\n",
       "  <tbody>\n",
       "    <tr>\n",
       "      <th>10413941</th>\n",
       "      <td>0</td>\n",
       "      <td>0</td>\n",
       "      <td>0.001342</td>\n",
       "      <td>0.001786</td>\n",
       "      <td>-0.000444</td>\n",
       "      <td>0</td>\n",
       "      <td>0</td>\n",
       "    </tr>\n",
       "    <tr>\n",
       "      <th>16893334</th>\n",
       "      <td>1</td>\n",
       "      <td>0</td>\n",
       "      <td>0.000000</td>\n",
       "      <td>0.000114</td>\n",
       "      <td>-0.000114</td>\n",
       "      <td>0</td>\n",
       "      <td>0</td>\n",
       "    </tr>\n",
       "    <tr>\n",
       "      <th>9072123</th>\n",
       "      <td>1</td>\n",
       "      <td>0</td>\n",
       "      <td>0.000932</td>\n",
       "      <td>0.002119</td>\n",
       "      <td>-0.001187</td>\n",
       "      <td>0</td>\n",
       "      <td>0</td>\n",
       "    </tr>\n",
       "    <tr>\n",
       "      <th>9143938</th>\n",
       "      <td>1</td>\n",
       "      <td>0</td>\n",
       "      <td>0.000000</td>\n",
       "      <td>0.000000</td>\n",
       "      <td>0.000000</td>\n",
       "      <td>0</td>\n",
       "      <td>0</td>\n",
       "    </tr>\n",
       "    <tr>\n",
       "      <th>4462152</th>\n",
       "      <td>1</td>\n",
       "      <td>0</td>\n",
       "      <td>0.001342</td>\n",
       "      <td>0.001786</td>\n",
       "      <td>-0.000444</td>\n",
       "      <td>0</td>\n",
       "      <td>0</td>\n",
       "    </tr>\n",
       "  </tbody>\n",
       "</table>\n",
       "</div>"
      ],
      "text/plain": [
       "          treatment  conversion        pt        pc        rf  yt  yc\n",
       "10413941          0           0  0.001342  0.001786 -0.000444   0   0\n",
       "16893334          1           0  0.000000  0.000114 -0.000114   0   0\n",
       "9072123           1           0  0.000932  0.002119 -0.001187   0   0\n",
       "9143938           1           0  0.000000  0.000000  0.000000   0   0\n",
       "4462152           1           0  0.001342  0.001786 -0.000444   0   0"
      ]
     },
     "execution_count": 56,
     "metadata": {},
     "output_type": "execute_result"
    }
   ],
   "source": [
    "rf_df = joblib.load(test_model)\n",
    "rf_df.head()"
   ]
  },
  {
   "cell_type": "code",
   "execution_count": 57,
   "metadata": {},
   "outputs": [
    {
     "data": {
      "text/html": [
       "<div>\n",
       "<style scoped>\n",
       "    .dataframe tbody tr th:only-of-type {\n",
       "        vertical-align: middle;\n",
       "    }\n",
       "\n",
       "    .dataframe tbody tr th {\n",
       "        vertical-align: top;\n",
       "    }\n",
       "\n",
       "    .dataframe thead th {\n",
       "        text-align: right;\n",
       "    }\n",
       "</style>\n",
       "<table border=\"1\" class=\"dataframe\">\n",
       "  <thead>\n",
       "    <tr style=\"text-align: right;\">\n",
       "      <th></th>\n",
       "      <th>treatment_lg</th>\n",
       "      <th>conversion_lg</th>\n",
       "      <th>pt_lg</th>\n",
       "      <th>pc_lg</th>\n",
       "      <th>lg</th>\n",
       "      <th>yt_lg</th>\n",
       "      <th>yc_lg</th>\n",
       "      <th>treatment_rf</th>\n",
       "      <th>conversion_rf</th>\n",
       "      <th>pt_rf</th>\n",
       "      <th>pc_rf</th>\n",
       "      <th>rf</th>\n",
       "      <th>yt_rf</th>\n",
       "      <th>yc_rf</th>\n",
       "    </tr>\n",
       "  </thead>\n",
       "  <tbody>\n",
       "    <tr>\n",
       "      <th>10413941</th>\n",
       "      <td>0</td>\n",
       "      <td>0</td>\n",
       "      <td>0.001044</td>\n",
       "      <td>0.001231</td>\n",
       "      <td>-0.000187</td>\n",
       "      <td>0</td>\n",
       "      <td>0</td>\n",
       "      <td>0</td>\n",
       "      <td>0</td>\n",
       "      <td>0.001342</td>\n",
       "      <td>0.001786</td>\n",
       "      <td>-0.000444</td>\n",
       "      <td>0</td>\n",
       "      <td>0</td>\n",
       "    </tr>\n",
       "    <tr>\n",
       "      <th>16893334</th>\n",
       "      <td>1</td>\n",
       "      <td>0</td>\n",
       "      <td>0.000273</td>\n",
       "      <td>0.000172</td>\n",
       "      <td>0.000101</td>\n",
       "      <td>0</td>\n",
       "      <td>0</td>\n",
       "      <td>1</td>\n",
       "      <td>0</td>\n",
       "      <td>0.000000</td>\n",
       "      <td>0.000114</td>\n",
       "      <td>-0.000114</td>\n",
       "      <td>0</td>\n",
       "      <td>0</td>\n",
       "    </tr>\n",
       "    <tr>\n",
       "      <th>9072123</th>\n",
       "      <td>1</td>\n",
       "      <td>0</td>\n",
       "      <td>0.000796</td>\n",
       "      <td>0.000522</td>\n",
       "      <td>0.000274</td>\n",
       "      <td>0</td>\n",
       "      <td>0</td>\n",
       "      <td>1</td>\n",
       "      <td>0</td>\n",
       "      <td>0.000932</td>\n",
       "      <td>0.002119</td>\n",
       "      <td>-0.001187</td>\n",
       "      <td>0</td>\n",
       "      <td>0</td>\n",
       "    </tr>\n",
       "    <tr>\n",
       "      <th>9143938</th>\n",
       "      <td>1</td>\n",
       "      <td>0</td>\n",
       "      <td>0.000630</td>\n",
       "      <td>0.000573</td>\n",
       "      <td>0.000057</td>\n",
       "      <td>0</td>\n",
       "      <td>0</td>\n",
       "      <td>1</td>\n",
       "      <td>0</td>\n",
       "      <td>0.000000</td>\n",
       "      <td>0.000000</td>\n",
       "      <td>0.000000</td>\n",
       "      <td>0</td>\n",
       "      <td>0</td>\n",
       "    </tr>\n",
       "    <tr>\n",
       "      <th>4462152</th>\n",
       "      <td>1</td>\n",
       "      <td>0</td>\n",
       "      <td>0.001044</td>\n",
       "      <td>0.001231</td>\n",
       "      <td>-0.000187</td>\n",
       "      <td>0</td>\n",
       "      <td>0</td>\n",
       "      <td>1</td>\n",
       "      <td>0</td>\n",
       "      <td>0.001342</td>\n",
       "      <td>0.001786</td>\n",
       "      <td>-0.000444</td>\n",
       "      <td>0</td>\n",
       "      <td>0</td>\n",
       "    </tr>\n",
       "  </tbody>\n",
       "</table>\n",
       "</div>"
      ],
      "text/plain": [
       "          treatment_lg  conversion_lg     pt_lg     pc_lg        lg  yt_lg  \\\n",
       "10413941             0              0  0.001044  0.001231 -0.000187      0   \n",
       "16893334             1              0  0.000273  0.000172  0.000101      0   \n",
       "9072123              1              0  0.000796  0.000522  0.000274      0   \n",
       "9143938              1              0  0.000630  0.000573  0.000057      0   \n",
       "4462152              1              0  0.001044  0.001231 -0.000187      0   \n",
       "\n",
       "          yc_lg  treatment_rf  conversion_rf     pt_rf     pc_rf        rf  \\\n",
       "10413941      0             0              0  0.001342  0.001786 -0.000444   \n",
       "16893334      0             1              0  0.000000  0.000114 -0.000114   \n",
       "9072123       0             1              0  0.000932  0.002119 -0.001187   \n",
       "9143938       0             1              0  0.000000  0.000000  0.000000   \n",
       "4462152       0             1              0  0.001342  0.001786 -0.000444   \n",
       "\n",
       "          yt_rf  yc_rf  \n",
       "10413941      0      0  \n",
       "16893334      0      0  \n",
       "9072123       0      0  \n",
       "9143938       0      0  \n",
       "4462152       0      0  "
      ]
     },
     "execution_count": 57,
     "metadata": {},
     "output_type": "execute_result"
    }
   ],
   "source": [
    "test_df = pd.merge(lg_df, rf_df, left_index=True, right_index=True, suffixes=('_lg', '_rf'))\n",
    "test_df.head()"
   ]
  },
  {
   "cell_type": "code",
   "execution_count": 58,
   "metadata": {},
   "outputs": [
    {
     "data": {
      "text/plain": [
       "0"
      ]
     },
     "execution_count": 58,
     "metadata": {},
     "output_type": "execute_result"
    }
   ],
   "source": [
    "# Load in xgboost results\n",
    "test_model = 'xgboost_test.joblib'\n",
    "\n",
    "# gsutil outputs everything to stderr so we need to divert it to stdout.\n",
    "subprocess.check_call(['gsutil', 'cp', os.path.join(data_dir, test_model), test_model])"
   ]
  },
  {
   "cell_type": "code",
   "execution_count": 59,
   "metadata": {},
   "outputs": [
    {
     "data": {
      "text/html": [
       "<div>\n",
       "<style scoped>\n",
       "    .dataframe tbody tr th:only-of-type {\n",
       "        vertical-align: middle;\n",
       "    }\n",
       "\n",
       "    .dataframe tbody tr th {\n",
       "        vertical-align: top;\n",
       "    }\n",
       "\n",
       "    .dataframe thead th {\n",
       "        text-align: right;\n",
       "    }\n",
       "</style>\n",
       "<table border=\"1\" class=\"dataframe\">\n",
       "  <thead>\n",
       "    <tr style=\"text-align: right;\">\n",
       "      <th></th>\n",
       "      <th>treatment</th>\n",
       "      <th>conversion</th>\n",
       "      <th>pt</th>\n",
       "      <th>pc</th>\n",
       "      <th>xgb</th>\n",
       "      <th>yt</th>\n",
       "      <th>yc</th>\n",
       "    </tr>\n",
       "  </thead>\n",
       "  <tbody>\n",
       "    <tr>\n",
       "      <th>10413941</th>\n",
       "      <td>0</td>\n",
       "      <td>0</td>\n",
       "      <td>0.353179</td>\n",
       "      <td>0.494245</td>\n",
       "      <td>-0.141066</td>\n",
       "      <td>0</td>\n",
       "      <td>0</td>\n",
       "    </tr>\n",
       "    <tr>\n",
       "      <th>16893334</th>\n",
       "      <td>1</td>\n",
       "      <td>0</td>\n",
       "      <td>0.101431</td>\n",
       "      <td>0.036390</td>\n",
       "      <td>0.065041</td>\n",
       "      <td>0</td>\n",
       "      <td>0</td>\n",
       "    </tr>\n",
       "    <tr>\n",
       "      <th>9072123</th>\n",
       "      <td>1</td>\n",
       "      <td>0</td>\n",
       "      <td>0.456996</td>\n",
       "      <td>0.472226</td>\n",
       "      <td>-0.015230</td>\n",
       "      <td>0</td>\n",
       "      <td>0</td>\n",
       "    </tr>\n",
       "    <tr>\n",
       "      <th>9143938</th>\n",
       "      <td>1</td>\n",
       "      <td>0</td>\n",
       "      <td>0.103905</td>\n",
       "      <td>0.127644</td>\n",
       "      <td>-0.023739</td>\n",
       "      <td>0</td>\n",
       "      <td>0</td>\n",
       "    </tr>\n",
       "    <tr>\n",
       "      <th>4462152</th>\n",
       "      <td>1</td>\n",
       "      <td>0</td>\n",
       "      <td>0.353179</td>\n",
       "      <td>0.494245</td>\n",
       "      <td>-0.141066</td>\n",
       "      <td>0</td>\n",
       "      <td>0</td>\n",
       "    </tr>\n",
       "  </tbody>\n",
       "</table>\n",
       "</div>"
      ],
      "text/plain": [
       "          treatment  conversion        pt        pc       xgb  yt  yc\n",
       "10413941          0           0  0.353179  0.494245 -0.141066   0   0\n",
       "16893334          1           0  0.101431  0.036390  0.065041   0   0\n",
       "9072123           1           0  0.456996  0.472226 -0.015230   0   0\n",
       "9143938           1           0  0.103905  0.127644 -0.023739   0   0\n",
       "4462152           1           0  0.353179  0.494245 -0.141066   0   0"
      ]
     },
     "execution_count": 59,
     "metadata": {},
     "output_type": "execute_result"
    }
   ],
   "source": [
    "xgb_df = joblib.load(test_model)\n",
    "xgb_df.head()"
   ]
  },
  {
   "cell_type": "code",
   "execution_count": 60,
   "metadata": {},
   "outputs": [
    {
     "data": {
      "text/plain": [
       "0"
      ]
     },
     "execution_count": 60,
     "metadata": {},
     "output_type": "execute_result"
    }
   ],
   "source": [
    "# Load in svm results\n",
    "test_model = 'svm_test.joblib'\n",
    "\n",
    "# gsutil outputs everything to stderr so we need to divert it to stdout.\n",
    "subprocess.check_call(['gsutil', 'cp', os.path.join(data_dir, test_model), test_model])"
   ]
  },
  {
   "cell_type": "code",
   "execution_count": 61,
   "metadata": {},
   "outputs": [
    {
     "data": {
      "text/html": [
       "<div>\n",
       "<style scoped>\n",
       "    .dataframe tbody tr th:only-of-type {\n",
       "        vertical-align: middle;\n",
       "    }\n",
       "\n",
       "    .dataframe tbody tr th {\n",
       "        vertical-align: top;\n",
       "    }\n",
       "\n",
       "    .dataframe thead th {\n",
       "        text-align: right;\n",
       "    }\n",
       "</style>\n",
       "<table border=\"1\" class=\"dataframe\">\n",
       "  <thead>\n",
       "    <tr style=\"text-align: right;\">\n",
       "      <th></th>\n",
       "      <th>treatment</th>\n",
       "      <th>conversion</th>\n",
       "      <th>pt</th>\n",
       "      <th>pc</th>\n",
       "      <th>svm</th>\n",
       "      <th>yt</th>\n",
       "      <th>yc</th>\n",
       "    </tr>\n",
       "  </thead>\n",
       "  <tbody>\n",
       "    <tr>\n",
       "      <th>10413941</th>\n",
       "      <td>0</td>\n",
       "      <td>0</td>\n",
       "      <td>0.000986</td>\n",
       "      <td>0.001252</td>\n",
       "      <td>-0.000266</td>\n",
       "      <td>0</td>\n",
       "      <td>0</td>\n",
       "    </tr>\n",
       "    <tr>\n",
       "      <th>16893334</th>\n",
       "      <td>1</td>\n",
       "      <td>0</td>\n",
       "      <td>0.000250</td>\n",
       "      <td>0.000124</td>\n",
       "      <td>0.000126</td>\n",
       "      <td>0</td>\n",
       "      <td>0</td>\n",
       "    </tr>\n",
       "    <tr>\n",
       "      <th>9072123</th>\n",
       "      <td>1</td>\n",
       "      <td>0</td>\n",
       "      <td>0.000705</td>\n",
       "      <td>0.000418</td>\n",
       "      <td>0.000287</td>\n",
       "      <td>0</td>\n",
       "      <td>0</td>\n",
       "    </tr>\n",
       "    <tr>\n",
       "      <th>9143938</th>\n",
       "      <td>1</td>\n",
       "      <td>0</td>\n",
       "      <td>0.000757</td>\n",
       "      <td>0.000724</td>\n",
       "      <td>0.000033</td>\n",
       "      <td>0</td>\n",
       "      <td>0</td>\n",
       "    </tr>\n",
       "    <tr>\n",
       "      <th>4462152</th>\n",
       "      <td>1</td>\n",
       "      <td>0</td>\n",
       "      <td>0.000986</td>\n",
       "      <td>0.001252</td>\n",
       "      <td>-0.000266</td>\n",
       "      <td>0</td>\n",
       "      <td>0</td>\n",
       "    </tr>\n",
       "  </tbody>\n",
       "</table>\n",
       "</div>"
      ],
      "text/plain": [
       "          treatment  conversion        pt        pc       svm  yt  yc\n",
       "10413941          0           0  0.000986  0.001252 -0.000266   0   0\n",
       "16893334          1           0  0.000250  0.000124  0.000126   0   0\n",
       "9072123           1           0  0.000705  0.000418  0.000287   0   0\n",
       "9143938           1           0  0.000757  0.000724  0.000033   0   0\n",
       "4462152           1           0  0.000986  0.001252 -0.000266   0   0"
      ]
     },
     "execution_count": 61,
     "metadata": {},
     "output_type": "execute_result"
    }
   ],
   "source": [
    "svm_df = joblib.load(test_model)\n",
    "svm_df.head()"
   ]
  },
  {
   "cell_type": "code",
   "execution_count": 62,
   "metadata": {},
   "outputs": [
    {
     "data": {
      "text/html": [
       "<div>\n",
       "<style scoped>\n",
       "    .dataframe tbody tr th:only-of-type {\n",
       "        vertical-align: middle;\n",
       "    }\n",
       "\n",
       "    .dataframe tbody tr th {\n",
       "        vertical-align: top;\n",
       "    }\n",
       "\n",
       "    .dataframe thead th {\n",
       "        text-align: right;\n",
       "    }\n",
       "</style>\n",
       "<table border=\"1\" class=\"dataframe\">\n",
       "  <thead>\n",
       "    <tr style=\"text-align: right;\">\n",
       "      <th></th>\n",
       "      <th>treatment_xgb</th>\n",
       "      <th>conversion_xgb</th>\n",
       "      <th>pt_xgb</th>\n",
       "      <th>pc_xgb</th>\n",
       "      <th>xgb</th>\n",
       "      <th>yt_xgb</th>\n",
       "      <th>yc_xgb</th>\n",
       "      <th>treatment_svm</th>\n",
       "      <th>conversion_svm</th>\n",
       "      <th>pt_svm</th>\n",
       "      <th>pc_svm</th>\n",
       "      <th>svm</th>\n",
       "      <th>yt_svm</th>\n",
       "      <th>yc_svm</th>\n",
       "    </tr>\n",
       "  </thead>\n",
       "  <tbody>\n",
       "    <tr>\n",
       "      <th>10413941</th>\n",
       "      <td>0</td>\n",
       "      <td>0</td>\n",
       "      <td>0.353179</td>\n",
       "      <td>0.494245</td>\n",
       "      <td>-0.141066</td>\n",
       "      <td>0</td>\n",
       "      <td>0</td>\n",
       "      <td>0</td>\n",
       "      <td>0</td>\n",
       "      <td>0.000986</td>\n",
       "      <td>0.001252</td>\n",
       "      <td>-0.000266</td>\n",
       "      <td>0</td>\n",
       "      <td>0</td>\n",
       "    </tr>\n",
       "    <tr>\n",
       "      <th>16893334</th>\n",
       "      <td>1</td>\n",
       "      <td>0</td>\n",
       "      <td>0.101431</td>\n",
       "      <td>0.036390</td>\n",
       "      <td>0.065041</td>\n",
       "      <td>0</td>\n",
       "      <td>0</td>\n",
       "      <td>1</td>\n",
       "      <td>0</td>\n",
       "      <td>0.000250</td>\n",
       "      <td>0.000124</td>\n",
       "      <td>0.000126</td>\n",
       "      <td>0</td>\n",
       "      <td>0</td>\n",
       "    </tr>\n",
       "    <tr>\n",
       "      <th>9072123</th>\n",
       "      <td>1</td>\n",
       "      <td>0</td>\n",
       "      <td>0.456996</td>\n",
       "      <td>0.472226</td>\n",
       "      <td>-0.015230</td>\n",
       "      <td>0</td>\n",
       "      <td>0</td>\n",
       "      <td>1</td>\n",
       "      <td>0</td>\n",
       "      <td>0.000705</td>\n",
       "      <td>0.000418</td>\n",
       "      <td>0.000287</td>\n",
       "      <td>0</td>\n",
       "      <td>0</td>\n",
       "    </tr>\n",
       "    <tr>\n",
       "      <th>9143938</th>\n",
       "      <td>1</td>\n",
       "      <td>0</td>\n",
       "      <td>0.103905</td>\n",
       "      <td>0.127644</td>\n",
       "      <td>-0.023739</td>\n",
       "      <td>0</td>\n",
       "      <td>0</td>\n",
       "      <td>1</td>\n",
       "      <td>0</td>\n",
       "      <td>0.000757</td>\n",
       "      <td>0.000724</td>\n",
       "      <td>0.000033</td>\n",
       "      <td>0</td>\n",
       "      <td>0</td>\n",
       "    </tr>\n",
       "    <tr>\n",
       "      <th>4462152</th>\n",
       "      <td>1</td>\n",
       "      <td>0</td>\n",
       "      <td>0.353179</td>\n",
       "      <td>0.494245</td>\n",
       "      <td>-0.141066</td>\n",
       "      <td>0</td>\n",
       "      <td>0</td>\n",
       "      <td>1</td>\n",
       "      <td>0</td>\n",
       "      <td>0.000986</td>\n",
       "      <td>0.001252</td>\n",
       "      <td>-0.000266</td>\n",
       "      <td>0</td>\n",
       "      <td>0</td>\n",
       "    </tr>\n",
       "  </tbody>\n",
       "</table>\n",
       "</div>"
      ],
      "text/plain": [
       "          treatment_xgb  conversion_xgb    pt_xgb    pc_xgb       xgb  yt_xgb  \\\n",
       "10413941              0               0  0.353179  0.494245 -0.141066       0   \n",
       "16893334              1               0  0.101431  0.036390  0.065041       0   \n",
       "9072123               1               0  0.456996  0.472226 -0.015230       0   \n",
       "9143938               1               0  0.103905  0.127644 -0.023739       0   \n",
       "4462152               1               0  0.353179  0.494245 -0.141066       0   \n",
       "\n",
       "          yc_xgb  treatment_svm  conversion_svm    pt_svm    pc_svm       svm  \\\n",
       "10413941       0              0               0  0.000986  0.001252 -0.000266   \n",
       "16893334       0              1               0  0.000250  0.000124  0.000126   \n",
       "9072123        0              1               0  0.000705  0.000418  0.000287   \n",
       "9143938        0              1               0  0.000757  0.000724  0.000033   \n",
       "4462152        0              1               0  0.000986  0.001252 -0.000266   \n",
       "\n",
       "          yt_svm  yc_svm  \n",
       "10413941       0       0  \n",
       "16893334       0       0  \n",
       "9072123        0       0  \n",
       "9143938        0       0  \n",
       "4462152        0       0  "
      ]
     },
     "execution_count": 62,
     "metadata": {},
     "output_type": "execute_result"
    }
   ],
   "source": [
    "test_df2 = pd.merge(xgb_df, svm_df, left_index=True, right_index=True, suffixes=('_xgb', '_svm'))\n",
    "test_df2.head()"
   ]
  },
  {
   "cell_type": "code",
   "execution_count": 63,
   "metadata": {},
   "outputs": [
    {
     "data": {
      "text/html": [
       "<div>\n",
       "<style scoped>\n",
       "    .dataframe tbody tr th:only-of-type {\n",
       "        vertical-align: middle;\n",
       "    }\n",
       "\n",
       "    .dataframe tbody tr th {\n",
       "        vertical-align: top;\n",
       "    }\n",
       "\n",
       "    .dataframe thead th {\n",
       "        text-align: right;\n",
       "    }\n",
       "</style>\n",
       "<table border=\"1\" class=\"dataframe\">\n",
       "  <thead>\n",
       "    <tr style=\"text-align: right;\">\n",
       "      <th></th>\n",
       "      <th>treatment_lg</th>\n",
       "      <th>conversion_lg</th>\n",
       "      <th>pt_lg</th>\n",
       "      <th>pc_lg</th>\n",
       "      <th>lg</th>\n",
       "      <th>yt_lg</th>\n",
       "      <th>yc_lg</th>\n",
       "      <th>treatment_rf</th>\n",
       "      <th>conversion_rf</th>\n",
       "      <th>pt_rf</th>\n",
       "      <th>...</th>\n",
       "      <th>xgb</th>\n",
       "      <th>yt_xgb</th>\n",
       "      <th>yc_xgb</th>\n",
       "      <th>treatment_svm</th>\n",
       "      <th>conversion_svm</th>\n",
       "      <th>pt_svm</th>\n",
       "      <th>pc_svm</th>\n",
       "      <th>svm</th>\n",
       "      <th>yt_svm</th>\n",
       "      <th>yc_svm</th>\n",
       "    </tr>\n",
       "  </thead>\n",
       "  <tbody>\n",
       "    <tr>\n",
       "      <th>10413941</th>\n",
       "      <td>0</td>\n",
       "      <td>0</td>\n",
       "      <td>0.001044</td>\n",
       "      <td>0.001231</td>\n",
       "      <td>-0.000187</td>\n",
       "      <td>0</td>\n",
       "      <td>0</td>\n",
       "      <td>0</td>\n",
       "      <td>0</td>\n",
       "      <td>0.001342</td>\n",
       "      <td>...</td>\n",
       "      <td>-0.141066</td>\n",
       "      <td>0</td>\n",
       "      <td>0</td>\n",
       "      <td>0</td>\n",
       "      <td>0</td>\n",
       "      <td>0.000986</td>\n",
       "      <td>0.001252</td>\n",
       "      <td>-0.000266</td>\n",
       "      <td>0</td>\n",
       "      <td>0</td>\n",
       "    </tr>\n",
       "    <tr>\n",
       "      <th>16893334</th>\n",
       "      <td>1</td>\n",
       "      <td>0</td>\n",
       "      <td>0.000273</td>\n",
       "      <td>0.000172</td>\n",
       "      <td>0.000101</td>\n",
       "      <td>0</td>\n",
       "      <td>0</td>\n",
       "      <td>1</td>\n",
       "      <td>0</td>\n",
       "      <td>0.000000</td>\n",
       "      <td>...</td>\n",
       "      <td>0.065041</td>\n",
       "      <td>0</td>\n",
       "      <td>0</td>\n",
       "      <td>1</td>\n",
       "      <td>0</td>\n",
       "      <td>0.000250</td>\n",
       "      <td>0.000124</td>\n",
       "      <td>0.000126</td>\n",
       "      <td>0</td>\n",
       "      <td>0</td>\n",
       "    </tr>\n",
       "    <tr>\n",
       "      <th>9072123</th>\n",
       "      <td>1</td>\n",
       "      <td>0</td>\n",
       "      <td>0.000796</td>\n",
       "      <td>0.000522</td>\n",
       "      <td>0.000274</td>\n",
       "      <td>0</td>\n",
       "      <td>0</td>\n",
       "      <td>1</td>\n",
       "      <td>0</td>\n",
       "      <td>0.000932</td>\n",
       "      <td>...</td>\n",
       "      <td>-0.015230</td>\n",
       "      <td>0</td>\n",
       "      <td>0</td>\n",
       "      <td>1</td>\n",
       "      <td>0</td>\n",
       "      <td>0.000705</td>\n",
       "      <td>0.000418</td>\n",
       "      <td>0.000287</td>\n",
       "      <td>0</td>\n",
       "      <td>0</td>\n",
       "    </tr>\n",
       "    <tr>\n",
       "      <th>9143938</th>\n",
       "      <td>1</td>\n",
       "      <td>0</td>\n",
       "      <td>0.000630</td>\n",
       "      <td>0.000573</td>\n",
       "      <td>0.000057</td>\n",
       "      <td>0</td>\n",
       "      <td>0</td>\n",
       "      <td>1</td>\n",
       "      <td>0</td>\n",
       "      <td>0.000000</td>\n",
       "      <td>...</td>\n",
       "      <td>-0.023739</td>\n",
       "      <td>0</td>\n",
       "      <td>0</td>\n",
       "      <td>1</td>\n",
       "      <td>0</td>\n",
       "      <td>0.000757</td>\n",
       "      <td>0.000724</td>\n",
       "      <td>0.000033</td>\n",
       "      <td>0</td>\n",
       "      <td>0</td>\n",
       "    </tr>\n",
       "    <tr>\n",
       "      <th>4462152</th>\n",
       "      <td>1</td>\n",
       "      <td>0</td>\n",
       "      <td>0.001044</td>\n",
       "      <td>0.001231</td>\n",
       "      <td>-0.000187</td>\n",
       "      <td>0</td>\n",
       "      <td>0</td>\n",
       "      <td>1</td>\n",
       "      <td>0</td>\n",
       "      <td>0.001342</td>\n",
       "      <td>...</td>\n",
       "      <td>-0.141066</td>\n",
       "      <td>0</td>\n",
       "      <td>0</td>\n",
       "      <td>1</td>\n",
       "      <td>0</td>\n",
       "      <td>0.000986</td>\n",
       "      <td>0.001252</td>\n",
       "      <td>-0.000266</td>\n",
       "      <td>0</td>\n",
       "      <td>0</td>\n",
       "    </tr>\n",
       "  </tbody>\n",
       "</table>\n",
       "<p>5 rows × 28 columns</p>\n",
       "</div>"
      ],
      "text/plain": [
       "          treatment_lg  conversion_lg     pt_lg     pc_lg        lg  yt_lg  \\\n",
       "10413941             0              0  0.001044  0.001231 -0.000187      0   \n",
       "16893334             1              0  0.000273  0.000172  0.000101      0   \n",
       "9072123              1              0  0.000796  0.000522  0.000274      0   \n",
       "9143938              1              0  0.000630  0.000573  0.000057      0   \n",
       "4462152              1              0  0.001044  0.001231 -0.000187      0   \n",
       "\n",
       "          yc_lg  treatment_rf  conversion_rf     pt_rf   ...         xgb  \\\n",
       "10413941      0             0              0  0.001342   ...   -0.141066   \n",
       "16893334      0             1              0  0.000000   ...    0.065041   \n",
       "9072123       0             1              0  0.000932   ...   -0.015230   \n",
       "9143938       0             1              0  0.000000   ...   -0.023739   \n",
       "4462152       0             1              0  0.001342   ...   -0.141066   \n",
       "\n",
       "          yt_xgb  yc_xgb  treatment_svm  conversion_svm    pt_svm    pc_svm  \\\n",
       "10413941       0       0              0               0  0.000986  0.001252   \n",
       "16893334       0       0              1               0  0.000250  0.000124   \n",
       "9072123        0       0              1               0  0.000705  0.000418   \n",
       "9143938        0       0              1               0  0.000757  0.000724   \n",
       "4462152        0       0              1               0  0.000986  0.001252   \n",
       "\n",
       "               svm  yt_svm  yc_svm  \n",
       "10413941 -0.000266       0       0  \n",
       "16893334  0.000126       0       0  \n",
       "9072123   0.000287       0       0  \n",
       "9143938   0.000033       0       0  \n",
       "4462152  -0.000266       0       0  \n",
       "\n",
       "[5 rows x 28 columns]"
      ]
     },
     "execution_count": 63,
     "metadata": {},
     "output_type": "execute_result"
    }
   ],
   "source": [
    "test_df = pd.merge(test_df, test_df2, left_index=True, right_index=True)\n",
    "test_df.head()"
   ]
  },
  {
   "cell_type": "code",
   "execution_count": 64,
   "metadata": {},
   "outputs": [],
   "source": [
    "test_df['treatment'] = test_df.treatment_lg\n",
    "test_df['conversion'] = test_df.conversion_lg"
   ]
  },
  {
   "cell_type": "code",
   "execution_count": null,
   "metadata": {},
   "outputs": [],
   "source": []
  },
  {
   "cell_type": "markdown",
   "metadata": {},
   "source": [
    "### Treatment Accuracies\n",
    "\n",
    "We can see the **accuracy** for the treatment model to predict the treatments is **99.76%**."
   ]
  },
  {
   "cell_type": "code",
   "execution_count": 14,
   "metadata": {},
   "outputs": [
    {
     "name": "stdout",
     "output_type": "stream",
     "text": [
      "Logistic Regression Accuracy: 99.76%\n",
      "Random Forest Accuracy: 99.76%\n",
      "XGBoost Accuracy: 91.07%\n",
      "SVM Accuracy: 99.76%\n"
     ]
    }
   ],
   "source": [
    "accuracy_lg = accuracy_score(test_df[test_df.treatment==1]['conversion'], test_df[test_df.treatment==1]['yt_lg'])\n",
    "accuracy_rf = accuracy_score(test_df[test_df.treatment==1]['conversion'], test_df[test_df.treatment==1]['yt_rf'])\n",
    "accuracy_xgb = accuracy_score(test_df[test_df.treatment==1]['conversion'], test_df[test_df.treatment==1]['yt_xgb'])\n",
    "accuracy_svm = accuracy_score(test_df[test_df.treatment==1]['conversion'], test_df[test_df.treatment==1]['yt_svm'])\n",
    "\n",
    "print(\"Logistic Regression Accuracy: %.2f%%\" % (accuracy_lg * 100.0))\n",
    "print(\"Random Forest Accuracy: %.2f%%\" % (accuracy_rf * 100.0))\n",
    "print(\"XGBoost Accuracy: %.2f%%\" % (accuracy_xgb * 100.0))\n",
    "print(\"SVM Accuracy: %.2f%%\" % (accuracy_svm * 100.0))"
   ]
  },
  {
   "cell_type": "code",
   "execution_count": null,
   "metadata": {},
   "outputs": [],
   "source": []
  },
  {
   "cell_type": "markdown",
   "metadata": {},
   "source": [
    "### Gain Curve\n",
    "\n",
    "Before we explore Uplift specific evaluation metrics, it is useful to create a gains chart and Gini coefficient, as traditional metrics used in Uplift modeling can be thought of as a generalization of the Gini coefficient. \n",
    "    \n",
    "To create a gains chart we follow a few simple steps:\n",
    "\n",
    "1. Sort by probability of conversion (descending). \n",
    "2. Create array for cumulative sum of conversions.\n",
    "3. Create array for number of users targeted. \n",
    "4. Plot targeted users on the Y axis and conversions on the X axis. "
   ]
  },
  {
   "cell_type": "code",
   "execution_count": 15,
   "metadata": {},
   "outputs": [],
   "source": [
    "# add random targeting\n",
    "np.random.seed(35)\n",
    "\n",
    "test_df['random_prob'] = [np.random.random() for k in test_df.index]\n",
    "test_df = test_df.sort_values(by=['random_prob'], ascending=False)\n",
    "# for treatment results\n",
    "rand_number_purchases = test_df[test_df.treatment == 1]['conversion'].cumsum()\n",
    "rand_number_targeted  = test_df[test_df.treatment == 1]['treatment'].cumsum()\n",
    "\n",
    "# add optimal targeting  \n",
    "test_df = test_df.sort_values(by=['conversion'], ascending=False)\n",
    "optimum_number_purchases = test_df[test_df.treatment == 1]['conversion'].cumsum()\n",
    "optimum_number_targeted  = test_df[test_df.treatment == 1]['treatment'].cumsum()\n",
    "\n",
    "# add logistic regression  \n",
    "test_df = test_df.sort_values(by=['lg'], ascending=False)\n",
    "lg_number_purchases = test_df[test_df.treatment == 1]['conversion'].cumsum()\n",
    "lg_number_targeted  = test_df[test_df.treatment == 1]['treatment'].cumsum()\n",
    "\n",
    "# add random forest \n",
    "test_df = test_df.sort_values(by=['rf'], ascending=False)\n",
    "rf_number_purchases = test_df[test_df.treatment == 1]['conversion'].cumsum()\n",
    "rf_number_targeted  = test_df[test_df.treatment == 1]['treatment'].cumsum()\n",
    "\n",
    "# add xgboost \n",
    "test_df = test_df.sort_values(by=['xgb'], ascending=False)\n",
    "xgb_number_purchases = test_df[test_df.treatment == 1]['conversion'].cumsum()\n",
    "xgb_number_targeted  = test_df[test_df.treatment == 1]['treatment'].cumsum()\n",
    "\n",
    "# add svm \n",
    "test_df = test_df.sort_values(by=['svm'], ascending=False)\n",
    "svm_number_purchases = test_df[test_df.treatment == 1]['conversion'].cumsum()\n",
    "svm_number_targeted  = test_df[test_df.treatment == 1]['treatment'].cumsum()"
   ]
  },
  {
   "cell_type": "code",
   "execution_count": 16,
   "metadata": {},
   "outputs": [
    {
     "data": {
      "text/plain": [
       "Text(0.5,1,u'Gains Chart')"
      ]
     },
     "execution_count": 16,
     "metadata": {},
     "output_type": "execute_result"
    },
    {
     "name": "stderr",
     "output_type": "stream",
     "text": [
      "/usr/local/envs/py2env/lib/python2.7/site-packages/matplotlib/font_manager.py:1320: UserWarning: findfont: Font family [u'sans-serif'] not found. Falling back to DejaVu Sans\n",
      "  (prop.get_family(), self.defaultFamily[fontext]))\n"
     ]
    },
    {
     "data": {
      "image/png": "[encoded data removed]",
      "text/plain": [
       "<matplotlib.figure.Figure at 0x7fe9f7441cd0>"
      ]
     },
     "metadata": {},
     "output_type": "display_data"
    }
   ],
   "source": [
    "plt.rcParams['figure.figsize'] = [10, 5]\n",
    "plt.plot(lg_number_targeted, lg_number_purchases, label='Logistc Reg - 2M')\n",
    "plt.plot(rf_number_targeted, rf_number_purchases, label='Random Forest - 2M')\n",
    "plt.plot(xgb_number_targeted, xgb_number_purchases, label='XGBoost - 2M')\n",
    "plt.plot(svm_number_targeted, svm_number_purchases, label='SVM - 2M')\n",
    "plt.plot(rand_number_targeted, rand_number_purchases, label='Random')\n",
    "plt.plot(optimum_number_targeted, optimum_number_purchases, label='Perfect')\n",
    "plt.xlabel(\"Cumulative Conversions\")\n",
    "plt.ylabel(\"Customers Targeted\")\n",
    "plt.legend(loc='upper center', bbox_to_anchor=(0.85, 0.4), fancybox=True, shadow=True)\n",
    "plt.title(\"Gains Chart\")"
   ]
  },
  {
   "cell_type": "code",
   "execution_count": 17,
   "metadata": {},
   "outputs": [
    {
     "name": "stdout",
     "output_type": "stream",
     "text": [
      "For Logistic Regression: Gini: 0.175, Max. Gini: 0.499, Normalized Gini: 0.351\n",
      "For Random Forest: Gini: 0.174, Max. Gini: 0.499, Normalized Gini: 0.350\n",
      "For XGBoost: Gini: 0.300, Max. Gini: 0.499, Normalized Gini: 0.602\n",
      "For SVM: Gini: 0.175, Max. Gini: 0.499, Normalized Gini: 0.351\n"
     ]
    }
   ],
   "source": [
    "def gini(actual, pred):\n",
    "    assert (len(actual) == len(pred))\n",
    "    all = np.asarray(np.c_[actual, pred, np.arange(len(actual))], dtype=np.float)\n",
    "    all = all[np.lexsort((all[:, 2], -1 * all[:, 1]))]\n",
    "    totalLosses = all[:, 0].sum()\n",
    "    giniSum = all[:, 0].cumsum().sum() / totalLosses\n",
    "\n",
    "    giniSum -= (len(actual) + 1) / 2.\n",
    "    return giniSum / len(actual)\n",
    "\n",
    "\n",
    "def gini_normalized(actual, pred):\n",
    "    return gini(actual, pred) / gini(actual, actual)\n",
    "\n",
    "gini_predictions_lg = gini(test_df[test_df.treatment == 1]['conversion'], test_df[test_df.treatment == 1]['yt_lg'])\n",
    "gini_max = gini(test_df[test_df.treatment == 1]['conversion'], test_df[test_df.treatment == 1]['conversion'])\n",
    "ngini_lg = gini_normalized(test_df[test_df.treatment == 1]['conversion'], test_df[test_df.treatment == 1]['yt_lg'])\n",
    "\n",
    "gini_predictions_rf = gini(test_df[test_df.treatment == 1]['conversion'], test_df[test_df.treatment == 1]['yt_rf'])\n",
    "ngini_rf = gini_normalized(test_df[test_df.treatment == 1]['conversion'], test_df[test_df.treatment == 1]['yt_rf'])\n",
    "\n",
    "gini_predictions_xgb = gini(test_df[test_df.treatment == 1]['conversion'], test_df[test_df.treatment == 1]['yt_xgb'])\n",
    "ngini_xgb = gini_normalized(test_df[test_df.treatment == 1]['conversion'], test_df[test_df.treatment == 1]['yt_xgb'])\n",
    "\n",
    "gini_predictions_svm = gini(test_df[test_df.treatment == 1]['conversion'], test_df[test_df.treatment == 1]['yt_svm'])\n",
    "ngini_svm = gini_normalized(test_df[test_df.treatment == 1]['conversion'], test_df[test_df.treatment == 1]['yt_svm'])\n",
    "\n",
    "print('For Logistic Regression: Gini: %.3f, Max. Gini: %.3f, Normalized Gini: %.3f' % (gini_predictions_lg, gini_max, ngini_lg))\n",
    "print('For Random Forest: Gini: %.3f, Max. Gini: %.3f, Normalized Gini: %.3f' % (gini_predictions_rf, gini_max, ngini_rf))\n",
    "print('For XGBoost: Gini: %.3f, Max. Gini: %.3f, Normalized Gini: %.3f' % (gini_predictions_xgb, gini_max, ngini_xgb))\n",
    "print('For SVM: Gini: %.3f, Max. Gini: %.3f, Normalized Gini: %.3f' % (gini_predictions_svm, gini_max, ngini_svm))"
   ]
  },
  {
   "cell_type": "markdown",
   "metadata": {},
   "source": [
    "### Uplift Curve"
   ]
  },
  {
   "cell_type": "code",
   "execution_count": 18,
   "metadata": {},
   "outputs": [],
   "source": [
    "control_total   = test_df[test_df.treatment == 0].shape[0]\n",
    "treatment_total = test_df[test_df.treatment == 1].shape[0]\n",
    "N = len(test_df)\n",
    "\n",
    "uplift = pd.DataFrame({'segment': np.arange(0, 1.05, .05), 'control_pop': np.arange(0, 1.05, .05) * control_total,\n",
    "                       'treatment_pop': np.arange(0, 1.05, .05) * treatment_total})\n",
    "\n",
    "# format the counts to inte\n",
    "uplift['treatment_pop'] = uplift['treatment_pop'].astype(int)\n",
    "uplift['control_pop'] = uplift['control_pop'].astype(int)\n",
    "\n",
    "# uplift curve for logistic regression using two-model approach\n",
    "uplift['lg_tk'] = uplift['treatment_pop'].apply(lambda x: test_df[test_df.treatment == 1].sort_values(by=['lg'], ascending=False)['conversion'][:x].sum())\n",
    "uplift['lg_ck'] = uplift['control_pop'].apply(lambda x: test_df[test_df.treatment == 0].sort_values(by=['lg'] , ascending=False)['conversion'][:x].sum())\n",
    "\n",
    "# uplift curve for random forest using two-model approach\n",
    "uplift['rf_tk'] = uplift['treatment_pop'].apply(lambda x: test_df[test_df.treatment == 1].sort_values(by=['rf'], ascending=False)['conversion'][:x].sum())\n",
    "uplift['rf_ck'] = uplift['control_pop'].apply(lambda x: test_df[test_df.treatment == 0].sort_values(by=['rf'] , ascending=False)['conversion'][:x].sum())\n",
    "\n",
    "# uplift curve for xgboost using two-model approach\n",
    "uplift['xgb_tk'] = uplift['treatment_pop'].apply(lambda x: test_df[test_df.treatment == 1].sort_values(by=['xgb'], ascending=False)['conversion'][:x].sum())\n",
    "uplift['xgb_ck'] = uplift['control_pop'].apply(lambda x: test_df[test_df.treatment == 0].sort_values(by=['xgb'] , ascending=False)['conversion'][:x].sum())\n",
    "\n",
    "# uplift curve for xgboost using two-model approach\n",
    "uplift['svm_tk'] = uplift['treatment_pop'].apply(lambda x: test_df[test_df.treatment == 1].sort_values(by=['svm'], ascending=False)['conversion'][:x].sum())\n",
    "uplift['svm_ck'] = uplift['control_pop'].apply(lambda x: test_df[test_df.treatment == 0].sort_values(by=['svm'] , ascending=False)['conversion'][:x].sum())\n",
    "\n",
    "\n",
    "# randome curve is the baseline\n",
    "uplift['rand_tk'] = uplift['treatment_pop'].apply(lambda x: test_df[test_df.treatment == 1].sort_values(by=['random_prob'], ascending=False)['conversion'][:x].sum())\n",
    "uplift['rand_ck'] = uplift['control_pop'].apply(lambda x: test_df[test_df.treatment == 0].sort_values(by=['random_prob'], ascending=False)['conversion'][:x].sum())\n",
    "\n",
    "# for perfect we need to sort by incremental \n",
    "uplift['perfect_tk'] = uplift['treatment_pop'].apply(lambda x: test_df[test_df.treatment == 1].sort_values(by=['conversion'], ascending=False)['conversion'][:x].sum())\n",
    "uplift['perfect_ck'] = uplift['control_pop'].apply(lambda x: test_df[test_df.treatment == 0].sort_values(by=['conversion'] )['conversion'][:x].sum())\n",
    "\n",
    "# sleeping dogs\n",
    "uplift['pract_tk'] = uplift['treatment_pop'].apply(lambda x: test_df[test_df.treatment == 1].sort_values(by=['conversion'], ascending=False)['conversion'][:x].sum())\n",
    "uplift['pract_ck'] = uplift['control_pop'].apply(lambda x: test_df[test_df.treatment == 0].sort_values(by=['conversion'], ascending=False )['conversion'][:x].sum())\n",
    "\n",
    "# calculate uplift \n",
    "uplift['uplift_lg'] = uplift['lg_tk'] - uplift['lg_ck']\n",
    "uplift['uplift_rf'] = uplift['rf_tk'] - uplift['rf_ck']\n",
    "uplift['uplift_xgb'] = uplift['xgb_tk'] - uplift['xgb_ck']\n",
    "uplift['uplift_svm'] = uplift['svm_tk'] - uplift['svm_ck']\n",
    "uplift['rand'] = uplift['rand_tk'] - uplift['rand_ck']\n",
    "uplift['perfect'] = uplift['perfect_tk'] - uplift['perfect_ck']\n",
    "uplift['pract'] = uplift['pract_tk'] - uplift['pract_ck']\n",
    "\n",
    "uplift['uplift_ratio_lg'] = uplift['uplift_lg'] / N\n",
    "uplift['uplift_ratio_rf'] = uplift['uplift_rf'] / N\n",
    "uplift['uplift_ratio_xgb'] = uplift['uplift_xgb'] / N\n",
    "uplift['uplift_ratio_svm'] = uplift['uplift_svm'] / N\n",
    "uplift['rand_ratio'] = uplift['rand'] / N\n",
    "uplift['perfect_ratio'] = uplift['perfect'] / N\n",
    "uplift['pract_ratio'] = uplift['pract'] / N\n",
    "\n",
    "uplift = uplift.fillna(0)"
   ]
  },
  {
   "cell_type": "code",
   "execution_count": 19,
   "metadata": {},
   "outputs": [
    {
     "name": "stderr",
     "output_type": "stream",
     "text": [
      "/usr/local/envs/py2env/lib/python2.7/site-packages/pandas/plotting/_core.py:1716: UserWarning: Pandas doesn't allow columns to be created via a new attribute name - see https://pandas.pydata.org/pandas-docs/stable/indexing.html#attribute-access\n",
      "  series.name = label\n"
     ]
    },
    {
     "data": {
      "image/png": "[encoded data removed]",
      "text/plain": [
       "<matplotlib.figure.Figure at 0x7fe9f7441f50>"
      ]
     },
     "metadata": {},
     "output_type": "display_data"
    }
   ],
   "source": [
    "uplift.plot(kind='line',x='segment',y=['uplift_ratio_lg', 'uplift_ratio_rf', 'uplift_ratio_xgb', 'uplift_ratio_svm', 'rand_ratio', 'perfect_ratio', 'pract_ratio'])\n",
    "plt.legend(['Logistic Regression', 'Random Forest', 'XGBoost', 'SVM', 'baseline', 'best model', 'no sleeping dogs'])\n",
    "plt.ylabel('Relative Gain: Treatment - Control')  \n",
    "plt.xlabel('Percent Data Observed')\n",
    "plt.title('Typical Uplift Curve')\n",
    "plt.show()"
   ]
  },
  {
   "cell_type": "markdown",
   "metadata": {},
   "source": [
    "### Area Under Uplift Curve (AUUC) \n",
    "\n",
    "Area Under Uplift Curve (AUUC) is based on lift curves which represent the proportion of positive outcomes (the sensitivity) as a function of the percentage of the individuals selected. Lift curve has the same ordinate as the ROC, but a different abscissa. Uplift curve is defined as the difference in lift produced by a classifier between treatment and control groups, at a particular threshold percentage k/n of all examples. "
   ]
  },
  {
   "cell_type": "code",
   "execution_count": 21,
   "metadata": {},
   "outputs": [
    {
     "name": "stdout",
     "output_type": "stream",
     "text": [
      "Logistic Regression AUUC: 0.000448\n",
      "Random Forest AUUC: 0.000336\n",
      "XGBoost AUUC: 0.000211\n",
      "SVM AUUC: 0.000361\n"
     ]
    }
   ],
   "source": [
    "AUUC_lg = (uplift.uplift_ratio_lg.sum() - uplift.rand_ratio.sum())*.05\n",
    "AUUC_rf = (uplift.uplift_ratio_rf.sum() - uplift.rand_ratio.sum())*.05\n",
    "AUUC_xgb = (uplift.uplift_ratio_xgb.sum() - uplift.rand_ratio.sum())*.05\n",
    "AUUC_svm = (uplift.uplift_ratio_svm.sum() - uplift.rand_ratio.sum())*.05\n",
    "\n",
    "print('Logistic Regression AUUC: %f' % AUUC_lg)\n",
    "print('Random Forest AUUC: %f' % AUUC_rf)\n",
    "print('XGBoost AUUC: %f' % AUUC_xgb)\n",
    "print('SVM AUUC: %f' % AUUC_svm)"
   ]
  },
  {
   "cell_type": "markdown",
   "metadata": {},
   "source": [
    "### From Gini to Qini \n",
    "\n",
    "Now, using the Gini metric/curve for evaluating an Uplift Modeling doesn't make as much sense as we don't know the true counterfactual outcome. That is, we want to see how well our Uplift model is at predicting uplift, but since we don't know the outcome of the counterfactual (i.e. what somebody would have done given other action), we can't plot this at an individual level. \n",
    "\n",
    "However, we can compare segments of the population. For example, we can sort the dataframe by uplift score (descending). Then for each decile in test and control we calculate the number of positive outcomes. We then subtract the number of positive outcomes in treatment minus the number in control. This give us incremental sales or uplift per decile. \n",
    "\n",
    "Now let's step back, for a second, and think about why this makes sense. If we sort by uplift and segment test and control populations by decile, the first decile in the test group should have a large number of converters. These are people how we predicted would convert when shown an ad, and since they are in the treatment group they were shown and ad. Furthermore, we would expect the control to have a low number of conversions. We also predicted they'd convert if shown and ad, however they were not shown and ad, so their likelihood of converting is, most likely, very small. Ideally we will see the highest uplift in the first decile, then it should decrease and level off until the last deciles where we could/should see negative uplift. If we see negative uplift (downlift) in segments we are observing what is known as sleeping dogs (customers who will buy without seeing and ad, but will not buy if they do see an ad). \n",
    "\n",
    "Below, we will build a model for the control group. We will then subtract the output probabilities of the test model and control model to come up with predicted uplift (two-model approach), after which we will build an Uplift plot. \n"
   ]
  },
  {
   "cell_type": "code",
   "execution_count": 22,
   "metadata": {},
   "outputs": [
    {
     "name": "stderr",
     "output_type": "stream",
     "text": [
      "/usr/local/envs/py2env/lib/python2.7/site-packages/ipykernel/__main__.py:2: RuntimeWarning: invalid value encountered in double_scalars\n",
      "  from ipykernel import kernelapp as app\n",
      "/usr/local/envs/py2env/lib/python2.7/site-packages/ipykernel/__main__.py:3: RuntimeWarning: invalid value encountered in double_scalars\n",
      "  app.launch_new_instance()\n",
      "/usr/local/envs/py2env/lib/python2.7/site-packages/ipykernel/__main__.py:4: RuntimeWarning: invalid value encountered in double_scalars\n",
      "/usr/local/envs/py2env/lib/python2.7/site-packages/ipykernel/__main__.py:5: RuntimeWarning: invalid value encountered in double_scalars\n",
      "/usr/local/envs/py2env/lib/python2.7/site-packages/ipykernel/__main__.py:6: RuntimeWarning: invalid value encountered in double_scalars\n",
      "/usr/local/envs/py2env/lib/python2.7/site-packages/ipykernel/__main__.py:7: RuntimeWarning: invalid value encountered in double_scalars\n",
      "/usr/local/envs/py2env/lib/python2.7/site-packages/ipykernel/__main__.py:8: RuntimeWarning: invalid value encountered in double_scalars\n"
     ]
    },
    {
     "data": {
      "image/png": "[encoded data removed]",
      "text/plain": [
       "<matplotlib.figure.Figure at 0x7fe9ec6a0b10>"
      ]
     },
     "metadata": {},
     "output_type": "display_data"
    }
   ],
   "source": [
    "# calculate qini \n",
    "uplift['uplift_qini_lg'] = uplift.apply(lambda x: x['lg_tk'] - x['lg_ck'] * x['treatment_pop'] / x['control_pop'], axis=1)\n",
    "uplift['uplift_qini_rf'] = uplift.apply(lambda x: x['rf_tk'] - x['rf_ck'] * x['treatment_pop'] / x['control_pop'], axis=1)\n",
    "uplift['uplift_qini_xgb'] = uplift.apply(lambda x: x['xgb_tk'] - x['xgb_ck'] * x['treatment_pop'] / x['control_pop'], axis=1)\n",
    "uplift['uplift_qini_svm'] = uplift.apply(lambda x: x['svm_tk'] - x['svm_ck'] * x['treatment_pop'] / x['control_pop'], axis=1)\n",
    "uplift['rand_qini'] = uplift.apply(lambda x: x['rand_tk'] - x['rand_ck'] * x['treatment_pop'] / x['control_pop'], axis=1)\n",
    "uplift['perfect_qini'] = uplift.apply(lambda x: x['perfect_tk'] - x['perfect_ck'] * x['treatment_pop'] / x['control_pop'], axis=1)\n",
    "uplift['pract_qini'] = uplift.apply(lambda x: x['pract_tk'] - x['pract_ck'] * x['treatment_pop'] / x['control_pop'], axis=1)\n",
    "\n",
    "uplift['k'] = uplift['treatment_pop'] + uplift['control_pop']\n",
    "\n",
    "uplift = uplift.fillna(0)\n",
    "\n",
    "# Draw typical Qini curve\n",
    "uplift.plot(kind='line',x='segment',y=['uplift_qini_lg', 'uplift_qini_rf', 'uplift_qini_xgb', 'uplift_qini_svm', 'rand_qini', 'perfect_qini', 'pract_qini'])\n",
    "plt.legend(['Logistic Regression', 'Random Forest', 'XGBoost', 'SVM', 'baseline', 'best model', 'no sleeping dogs'])\n",
    "plt.ylabel('Number of Incremental Outcomes')  \n",
    "#plt.xlabel('Number Targeted')\n",
    "plt.title('Typical Qini Curve')\n",
    "plt.show()"
   ]
  },
  {
   "cell_type": "code",
   "execution_count": 25,
   "metadata": {},
   "outputs": [
    {
     "name": "stdout",
     "output_type": "stream",
     "text": [
      "Logistic Regression Qini coefficient Q: 0.1656\n",
      "Random Forest Qini coefficient Q: 0.1206\n",
      "XGBoost Qini coefficient Q: 0.1661\n",
      "SVM Qini coefficient Q: 0.1330\n"
     ]
    }
   ],
   "source": [
    "qini_lg = (uplift.uplift_qini_lg.sum() - uplift.rand_qini.sum())/(uplift.perfect_qini.sum() - uplift.rand_qini.sum())\n",
    "qini_rf = (uplift.uplift_qini_rf.sum() - uplift.rand_qini.sum())/(uplift.perfect_qini.sum() - uplift.rand_qini.sum())\n",
    "qini_xgb = (uplift.uplift_qini_xgb.sum() - uplift.rand_qini.sum())/(uplift.perfect_qini.sum() - uplift.rand_qini.sum())\n",
    "qini_svm = (uplift.uplift_qini_svm.sum() - uplift.rand_qini.sum())/(uplift.perfect_qini.sum() - uplift.rand_qini.sum())\n",
    "\n",
    "print('Logistic Regression Qini coefficient Q: %.4f' % qini_lg)\n",
    "print('Random Forest Qini coefficient Q: %.4f' % qini_rf)\n",
    "print('XGBoost Qini coefficient Q: %.4f' % qini_xgb)\n",
    "print('SVM Qini coefficient Q: %.4f' % qini_svm)"
   ]
  },
  {
   "cell_type": "markdown",
   "metadata": {},
   "source": [
    "### Use Pylift for Evaluation\n",
    "\n",
    "Evaluate all four models over the entire dataset using Pylift package."
   ]
  },
  {
   "cell_type": "code",
   "execution_count": 44,
   "metadata": {},
   "outputs": [
    {
     "name": "stdout",
     "output_type": "stream",
     "text": [
      "Processing /content/uplift/eda_notebooks/pylift\n",
      "Building wheels for collected packages: pylift\n",
      "  Running setup.py bdist_wheel for pylift: started\n",
      "  Running setup.py bdist_wheel for pylift: finished with status 'done'\n",
      "  Stored in directory: /tmp/pip-ephem-wheel-cache-vbk7mwkj/wheels/7f/68/0b/d0dae567cafe08db4a8aba89e2bf214bc1e2c8f02835cd6951\n",
      "Successfully built pylift\n",
      "Installing collected packages: pylift\n",
      "  Found existing installation: pylift 0.0.1\n",
      "    Uninstalling pylift-0.0.1:\n",
      "      Successfully uninstalled pylift-0.0.1\n",
      "Successfully installed pylift-0.0.1\n"
     ]
    },
    {
     "name": "stderr",
     "output_type": "stream",
     "text": [
      "Cloning into 'pylift'...\n"
     ]
    }
   ],
   "source": [
    "%bash\n",
    "git clone https://github.com/wayfair/pylift\n",
    "cd pylift\n",
    "pip install ."
   ]
  },
  {
   "cell_type": "code",
   "execution_count": 18,
   "metadata": {},
   "outputs": [
    {
     "name": "stdout",
     "output_type": "stream",
     "text": [
      "Merge made by the 'recursive' strategy.\n",
      " MM.ipynb                                           | 1351 +++++++\n",
      " NN.ipynb                                           | 3003 ++++++++++++++++\n",
      " model_eval/readme.md                               |    1 +\n",
      " two_model_approach/Model Evaluation Test.ipynb     | 3698 ++++++++++++++++++++\n",
      " .../Two-Model Approach_Mingyuan.ipynb              |  883 +++++\n",
      " 5 files changed, 8936 insertions(+)\n",
      " create mode 100644 MM.ipynb\n",
      " create mode 100644 NN.ipynb\n",
      " create mode 100644 model_eval/readme.md\n",
      " create mode 100644 two_model_approach/Model Evaluation Test.ipynb\n",
      " create mode 100644 two_model_approach/Two-Model Approach_Mingyuan.ipynb\n"
     ]
    },
    {
     "name": "stderr",
     "output_type": "stream",
     "text": [
      "From https://github.com/cloud36/uplift_modeling_criteo\n",
      " * branch            master     -> FETCH_HEAD\n",
      "   d3bbb7b..4e68e51  master     -> origin/master\n",
      "ERROR: You must give at least one requirement to install (see \"pip help install\")\n"
     ]
    }
   ],
   "source": [
    "#To update\n",
    "#%bash\n",
    "#git pull origin master\n",
    "#pip install --upgrade --no-cache-dir "
   ]
  },
  {
   "cell_type": "code",
   "execution_count": 45,
   "metadata": {},
   "outputs": [
    {
     "name": "stdout",
     "output_type": "stream",
     "text": [
      "/content/uplift/eda_notebooks\n"
     ]
    }
   ],
   "source": [
    "cd ."
   ]
  },
  {
   "cell_type": "code",
   "execution_count": 49,
   "metadata": {},
   "outputs": [],
   "source": [
    "import pylift"
   ]
  },
  {
   "cell_type": "code",
   "execution_count": 51,
   "metadata": {},
   "outputs": [],
   "source": [
    "from pylift.pylift import TransformedOutcome"
   ]
  },
  {
   "cell_type": "code",
   "execution_count": 52,
   "metadata": {},
   "outputs": [],
   "source": [
    "from pylift.pylift.eval import UpliftEval"
   ]
  },
  {
   "cell_type": "markdown",
   "metadata": {},
   "source": [
    "- Logistic Regression"
   ]
  },
  {
   "cell_type": "code",
   "execution_count": 65,
   "metadata": {},
   "outputs": [],
   "source": [
    "test = test_df\n",
    "test = test.sort_values(by=['lg'], ascending=False)"
   ]
  },
  {
   "cell_type": "code",
   "execution_count": 70,
   "metadata": {},
   "outputs": [],
   "source": [
    "upev_lg = UpliftEval(test['treatment'], test['conversion'], test['lg'] , n_bins=10)"
   ]
  },
  {
   "cell_type": "code",
   "execution_count": 71,
   "metadata": {},
   "outputs": [
    {
     "data": {
      "text/plain": [
       "0.14479331798704415"
      ]
     },
     "execution_count": 71,
     "metadata": {},
     "output_type": "execute_result"
    }
   ],
   "source": [
    "upev_lg.q1_qini"
   ]
  },
  {
   "cell_type": "code",
   "execution_count": 72,
   "metadata": {},
   "outputs": [
    {
     "data": {
      "text/plain": [
       "<matplotlib.axes._subplots.AxesSubplot at 0x7f64415d3a90>"
      ]
     },
     "execution_count": 72,
     "metadata": {},
     "output_type": "execute_result"
    },
    {
     "data": {
      "image/png": "[encoded data removed]",
      "text/plain": [
       "<matplotlib.figure.Figure at 0x7f63e71226d8>"
      ]
     },
     "metadata": {},
     "output_type": "display_data"
    }
   ],
   "source": [
    "upev_lg.plot(plot_type='qini',show_practical_max=True, show_no_dogs=True)"
   ]
  },
  {
   "cell_type": "markdown",
   "metadata": {},
   "source": [
    "- Random Forest"
   ]
  },
  {
   "cell_type": "code",
   "execution_count": 73,
   "metadata": {},
   "outputs": [
    {
     "data": {
      "text/plain": [
       "0.1064234102961073"
      ]
     },
     "execution_count": 73,
     "metadata": {},
     "output_type": "execute_result"
    }
   ],
   "source": [
    "test = test.sort_values(by=['rf'], ascending=False)\n",
    "upev_rf = UpliftEval(test['treatment'], test['conversion'], test['rf'] , n_bins=10)\n",
    "upev_rf.q1_qini"
   ]
  },
  {
   "cell_type": "code",
   "execution_count": 74,
   "metadata": {},
   "outputs": [
    {
     "data": {
      "text/plain": [
       "<matplotlib.axes._subplots.AxesSubplot at 0x7f63e710b630>"
      ]
     },
     "execution_count": 74,
     "metadata": {},
     "output_type": "execute_result"
    },
    {
     "data": {
      "image/png": "[encoded data removed]",
      "text/plain": [
       "<matplotlib.figure.Figure at 0x7f63e7151c88>"
      ]
     },
     "metadata": {},
     "output_type": "display_data"
    }
   ],
   "source": [
    "upev_rf.plot(plot_type='qini',show_practical_max=True, show_no_dogs=True)"
   ]
  },
  {
   "cell_type": "markdown",
   "metadata": {},
   "source": [
    "- XGBoost"
   ]
  },
  {
   "cell_type": "code",
   "execution_count": 76,
   "metadata": {},
   "outputs": [
    {
     "data": {
      "text/plain": [
       "0.07670295582788794"
      ]
     },
     "execution_count": 76,
     "metadata": {},
     "output_type": "execute_result"
    }
   ],
   "source": [
    "test = test.sort_values(by=['xgb'], ascending=False)\n",
    "upev_xgb = UpliftEval(test['treatment'], test['conversion'], test['xgb'] , n_bins=10)\n",
    "upev_xgb.q1_qini"
   ]
  },
  {
   "cell_type": "code",
   "execution_count": 77,
   "metadata": {},
   "outputs": [
    {
     "data": {
      "text/plain": [
       "<matplotlib.axes._subplots.AxesSubplot at 0x7f6407d05f60>"
      ]
     },
     "execution_count": 77,
     "metadata": {},
     "output_type": "execute_result"
    },
    {
     "data": {
      "image/png": "[encoded data removed]",
      "text/plain": [
       "<matplotlib.figure.Figure at 0x7f6407d057b8>"
      ]
     },
     "metadata": {},
     "output_type": "display_data"
    }
   ],
   "source": [
    "upev_xgb.plot(plot_type='qini',show_practical_max=True, show_no_dogs=True)"
   ]
  },
  {
   "cell_type": "markdown",
   "metadata": {},
   "source": [
    "- Support Vector Machine"
   ]
  },
  {
   "cell_type": "code",
   "execution_count": 78,
   "metadata": {},
   "outputs": [
    {
     "data": {
      "text/plain": [
       "0.1169769749660008"
      ]
     },
     "execution_count": 78,
     "metadata": {},
     "output_type": "execute_result"
    }
   ],
   "source": [
    "test = test.sort_values(by=['svm'], ascending=False)\n",
    "upev_svm = UpliftEval(test['treatment'], test['conversion'], test['svm'] , n_bins=10)\n",
    "upev_svm.q1_qini"
   ]
  },
  {
   "cell_type": "code",
   "execution_count": 79,
   "metadata": {},
   "outputs": [
    {
     "data": {
      "text/plain": [
       "<matplotlib.axes._subplots.AxesSubplot at 0x7f63e730fe80>"
      ]
     },
     "execution_count": 79,
     "metadata": {},
     "output_type": "execute_result"
    },
    {
     "data": {
      "image/png": "[encoded data removed]",
      "text/plain": [
       "<matplotlib.figure.Figure at 0x7f6407d5f4e0>"
      ]
     },
     "metadata": {},
     "output_type": "display_data"
    }
   ],
   "source": [
    "upev_svm.plot(plot_type='qini',show_practical_max=True, show_no_dogs=True)"
   ]
  },
  {
   "cell_type": "code",
   "execution_count": null,
   "metadata": {},
   "outputs": [],
   "source": []
  },
  {
   "cell_type": "code",
   "execution_count": null,
   "metadata": {},
   "outputs": [],
   "source": []
  }
 ],
 "metadata": {
  "kernelspec": {
   "display_name": "Python 3",
   "language": "python",
   "name": "python3"
  },
  "language_info": {
   "codemirror_mode": {
    "name": "ipython",
    "version": 3
   },
   "file_extension": ".py",
   "mimetype": "text/x-python",
   "name": "python",
   "nbconvert_exporter": "python",
   "pygments_lexer": "ipython3",
   "version": "3.5.6"
  }
 },
 "nbformat": 4,
 "nbformat_minor": 2
}
