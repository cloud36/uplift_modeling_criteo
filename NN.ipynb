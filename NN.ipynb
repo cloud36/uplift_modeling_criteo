{
 "cells": [
  {
   "cell_type": "code",
   "execution_count": 6,
   "metadata": {
    "collapsed": true
   },
   "outputs": [],
   "source": [
    "import numpy as np\n",
    "import pandas as pd\n",
    "from IPython.display import clear_output\n",
    "import xgboost\n",
    "import sklearn\n",
    "import pylift\n",
    "from annoy import AnnoyIndex\n",
    "import random"
   ]
  },
  {
   "cell_type": "code",
   "execution_count": 7,
   "metadata": {
    "collapsed": false
   },
   "outputs": [],
   "source": [
    "# from google.cloud import bigquery\n"
   ]
  },
  {
   "cell_type": "code",
   "execution_count": 8,
   "metadata": {
    "collapsed": true
   },
   "outputs": [],
   "source": [
    "# client = bigquery.Client()"
   ]
  },
  {
   "cell_type": "code",
   "execution_count": 11,
   "metadata": {
    "collapsed": false
   },
   "outputs": [
    {
     "name": "stderr",
     "output_type": "stream",
     "text": [
      "Copying file://results.csv [Content-Type=text/csv]...\n",
      "/ [0 files][    0.0 B/  1.5 GiB]                                                \r",
      "==> NOTE: You are uploading one or more large file(s), which would run\n",
      "significantly faster if you enable parallel composite uploads. This\n",
      "feature can be enabled by editing the\n",
      "\"parallel_composite_upload_threshold\" value in your .boto\n",
      "configuration file. However, note that if you do this large files will\n",
      "be uploaded as `composite objects\n",
      "<https://cloud.google.com/storage/docs/composite-objects>`_,which\n",
      "means that any user who downloads such objects will need to have a\n",
      "compiled crcmod installed (see \"gsutil help crcmod\"). This is because\n",
      "without a compiled crcmod, computing checksums on composite objects is\n",
      "so slow that gsutil disables downloads of composite objects.\n",
      "\n",
      "-\r",
      "- [0 files][ 24.0 MiB/  1.5 GiB]                                                \r",
      "\\\r",
      "|\r",
      "| [0 files][ 99.8 MiB/  1.5 GiB]                                                \r",
      "/\r",
      "/ [0 files][183.8 MiB/  1.5 GiB]                                                \r",
      "-\r",
      "\\\r",
      "\\ [0 files][247.2 MiB/  1.5 GiB]                                                \r",
      "|\r",
      "/\r",
      "/ [0 files][311.7 MiB/  1.5 GiB]                                                \r",
      "-\r",
      "- [0 files][389.8 MiB/  1.5 GiB]                                                \r",
      "\\\r",
      "|\r",
      "| [0 files][471.5 MiB/  1.5 GiB]                                                \r",
      "/\r",
      "-\r",
      "- [0 files][555.1 MiB/  1.5 GiB]                                                \r",
      "\\\r",
      "\\ [0 files][627.5 MiB/  1.5 GiB]                                                \r",
      "|\r",
      "/\r",
      "/ [0 files][703.1 MiB/  1.5 GiB]                                                \r",
      "-\r",
      "\\\r",
      "\\ [0 files][771.4 MiB/  1.5 GiB]   75.8 MiB/s                                   \r",
      "|\r",
      "| [0 files][854.9 MiB/  1.5 GiB]   76.4 MiB/s                                   \r",
      "/\r",
      "-\r",
      "- [0 files][935.9 MiB/  1.5 GiB]   75.8 MiB/s                                   \r",
      "\\\r",
      "|\r",
      "| [0 files][ 1019 MiB/  1.5 GiB]   78.2 MiB/s                                   \r",
      "/\r",
      "/ [0 files][  1.1 GiB/  1.5 GiB]   77.3 MiB/s                                   \r",
      "-\r",
      "\\\r",
      "\\ [0 files][  1.1 GiB/  1.5 GiB]   79.7 MiB/s                                   \r",
      "|\r",
      "/\r",
      "/ [0 files][  1.2 GiB/  1.5 GiB]   80.2 MiB/s                                   \r",
      "-\r",
      "- [0 files][  1.3 GiB/  1.5 GiB]   78.1 MiB/s                                   \r",
      "\\\r",
      "|\r",
      "| [0 files][  1.4 GiB/  1.5 GiB]   74.9 MiB/s                                   \r",
      "/\r",
      "-\r",
      "- [0 files][  1.4 GiB/  1.5 GiB]   74.5 MiB/s                                   \r",
      "\\\r",
      "\\ [0 files][  1.5 GiB/  1.5 GiB]   75.0 MiB/s                                   \r",
      "|\r",
      "| [1 files][  1.5 GiB/  1.5 GiB]   71.6 MiB/s                                   \r\n",
      "Operation completed over 1 objects/1.5 GiB.                                      \n"
     ]
    }
   ],
   "source": [
    "%%bash\n",
    "gsutil cp results.csv gs://uplift-criteo/"
   ]
  },
  {
   "cell_type": "code",
   "execution_count": 2,
   "metadata": {
    "collapsed": false
   },
   "outputs": [
    {
     "name": "stderr",
     "output_type": "stream",
     "text": [
      "/home/cbartondepaul/anaconda3/lib/python3.5/site-packages/IPython/core/interactiveshell.py:2723: DtypeWarning: Columns (0,1,2,3,4,5,6,7,8,9,10,11,12,13,14,15) have mixed types. Specify dtype option on import or set low_memory=False.\n",
      "  interactivity=interactivity, compiler=compiler, result=result)\n"
     ]
    }
   ],
   "source": [
    "data = pd.read_csv('train.csv')"
   ]
  },
  {
   "cell_type": "code",
   "execution_count": 3,
   "metadata": {
    "collapsed": false
   },
   "outputs": [
    {
     "data": {
      "text/html": [
       "<div>\n",
       "<table border=\"1\" class=\"dataframe\">\n",
       "  <thead>\n",
       "    <tr style=\"text-align: right;\">\n",
       "      <th></th>\n",
       "      <th>f0</th>\n",
       "      <th>f1</th>\n",
       "      <th>f2</th>\n",
       "      <th>f3</th>\n",
       "      <th>f4</th>\n",
       "      <th>f5</th>\n",
       "      <th>f6</th>\n",
       "      <th>f7</th>\n",
       "      <th>f8</th>\n",
       "      <th>f9</th>\n",
       "      <th>f10</th>\n",
       "      <th>f11</th>\n",
       "      <th>treatment</th>\n",
       "      <th>conversion</th>\n",
       "      <th>visit</th>\n",
       "      <th>exposure</th>\n",
       "    </tr>\n",
       "  </thead>\n",
       "  <tbody>\n",
       "    <tr>\n",
       "      <th>0</th>\n",
       "      <td>0.775465</td>\n",
       "      <td>3.26364</td>\n",
       "      <td>8.40525</td>\n",
       "      <td>3.02261</td>\n",
       "      <td>3.50673</td>\n",
       "      <td>10.1613</td>\n",
       "      <td>-0.728742</td>\n",
       "      <td>-0.166689</td>\n",
       "      <td>-18.1093</td>\n",
       "      <td>17.8461</td>\n",
       "      <td>-1.8609</td>\n",
       "      <td>4.15765</td>\n",
       "      <td>1</td>\n",
       "      <td>0</td>\n",
       "      <td>1</td>\n",
       "      <td>0</td>\n",
       "    </tr>\n",
       "    <tr>\n",
       "      <th>1</th>\n",
       "      <td>1.4787</td>\n",
       "      <td>3.41786</td>\n",
       "      <td>8.39088</td>\n",
       "      <td>2.34476</td>\n",
       "      <td>3.50673</td>\n",
       "      <td>10.8406</td>\n",
       "      <td>-2.38134</td>\n",
       "      <td>-0.760711</td>\n",
       "      <td>-10.0514</td>\n",
       "      <td>16.9877</td>\n",
       "      <td>-1.8609</td>\n",
       "      <td>4.15765</td>\n",
       "      <td>0</td>\n",
       "      <td>0</td>\n",
       "      <td>0</td>\n",
       "      <td>0</td>\n",
       "    </tr>\n",
       "    <tr>\n",
       "      <th>2</th>\n",
       "      <td>1.98739</td>\n",
       "      <td>3.26364</td>\n",
       "      <td>8.68354</td>\n",
       "      <td>2.94348</td>\n",
       "      <td>3.80315</td>\n",
       "      <td>10.1613</td>\n",
       "      <td>-0.668772</td>\n",
       "      <td>-0.166689</td>\n",
       "      <td>-10.8361</td>\n",
       "      <td>16.4826</td>\n",
       "      <td>-12.1264</td>\n",
       "      <td>4.15765</td>\n",
       "      <td>1</td>\n",
       "      <td>0</td>\n",
       "      <td>0</td>\n",
       "      <td>1</td>\n",
       "    </tr>\n",
       "    <tr>\n",
       "      <th>3</th>\n",
       "      <td>-1.40117</td>\n",
       "      <td>3.26364</td>\n",
       "      <td>9.2258</td>\n",
       "      <td>3.73587</td>\n",
       "      <td>3.50673</td>\n",
       "      <td>10.1613</td>\n",
       "      <td>-1.59224</td>\n",
       "      <td>-0.166689</td>\n",
       "      <td>-8.70447</td>\n",
       "      <td>9.85009</td>\n",
       "      <td>-1.8609</td>\n",
       "      <td>4.15765</td>\n",
       "      <td>1</td>\n",
       "      <td>0</td>\n",
       "      <td>0</td>\n",
       "      <td>0</td>\n",
       "    </tr>\n",
       "    <tr>\n",
       "      <th>4</th>\n",
       "      <td>0.552658</td>\n",
       "      <td>3.26364</td>\n",
       "      <td>8.70657</td>\n",
       "      <td>3.08626</td>\n",
       "      <td>3.50673</td>\n",
       "      <td>11.3226</td>\n",
       "      <td>-2.36213</td>\n",
       "      <td>-3.65345</td>\n",
       "      <td>-10.4621</td>\n",
       "      <td>13.1939</td>\n",
       "      <td>-1.8609</td>\n",
       "      <td>4.15765</td>\n",
       "      <td>1</td>\n",
       "      <td>0</td>\n",
       "      <td>0</td>\n",
       "      <td>0</td>\n",
       "    </tr>\n",
       "  </tbody>\n",
       "</table>\n",
       "</div>"
      ],
      "text/plain": [
       "         f0       f1       f2       f3       f4       f5        f6        f7  \\\n",
       "0  0.775465  3.26364  8.40525  3.02261  3.50673  10.1613 -0.728742 -0.166689   \n",
       "1    1.4787  3.41786  8.39088  2.34476  3.50673  10.8406  -2.38134 -0.760711   \n",
       "2   1.98739  3.26364  8.68354  2.94348  3.80315  10.1613 -0.668772 -0.166689   \n",
       "3  -1.40117  3.26364   9.2258  3.73587  3.50673  10.1613  -1.59224 -0.166689   \n",
       "4  0.552658  3.26364  8.70657  3.08626  3.50673  11.3226  -2.36213  -3.65345   \n",
       "\n",
       "        f8       f9      f10      f11 treatment conversion visit exposure  \n",
       "0 -18.1093  17.8461  -1.8609  4.15765         1          0     1        0  \n",
       "1 -10.0514  16.9877  -1.8609  4.15765         0          0     0        0  \n",
       "2 -10.8361  16.4826 -12.1264  4.15765         1          0     0        1  \n",
       "3 -8.70447  9.85009  -1.8609  4.15765         1          0     0        0  \n",
       "4 -10.4621  13.1939  -1.8609  4.15765         1          0     0        0  "
      ]
     },
     "execution_count": 3,
     "metadata": {},
     "output_type": "execute_result"
    }
   ],
   "source": [
    "data.head()"
   ]
  },
  {
   "cell_type": "code",
   "execution_count": 4,
   "metadata": {
    "collapsed": true
   },
   "outputs": [],
   "source": [
    "test    = data[data.treatment == 1]\n",
    "control = data[data.treatment == 0]"
   ]
  },
  {
   "cell_type": "code",
   "execution_count": 5,
   "metadata": {
    "collapsed": false
   },
   "outputs": [
    {
     "name": "stdout",
     "output_type": "stream",
     "text": [
      "18562872\n",
      "3385773\n"
     ]
    }
   ],
   "source": [
    "print(test.shape[0])\n",
    "print(control.shape[0])"
   ]
  },
  {
   "cell_type": "code",
   "execution_count": 6,
   "metadata": {
    "collapsed": false
   },
   "outputs": [
    {
     "name": "stdout",
     "output_type": "stream",
     "text": [
      "0.9993065728191198\n"
     ]
    }
   ],
   "source": [
    "f = 12\n",
    "t = AnnoyIndex(f)  # Length of item vector that will be indexed\n",
    "for i in range(test.shape[0]):\n",
    "    if i % 50000 == 0:\n",
    "        clear_output()\n",
    "        print(i/test.shape[0])\n",
    "    ix = test.index[i]\n",
    "    v = test.loc[ix][:-4]\n",
    "    t.add_item(ix, v)"
   ]
  },
  {
   "cell_type": "code",
   "execution_count": 7,
   "metadata": {
    "collapsed": false
   },
   "outputs": [
    {
     "data": {
      "text/plain": [
       "True"
      ]
     },
     "execution_count": 7,
     "metadata": {},
     "output_type": "execute_result"
    }
   ],
   "source": [
    "t.build(10) # 10 trees"
   ]
  },
  {
   "cell_type": "code",
   "execution_count": 8,
   "metadata": {
    "collapsed": false
   },
   "outputs": [
    {
     "data": {
      "text/plain": [
       "True"
      ]
     },
     "execution_count": 8,
     "metadata": {},
     "output_type": "execute_result"
    }
   ],
   "source": [
    "t.save('test_full.ann')"
   ]
  },
  {
   "cell_type": "code",
   "execution_count": null,
   "metadata": {
    "collapsed": false
   },
   "outputs": [],
   "source": [
    "# u = AnnoyIndex(f)\n",
    "# u.load('test.ann') # super fast, will just mmap the file\n",
    "# print(u.get_nns_by_item(0, 1000)) # will find the 1000 nearest neighbors"
   ]
  },
  {
   "cell_type": "code",
   "execution_count": 9,
   "metadata": {
    "collapsed": false
   },
   "outputs": [
    {
     "data": {
      "text/html": [
       "<div>\n",
       "<table border=\"1\" class=\"dataframe\">\n",
       "  <thead>\n",
       "    <tr style=\"text-align: right;\">\n",
       "      <th></th>\n",
       "      <th>f0</th>\n",
       "      <th>f1</th>\n",
       "      <th>f2</th>\n",
       "      <th>f3</th>\n",
       "      <th>f4</th>\n",
       "      <th>f5</th>\n",
       "      <th>f6</th>\n",
       "      <th>f7</th>\n",
       "      <th>f8</th>\n",
       "      <th>f9</th>\n",
       "      <th>f10</th>\n",
       "      <th>f11</th>\n",
       "      <th>treatment</th>\n",
       "      <th>conversion</th>\n",
       "      <th>visit</th>\n",
       "      <th>exposure</th>\n",
       "    </tr>\n",
       "  </thead>\n",
       "  <tbody>\n",
       "    <tr>\n",
       "      <th>1</th>\n",
       "      <td>1.4787</td>\n",
       "      <td>3.41786</td>\n",
       "      <td>8.39088</td>\n",
       "      <td>2.34476</td>\n",
       "      <td>3.50673</td>\n",
       "      <td>10.8406</td>\n",
       "      <td>-2.38134</td>\n",
       "      <td>-0.760711</td>\n",
       "      <td>-10.0514</td>\n",
       "      <td>16.9877</td>\n",
       "      <td>-1.8609</td>\n",
       "      <td>4.15765</td>\n",
       "      <td>0</td>\n",
       "      <td>0</td>\n",
       "      <td>0</td>\n",
       "      <td>0</td>\n",
       "    </tr>\n",
       "    <tr>\n",
       "      <th>9</th>\n",
       "      <td>0.732334</td>\n",
       "      <td>3.26364</td>\n",
       "      <td>8.6784</td>\n",
       "      <td>2.70395</td>\n",
       "      <td>3.50673</td>\n",
       "      <td>10.1613</td>\n",
       "      <td>-1.30468</td>\n",
       "      <td>-0.166689</td>\n",
       "      <td>-8.28683</td>\n",
       "      <td>13.1939</td>\n",
       "      <td>-1.8609</td>\n",
       "      <td>4.15765</td>\n",
       "      <td>0</td>\n",
       "      <td>0</td>\n",
       "      <td>1</td>\n",
       "      <td>0</td>\n",
       "    </tr>\n",
       "    <tr>\n",
       "      <th>16</th>\n",
       "      <td>-0.742603</td>\n",
       "      <td>3.26364</td>\n",
       "      <td>8.98044</td>\n",
       "      <td>3.73587</td>\n",
       "      <td>3.50673</td>\n",
       "      <td>10.1613</td>\n",
       "      <td>-2.08654</td>\n",
       "      <td>-0.166689</td>\n",
       "      <td>-16.3117</td>\n",
       "      <td>9.85009</td>\n",
       "      <td>-1.8609</td>\n",
       "      <td>4.15765</td>\n",
       "      <td>0</td>\n",
       "      <td>0</td>\n",
       "      <td>0</td>\n",
       "      <td>0</td>\n",
       "    </tr>\n",
       "    <tr>\n",
       "      <th>33</th>\n",
       "      <td>0.947677</td>\n",
       "      <td>3.26364</td>\n",
       "      <td>8.44249</td>\n",
       "      <td>3.02261</td>\n",
       "      <td>4.01347</td>\n",
       "      <td>10.1613</td>\n",
       "      <td>-0.540946</td>\n",
       "      <td>-0.166689</td>\n",
       "      <td>-23.5006</td>\n",
       "      <td>24.4167</td>\n",
       "      <td>-8.74122</td>\n",
       "      <td>4.15765</td>\n",
       "      <td>0</td>\n",
       "      <td>0</td>\n",
       "      <td>0</td>\n",
       "      <td>0</td>\n",
       "    </tr>\n",
       "    <tr>\n",
       "      <th>38</th>\n",
       "      <td>1.52773</td>\n",
       "      <td>3.26364</td>\n",
       "      <td>8.55256</td>\n",
       "      <td>3.16273</td>\n",
       "      <td>3.50673</td>\n",
       "      <td>11.3226</td>\n",
       "      <td>-4.58455</td>\n",
       "      <td>-2.79102</td>\n",
       "      <td>-16.0807</td>\n",
       "      <td>16.5916</td>\n",
       "      <td>-1.8609</td>\n",
       "      <td>4.15765</td>\n",
       "      <td>0</td>\n",
       "      <td>0</td>\n",
       "      <td>1</td>\n",
       "      <td>0</td>\n",
       "    </tr>\n",
       "  </tbody>\n",
       "</table>\n",
       "</div>"
      ],
      "text/plain": [
       "          f0       f1       f2       f3       f4       f5        f6        f7  \\\n",
       "1     1.4787  3.41786  8.39088  2.34476  3.50673  10.8406  -2.38134 -0.760711   \n",
       "9   0.732334  3.26364   8.6784  2.70395  3.50673  10.1613  -1.30468 -0.166689   \n",
       "16 -0.742603  3.26364  8.98044  3.73587  3.50673  10.1613  -2.08654 -0.166689   \n",
       "33  0.947677  3.26364  8.44249  3.02261  4.01347  10.1613 -0.540946 -0.166689   \n",
       "38   1.52773  3.26364  8.55256  3.16273  3.50673  11.3226  -4.58455  -2.79102   \n",
       "\n",
       "         f8       f9      f10      f11 treatment conversion visit exposure  \n",
       "1  -10.0514  16.9877  -1.8609  4.15765         0          0     0        0  \n",
       "9  -8.28683  13.1939  -1.8609  4.15765         0          0     1        0  \n",
       "16 -16.3117  9.85009  -1.8609  4.15765         0          0     0        0  \n",
       "33 -23.5006  24.4167 -8.74122  4.15765         0          0     0        0  \n",
       "38 -16.0807  16.5916  -1.8609  4.15765         0          0     1        0  "
      ]
     },
     "execution_count": 9,
     "metadata": {},
     "output_type": "execute_result"
    }
   ],
   "source": [
    "control.head()"
   ]
  },
  {
   "cell_type": "code",
   "execution_count": 25,
   "metadata": {
    "collapsed": false
   },
   "outputs": [
    {
     "name": "stdout",
     "output_type": "stream",
     "text": [
      "0.9894343182487426\n"
     ]
    }
   ],
   "source": [
    "matched_items = []\n",
    "for row in range(control.shape[0]):\n",
    "    d = t.get_nns_by_vector(control.iloc[row][:-4], 1, include_distances=True)\n",
    "    control_ix      = control.index[row]\n",
    "    test_ix         = d[0][0]\n",
    "    dist            = d[1][0]\n",
    "    test_outcome    = test.loc[test_ix][-3] \n",
    "    control_outcome = control.loc[control_ix][-3] \n",
    "    matched_items.append([control_ix, test_ix, control_outcome, test_outcome, dist])    \n",
    "    if row % 50000 == 0:\n",
    "        clear_output()\n",
    "        print(row/control.shape[0])"
   ]
  },
  {
   "cell_type": "code",
   "execution_count": 26,
   "metadata": {
    "collapsed": false
   },
   "outputs": [],
   "source": [
    "results = pd.DataFrame(matched_items)\n",
    "results.columns = ['control_ix', 'test_ix', 'control_out', 'test_out', 'distance']"
   ]
  },
  {
   "cell_type": "code",
   "execution_count": 42,
   "metadata": {
    "collapsed": false
   },
   "outputs": [],
   "source": [
    "results.index = results.control_ix"
   ]
  },
  {
   "cell_type": "code",
   "execution_count": 44,
   "metadata": {
    "collapsed": false
   },
   "outputs": [],
   "source": [
    "results = pd.concat([results, control[control.columns[:-4]]], axis=1)"
   ]
  },
  {
   "cell_type": "code",
   "execution_count": 50,
   "metadata": {
    "collapsed": false
   },
   "outputs": [],
   "source": [
    "test_slide = test.loc[list(results.test_ix)][test.columns[:-4]]"
   ]
  },
  {
   "cell_type": "code",
   "execution_count": 53,
   "metadata": {
    "collapsed": false
   },
   "outputs": [
    {
     "data": {
      "text/html": [
       "<div>\n",
       "<table border=\"1\" class=\"dataframe\">\n",
       "  <thead>\n",
       "    <tr style=\"text-align: right;\">\n",
       "      <th></th>\n",
       "      <th>f0c</th>\n",
       "      <th>f1c</th>\n",
       "      <th>f2c</th>\n",
       "      <th>f3c</th>\n",
       "      <th>f4c</th>\n",
       "      <th>f5c</th>\n",
       "      <th>f6c</th>\n",
       "      <th>f7c</th>\n",
       "      <th>f8c</th>\n",
       "      <th>f9c</th>\n",
       "      <th>f10c</th>\n",
       "      <th>f11c</th>\n",
       "    </tr>\n",
       "  </thead>\n",
       "  <tbody>\n",
       "    <tr>\n",
       "      <th>19114443</th>\n",
       "      <td>1.50353</td>\n",
       "      <td>3.41786</td>\n",
       "      <td>8.37205</td>\n",
       "      <td>2.30709</td>\n",
       "      <td>3.50673</td>\n",
       "      <td>10.8406</td>\n",
       "      <td>-2.52655</td>\n",
       "      <td>-0.75298</td>\n",
       "      <td>-9.90493</td>\n",
       "      <td>16.8941</td>\n",
       "      <td>-1.8609</td>\n",
       "      <td>4.15765</td>\n",
       "    </tr>\n",
       "    <tr>\n",
       "      <th>9637197</th>\n",
       "      <td>0.50616</td>\n",
       "      <td>3.26364</td>\n",
       "      <td>8.74993</td>\n",
       "      <td>2.61387</td>\n",
       "      <td>3.50673</td>\n",
       "      <td>10.1613</td>\n",
       "      <td>-1.34385</td>\n",
       "      <td>-0.166689</td>\n",
       "      <td>-8.28683</td>\n",
       "      <td>13.1939</td>\n",
       "      <td>-1.8609</td>\n",
       "      <td>4.15765</td>\n",
       "    </tr>\n",
       "    <tr>\n",
       "      <th>152609</th>\n",
       "      <td>-0.773452</td>\n",
       "      <td>3.26364</td>\n",
       "      <td>9.00574</td>\n",
       "      <td>3.73587</td>\n",
       "      <td>3.50673</td>\n",
       "      <td>10.1613</td>\n",
       "      <td>-2.03915</td>\n",
       "      <td>-0.166689</td>\n",
       "      <td>-16.247</td>\n",
       "      <td>9.85009</td>\n",
       "      <td>-1.8609</td>\n",
       "      <td>4.15765</td>\n",
       "    </tr>\n",
       "    <tr>\n",
       "      <th>81790</th>\n",
       "      <td>0.654126</td>\n",
       "      <td>3.26364</td>\n",
       "      <td>8.27405</td>\n",
       "      <td>2.878</td>\n",
       "      <td>3.80315</td>\n",
       "      <td>10.1613</td>\n",
       "      <td>-0.728742</td>\n",
       "      <td>-0.166689</td>\n",
       "      <td>-23.0661</td>\n",
       "      <td>24.185</td>\n",
       "      <td>-8.60127</td>\n",
       "      <td>4.15765</td>\n",
       "    </tr>\n",
       "    <tr>\n",
       "      <th>3238104</th>\n",
       "      <td>1.605</td>\n",
       "      <td>3.26364</td>\n",
       "      <td>8.38804</td>\n",
       "      <td>2.70395</td>\n",
       "      <td>3.50673</td>\n",
       "      <td>10.8406</td>\n",
       "      <td>-4.16901</td>\n",
       "      <td>-2.75129</td>\n",
       "      <td>-15.6146</td>\n",
       "      <td>16.2504</td>\n",
       "      <td>-1.8609</td>\n",
       "      <td>4.15765</td>\n",
       "    </tr>\n",
       "  </tbody>\n",
       "</table>\n",
       "</div>"
      ],
      "text/plain": [
       "               f0c      f1c      f2c      f3c      f4c      f5c       f6c  \\\n",
       "19114443   1.50353  3.41786  8.37205  2.30709  3.50673  10.8406  -2.52655   \n",
       "9637197    0.50616  3.26364  8.74993  2.61387  3.50673  10.1613  -1.34385   \n",
       "152609   -0.773452  3.26364  9.00574  3.73587  3.50673  10.1613  -2.03915   \n",
       "81790     0.654126  3.26364  8.27405    2.878  3.80315  10.1613 -0.728742   \n",
       "3238104      1.605  3.26364  8.38804  2.70395  3.50673  10.8406  -4.16901   \n",
       "\n",
       "               f7c      f8c      f9c     f10c     f11c  \n",
       "19114443  -0.75298 -9.90493  16.8941  -1.8609  4.15765  \n",
       "9637197  -0.166689 -8.28683  13.1939  -1.8609  4.15765  \n",
       "152609   -0.166689  -16.247  9.85009  -1.8609  4.15765  \n",
       "81790    -0.166689 -23.0661   24.185 -8.60127  4.15765  \n",
       "3238104   -2.75129 -15.6146  16.2504  -1.8609  4.15765  "
      ]
     },
     "execution_count": 53,
     "metadata": {},
     "output_type": "execute_result"
    }
   ],
   "source": [
    "test_slide.head()"
   ]
  },
  {
   "cell_type": "code",
   "execution_count": 52,
   "metadata": {
    "collapsed": false
   },
   "outputs": [],
   "source": [
    "test_slide.columns = ['f0c','f1c','f2c','f3c','f4c','f5c','f6c','f7c','f8c','f9c','f10c','f11c']"
   ]
  },
  {
   "cell_type": "code",
   "execution_count": 55,
   "metadata": {
    "collapsed": false
   },
   "outputs": [],
   "source": [
    "results.index = results.test_ix"
   ]
  },
  {
   "cell_type": "code",
   "execution_count": 57,
   "metadata": {
    "collapsed": true
   },
   "outputs": [],
   "source": [
    "results = pd.concat([results, test_slide], axis=1)"
   ]
  },
  {
   "cell_type": "code",
   "execution_count": 58,
   "metadata": {
    "collapsed": false
   },
   "outputs": [
    {
     "data": {
      "text/html": [
       "<div>\n",
       "<table border=\"1\" class=\"dataframe\">\n",
       "  <thead>\n",
       "    <tr style=\"text-align: right;\">\n",
       "      <th></th>\n",
       "      <th>control_ix</th>\n",
       "      <th>test_ix</th>\n",
       "      <th>control_out</th>\n",
       "      <th>test_out</th>\n",
       "      <th>distance</th>\n",
       "      <th>f0</th>\n",
       "      <th>f1</th>\n",
       "      <th>f2</th>\n",
       "      <th>f3</th>\n",
       "      <th>f4</th>\n",
       "      <th>...</th>\n",
       "      <th>f2c</th>\n",
       "      <th>f3c</th>\n",
       "      <th>f4c</th>\n",
       "      <th>f5c</th>\n",
       "      <th>f6c</th>\n",
       "      <th>f7c</th>\n",
       "      <th>f8c</th>\n",
       "      <th>f9c</th>\n",
       "      <th>f10c</th>\n",
       "      <th>f11c</th>\n",
       "    </tr>\n",
       "    <tr>\n",
       "      <th>test_ix</th>\n",
       "      <th></th>\n",
       "      <th></th>\n",
       "      <th></th>\n",
       "      <th></th>\n",
       "      <th></th>\n",
       "      <th></th>\n",
       "      <th></th>\n",
       "      <th></th>\n",
       "      <th></th>\n",
       "      <th></th>\n",
       "      <th></th>\n",
       "      <th></th>\n",
       "      <th></th>\n",
       "      <th></th>\n",
       "      <th></th>\n",
       "      <th></th>\n",
       "      <th></th>\n",
       "      <th></th>\n",
       "      <th></th>\n",
       "      <th></th>\n",
       "      <th></th>\n",
       "    </tr>\n",
       "  </thead>\n",
       "  <tbody>\n",
       "    <tr>\n",
       "      <th>19114443</th>\n",
       "      <td>1</td>\n",
       "      <td>19114443</td>\n",
       "      <td>0</td>\n",
       "      <td>0</td>\n",
       "      <td>0.007983</td>\n",
       "      <td>1.4787</td>\n",
       "      <td>3.41786</td>\n",
       "      <td>8.39088</td>\n",
       "      <td>2.34476</td>\n",
       "      <td>3.50673</td>\n",
       "      <td>...</td>\n",
       "      <td>8.37205</td>\n",
       "      <td>2.30709</td>\n",
       "      <td>3.50673</td>\n",
       "      <td>10.8406</td>\n",
       "      <td>-2.52655</td>\n",
       "      <td>-0.75298</td>\n",
       "      <td>-9.90493</td>\n",
       "      <td>16.8941</td>\n",
       "      <td>-1.8609</td>\n",
       "      <td>4.15765</td>\n",
       "    </tr>\n",
       "    <tr>\n",
       "      <th>9637197</th>\n",
       "      <td>9</td>\n",
       "      <td>9637197</td>\n",
       "      <td>0</td>\n",
       "      <td>0</td>\n",
       "      <td>0.011760</td>\n",
       "      <td>0.732334</td>\n",
       "      <td>3.26364</td>\n",
       "      <td>8.6784</td>\n",
       "      <td>2.70395</td>\n",
       "      <td>3.50673</td>\n",
       "      <td>...</td>\n",
       "      <td>8.74993</td>\n",
       "      <td>2.61387</td>\n",
       "      <td>3.50673</td>\n",
       "      <td>10.1613</td>\n",
       "      <td>-1.34385</td>\n",
       "      <td>-0.166689</td>\n",
       "      <td>-8.28683</td>\n",
       "      <td>13.1939</td>\n",
       "      <td>-1.8609</td>\n",
       "      <td>4.15765</td>\n",
       "    </tr>\n",
       "    <tr>\n",
       "      <th>152609</th>\n",
       "      <td>16</td>\n",
       "      <td>152609</td>\n",
       "      <td>0</td>\n",
       "      <td>0</td>\n",
       "      <td>0.003313</td>\n",
       "      <td>-0.742603</td>\n",
       "      <td>3.26364</td>\n",
       "      <td>8.98044</td>\n",
       "      <td>3.73587</td>\n",
       "      <td>3.50673</td>\n",
       "      <td>...</td>\n",
       "      <td>9.00574</td>\n",
       "      <td>3.73587</td>\n",
       "      <td>3.50673</td>\n",
       "      <td>10.1613</td>\n",
       "      <td>-2.03915</td>\n",
       "      <td>-0.166689</td>\n",
       "      <td>-16.247</td>\n",
       "      <td>9.85009</td>\n",
       "      <td>-1.8609</td>\n",
       "      <td>4.15765</td>\n",
       "    </tr>\n",
       "    <tr>\n",
       "      <th>81790</th>\n",
       "      <td>33</td>\n",
       "      <td>81790</td>\n",
       "      <td>0</td>\n",
       "      <td>0</td>\n",
       "      <td>0.011970</td>\n",
       "      <td>0.947677</td>\n",
       "      <td>3.26364</td>\n",
       "      <td>8.44249</td>\n",
       "      <td>3.02261</td>\n",
       "      <td>4.01347</td>\n",
       "      <td>...</td>\n",
       "      <td>8.27405</td>\n",
       "      <td>2.878</td>\n",
       "      <td>3.80315</td>\n",
       "      <td>10.1613</td>\n",
       "      <td>-0.728742</td>\n",
       "      <td>-0.166689</td>\n",
       "      <td>-23.0661</td>\n",
       "      <td>24.185</td>\n",
       "      <td>-8.60127</td>\n",
       "      <td>4.15765</td>\n",
       "    </tr>\n",
       "    <tr>\n",
       "      <th>3238104</th>\n",
       "      <td>38</td>\n",
       "      <td>3238104</td>\n",
       "      <td>0</td>\n",
       "      <td>0</td>\n",
       "      <td>0.020262</td>\n",
       "      <td>1.52773</td>\n",
       "      <td>3.26364</td>\n",
       "      <td>8.55256</td>\n",
       "      <td>3.16273</td>\n",
       "      <td>3.50673</td>\n",
       "      <td>...</td>\n",
       "      <td>8.38804</td>\n",
       "      <td>2.70395</td>\n",
       "      <td>3.50673</td>\n",
       "      <td>10.8406</td>\n",
       "      <td>-4.16901</td>\n",
       "      <td>-2.75129</td>\n",
       "      <td>-15.6146</td>\n",
       "      <td>16.2504</td>\n",
       "      <td>-1.8609</td>\n",
       "      <td>4.15765</td>\n",
       "    </tr>\n",
       "  </tbody>\n",
       "</table>\n",
       "<p>5 rows × 29 columns</p>\n",
       "</div>"
      ],
      "text/plain": [
       "          control_ix   test_ix  control_out  test_out  distance        f0  \\\n",
       "test_ix                                                                     \n",
       "19114443           1  19114443            0         0  0.007983    1.4787   \n",
       "9637197            9   9637197            0         0  0.011760  0.732334   \n",
       "152609            16    152609            0         0  0.003313 -0.742603   \n",
       "81790             33     81790            0         0  0.011970  0.947677   \n",
       "3238104           38   3238104            0         0  0.020262   1.52773   \n",
       "\n",
       "               f1       f2       f3       f4   ...         f2c      f3c  \\\n",
       "test_ix                                        ...                        \n",
       "19114443  3.41786  8.39088  2.34476  3.50673   ...     8.37205  2.30709   \n",
       "9637197   3.26364   8.6784  2.70395  3.50673   ...     8.74993  2.61387   \n",
       "152609    3.26364  8.98044  3.73587  3.50673   ...     9.00574  3.73587   \n",
       "81790     3.26364  8.44249  3.02261  4.01347   ...     8.27405    2.878   \n",
       "3238104   3.26364  8.55256  3.16273  3.50673   ...     8.38804  2.70395   \n",
       "\n",
       "              f4c      f5c       f6c       f7c      f8c      f9c     f10c  \\\n",
       "test_ix                                                                     \n",
       "19114443  3.50673  10.8406  -2.52655  -0.75298 -9.90493  16.8941  -1.8609   \n",
       "9637197   3.50673  10.1613  -1.34385 -0.166689 -8.28683  13.1939  -1.8609   \n",
       "152609    3.50673  10.1613  -2.03915 -0.166689  -16.247  9.85009  -1.8609   \n",
       "81790     3.80315  10.1613 -0.728742 -0.166689 -23.0661   24.185 -8.60127   \n",
       "3238104   3.50673  10.8406  -4.16901  -2.75129 -15.6146  16.2504  -1.8609   \n",
       "\n",
       "             f11c  \n",
       "test_ix            \n",
       "19114443  4.15765  \n",
       "9637197   4.15765  \n",
       "152609    4.15765  \n",
       "81790     4.15765  \n",
       "3238104   4.15765  \n",
       "\n",
       "[5 rows x 29 columns]"
      ]
     },
     "execution_count": 58,
     "metadata": {},
     "output_type": "execute_result"
    }
   ],
   "source": [
    "results.head()"
   ]
  },
  {
   "cell_type": "markdown",
   "metadata": {},
   "source": [
    "Matching Diagnostics \n",
    "\n",
    "Now that we have performed matching, we need to perform some diagnostics. There are several test we will perform.\n",
    "\n",
    "1. Classifier to T-test to insure we cannot predict treatment variable based on sample.\n",
    "    - We know this is the case with the entire dataset, however as we used a nearest neighbor apporach to find distances, we may have introduced bias. \n",
    "2. The C2T test should allow us to measure any bias in best versus control, the next test will help us to understand variance. For this we will take the mean of each \n",
    "\n",
    "1. take mean of each column in test/control. Do hypothesis test to see if they are different\n",
    "2. "
   ]
  },
  {
   "cell_type": "code",
   "execution_count": 12,
   "metadata": {
    "collapsed": true
   },
   "outputs": [],
   "source": [
    "results = pd.read_csv('results.csv')"
   ]
  },
  {
   "cell_type": "code",
   "execution_count": 13,
   "metadata": {
    "collapsed": false
   },
   "outputs": [
    {
     "data": {
      "text/html": [
       "<div>\n",
       "<table border=\"1\" class=\"dataframe\">\n",
       "  <thead>\n",
       "    <tr style=\"text-align: right;\">\n",
       "      <th></th>\n",
       "      <th>control_ix</th>\n",
       "      <th>test_ix</th>\n",
       "      <th>control_out</th>\n",
       "      <th>test_out</th>\n",
       "      <th>distance</th>\n",
       "      <th>f0</th>\n",
       "      <th>f1</th>\n",
       "      <th>f2</th>\n",
       "      <th>f3</th>\n",
       "      <th>f4</th>\n",
       "      <th>...</th>\n",
       "      <th>f2c</th>\n",
       "      <th>f3c</th>\n",
       "      <th>f4c</th>\n",
       "      <th>f5c</th>\n",
       "      <th>f6c</th>\n",
       "      <th>f7c</th>\n",
       "      <th>f8c</th>\n",
       "      <th>f9c</th>\n",
       "      <th>f10c</th>\n",
       "      <th>f11c</th>\n",
       "    </tr>\n",
       "  </thead>\n",
       "  <tbody>\n",
       "    <tr>\n",
       "      <th>0</th>\n",
       "      <td>1</td>\n",
       "      <td>19114443</td>\n",
       "      <td>0</td>\n",
       "      <td>0</td>\n",
       "      <td>0.007983</td>\n",
       "      <td>1.478699</td>\n",
       "      <td>3.417861</td>\n",
       "      <td>8.390882</td>\n",
       "      <td>2.344760</td>\n",
       "      <td>3.506733</td>\n",
       "      <td>...</td>\n",
       "      <td>8.372049</td>\n",
       "      <td>2.307094</td>\n",
       "      <td>3.506733</td>\n",
       "      <td>10.840586</td>\n",
       "      <td>-2.526549</td>\n",
       "      <td>-0.752980</td>\n",
       "      <td>-9.904933</td>\n",
       "      <td>16.894056</td>\n",
       "      <td>-1.860900</td>\n",
       "      <td>4.157648</td>\n",
       "    </tr>\n",
       "    <tr>\n",
       "      <th>1</th>\n",
       "      <td>9</td>\n",
       "      <td>9637197</td>\n",
       "      <td>0</td>\n",
       "      <td>0</td>\n",
       "      <td>0.011760</td>\n",
       "      <td>0.732334</td>\n",
       "      <td>3.263641</td>\n",
       "      <td>8.678399</td>\n",
       "      <td>2.703948</td>\n",
       "      <td>3.506733</td>\n",
       "      <td>...</td>\n",
       "      <td>8.749926</td>\n",
       "      <td>2.613870</td>\n",
       "      <td>3.506733</td>\n",
       "      <td>10.161281</td>\n",
       "      <td>-1.343855</td>\n",
       "      <td>-0.166689</td>\n",
       "      <td>-8.286829</td>\n",
       "      <td>13.193869</td>\n",
       "      <td>-1.860900</td>\n",
       "      <td>4.157648</td>\n",
       "    </tr>\n",
       "    <tr>\n",
       "      <th>2</th>\n",
       "      <td>16</td>\n",
       "      <td>152609</td>\n",
       "      <td>0</td>\n",
       "      <td>0</td>\n",
       "      <td>0.003313</td>\n",
       "      <td>-0.742603</td>\n",
       "      <td>3.263641</td>\n",
       "      <td>8.980436</td>\n",
       "      <td>3.735871</td>\n",
       "      <td>3.506733</td>\n",
       "      <td>...</td>\n",
       "      <td>9.005744</td>\n",
       "      <td>3.735871</td>\n",
       "      <td>3.506733</td>\n",
       "      <td>10.161281</td>\n",
       "      <td>-2.039146</td>\n",
       "      <td>-0.166689</td>\n",
       "      <td>-16.247004</td>\n",
       "      <td>9.850093</td>\n",
       "      <td>-1.860900</td>\n",
       "      <td>4.157648</td>\n",
       "    </tr>\n",
       "    <tr>\n",
       "      <th>3</th>\n",
       "      <td>33</td>\n",
       "      <td>81790</td>\n",
       "      <td>0</td>\n",
       "      <td>0</td>\n",
       "      <td>0.011970</td>\n",
       "      <td>0.947677</td>\n",
       "      <td>3.263641</td>\n",
       "      <td>8.442494</td>\n",
       "      <td>3.022606</td>\n",
       "      <td>4.013466</td>\n",
       "      <td>...</td>\n",
       "      <td>8.274047</td>\n",
       "      <td>2.877999</td>\n",
       "      <td>3.803153</td>\n",
       "      <td>10.161281</td>\n",
       "      <td>-0.728742</td>\n",
       "      <td>-0.166689</td>\n",
       "      <td>-23.066055</td>\n",
       "      <td>24.184974</td>\n",
       "      <td>-8.601271</td>\n",
       "      <td>4.157648</td>\n",
       "    </tr>\n",
       "    <tr>\n",
       "      <th>4</th>\n",
       "      <td>38</td>\n",
       "      <td>3238104</td>\n",
       "      <td>0</td>\n",
       "      <td>0</td>\n",
       "      <td>0.020262</td>\n",
       "      <td>1.527733</td>\n",
       "      <td>3.263641</td>\n",
       "      <td>8.552558</td>\n",
       "      <td>3.162731</td>\n",
       "      <td>3.506733</td>\n",
       "      <td>...</td>\n",
       "      <td>8.388038</td>\n",
       "      <td>2.703948</td>\n",
       "      <td>3.506733</td>\n",
       "      <td>10.840586</td>\n",
       "      <td>-4.169010</td>\n",
       "      <td>-2.751289</td>\n",
       "      <td>-15.614602</td>\n",
       "      <td>16.250365</td>\n",
       "      <td>-1.860900</td>\n",
       "      <td>4.157648</td>\n",
       "    </tr>\n",
       "  </tbody>\n",
       "</table>\n",
       "<p>5 rows × 29 columns</p>\n",
       "</div>"
      ],
      "text/plain": [
       "   control_ix   test_ix  control_out  test_out  distance        f0        f1  \\\n",
       "0           1  19114443            0         0  0.007983  1.478699  3.417861   \n",
       "1           9   9637197            0         0  0.011760  0.732334  3.263641   \n",
       "2          16    152609            0         0  0.003313 -0.742603  3.263641   \n",
       "3          33     81790            0         0  0.011970  0.947677  3.263641   \n",
       "4          38   3238104            0         0  0.020262  1.527733  3.263641   \n",
       "\n",
       "         f2        f3        f4    ...          f2c       f3c       f4c  \\\n",
       "0  8.390882  2.344760  3.506733    ...     8.372049  2.307094  3.506733   \n",
       "1  8.678399  2.703948  3.506733    ...     8.749926  2.613870  3.506733   \n",
       "2  8.980436  3.735871  3.506733    ...     9.005744  3.735871  3.506733   \n",
       "3  8.442494  3.022606  4.013466    ...     8.274047  2.877999  3.803153   \n",
       "4  8.552558  3.162731  3.506733    ...     8.388038  2.703948  3.506733   \n",
       "\n",
       "         f5c       f6c       f7c        f8c        f9c      f10c      f11c  \n",
       "0  10.840586 -2.526549 -0.752980  -9.904933  16.894056 -1.860900  4.157648  \n",
       "1  10.161281 -1.343855 -0.166689  -8.286829  13.193869 -1.860900  4.157648  \n",
       "2  10.161281 -2.039146 -0.166689 -16.247004   9.850093 -1.860900  4.157648  \n",
       "3  10.161281 -0.728742 -0.166689 -23.066055  24.184974 -8.601271  4.157648  \n",
       "4  10.840586 -4.169010 -2.751289 -15.614602  16.250365 -1.860900  4.157648  \n",
       "\n",
       "[5 rows x 29 columns]"
      ]
     },
     "execution_count": 13,
     "metadata": {},
     "output_type": "execute_result"
    }
   ],
   "source": [
    "results.head()"
   ]
  },
  {
   "cell_type": "code",
   "execution_count": 16,
   "metadata": {
    "collapsed": true
   },
   "outputs": [],
   "source": [
    "diff = np.array(results[['f0', 'f1', 'f2', 'f3', 'f4', 'f5', 'f6', 'f7', 'f8', 'f9', 'f10', 'f11']]) - results[['f0c', 'f1c', 'f2c', 'f3c', 'f4c', 'f5c', 'f6c', 'f7c', 'f8c', 'f9c', 'f10c', 'f11c']]\n",
    "\n",
    "#diff.boxplot(column=['f0', 'f1', 'f2', 'f3', 'f4', 'f5', 'f6', 'f7', 'f8', 'f9', 'f10', 'f11'])"
   ]
  },
  {
   "cell_type": "code",
   "execution_count": 19,
   "metadata": {
    "collapsed": false
   },
   "outputs": [
    {
     "name": "stderr",
     "output_type": "stream",
     "text": [
      "/home/cbartondepaul/anaconda3/lib/python3.5/site-packages/ipykernel_launcher.py:4: FutureWarning: \n",
      "The default value for 'return_type' will change to 'axes' in a future release.\n",
      " To use the future behavior now, set return_type='axes'.\n",
      " To keep the previous behavior and silence this warning, set return_type='dict'.\n",
      "  after removing the cwd from sys.path.\n"
     ]
    },
    {
     "data": {
      "text/plain": [
       "{'boxes': [<matplotlib.lines.Line2D at 0x7fa6b8c53240>,\n",
       "  <matplotlib.lines.Line2D at 0x7fa6b8c67588>,\n",
       "  <matplotlib.lines.Line2D at 0x7fa6b8bfbeb8>,\n",
       "  <matplotlib.lines.Line2D at 0x7fa6b8c13828>,\n",
       "  <matplotlib.lines.Line2D at 0x7fa6a555a2e8>,\n",
       "  <matplotlib.lines.Line2D at 0x7fa6b8c337b8>,\n",
       "  <matplotlib.lines.Line2D at 0x7fa6b8bcb128>,\n",
       "  <matplotlib.lines.Line2D at 0x7fa6b8bdda58>,\n",
       "  <matplotlib.lines.Line2D at 0x7fa6b8b763c8>,\n",
       "  <matplotlib.lines.Line2D at 0x7fa6b8b88cf8>,\n",
       "  <matplotlib.lines.Line2D at 0x7fa6b8ba2668>,\n",
       "  <matplotlib.lines.Line2D at 0x7fa6b8b34f28>],\n",
       " 'caps': [<matplotlib.lines.Line2D at 0x7fa6b8c5bba8>,\n",
       "  <matplotlib.lines.Line2D at 0x7fa6b8c5bcc0>,\n",
       "  <matplotlib.lines.Line2D at 0x7fa6b8c6fdd8>,\n",
       "  <matplotlib.lines.Line2D at 0x7fa6b8bf5d30>,\n",
       "  <matplotlib.lines.Line2D at 0x7fa6b8c05e48>,\n",
       "  <matplotlib.lines.Line2D at 0x7fa6b8c05f60>,\n",
       "  <matplotlib.lines.Line2D at 0x7fa6b8c207b8>,\n",
       "  <matplotlib.lines.Line2D at 0x7fa6b8c20fd0>,\n",
       "  <matplotlib.lines.Line2D at 0x7fa6a5541c18>,\n",
       "  <matplotlib.lines.Line2D at 0x7fa6b8c26ef0>,\n",
       "  <matplotlib.lines.Line2D at 0x7fa6b8bbf748>,\n",
       "  <matplotlib.lines.Line2D at 0x7fa6b8bbff60>,\n",
       "  <matplotlib.lines.Line2D at 0x7fa6b8bd2f98>,\n",
       "  <matplotlib.lines.Line2D at 0x7fa6b8bd98d0>,\n",
       "  <matplotlib.lines.Line2D at 0x7fa6b8be99e8>,\n",
       "  <matplotlib.lines.Line2D at 0x7fa6b8be9b00>,\n",
       "  <matplotlib.lines.Line2D at 0x7fa6b8b7cc18>,\n",
       "  <matplotlib.lines.Line2D at 0x7fa6b8b83b70>,\n",
       "  <matplotlib.lines.Line2D at 0x7fa6b8b94c88>,\n",
       "  <matplotlib.lines.Line2D at 0x7fa6b8b94da0>,\n",
       "  <matplotlib.lines.Line2D at 0x7fa6b8ba7eb8>,\n",
       "  <matplotlib.lines.Line2D at 0x7fa6b8bafe10>,\n",
       "  <matplotlib.lines.Line2D at 0x7fa6b8b41f28>,\n",
       "  <matplotlib.lines.Line2D at 0x7fa6b8b46780>],\n",
       " 'fliers': [<matplotlib.lines.Line2D at 0x7fa6b8c61d30>,\n",
       "  <matplotlib.lines.Line2D at 0x7fa6b8bfbda0>,\n",
       "  <matplotlib.lines.Line2D at 0x7fa6b8c0bfd0>,\n",
       "  <matplotlib.lines.Line2D at 0x7fa6a55655c0>,\n",
       "  <matplotlib.lines.Line2D at 0x7fa6b8c2bf60>,\n",
       "  <matplotlib.lines.Line2D at 0x7fa6b8bc6fd0>,\n",
       "  <matplotlib.lines.Line2D at 0x7fa6b8bdd940>,\n",
       "  <matplotlib.lines.Line2D at 0x7fa6b8bf1b70>,\n",
       "  <matplotlib.lines.Line2D at 0x7fa6b8b88be0>,\n",
       "  <matplotlib.lines.Line2D at 0x7fa6b8b9ce10>,\n",
       "  <matplotlib.lines.Line2D at 0x7fa6b8b34e80>,\n",
       "  <matplotlib.lines.Line2D at 0x7fa6b8b4c7f0>],\n",
       " 'means': [],\n",
       " 'medians': [<matplotlib.lines.Line2D at 0x7fa6b8c61518>,\n",
       "  <matplotlib.lines.Line2D at 0x7fa6b8bf5e48>,\n",
       "  <matplotlib.lines.Line2D at 0x7fa6b8c0b7b8>,\n",
       "  <matplotlib.lines.Line2D at 0x7fa6b8c26128>,\n",
       "  <matplotlib.lines.Line2D at 0x7fa6b8c2b748>,\n",
       "  <matplotlib.lines.Line2D at 0x7fa6b8bc60b8>,\n",
       "  <matplotlib.lines.Line2D at 0x7fa6b8bd99e8>,\n",
       "  <matplotlib.lines.Line2D at 0x7fa6b8bf1358>,\n",
       "  <matplotlib.lines.Line2D at 0x7fa6b8b83c88>,\n",
       "  <matplotlib.lines.Line2D at 0x7fa6b8b9c5f8>,\n",
       "  <matplotlib.lines.Line2D at 0x7fa6b8baff28>,\n",
       "  <matplotlib.lines.Line2D at 0x7fa6b8b46898>],\n",
       " 'whiskers': [<matplotlib.lines.Line2D at 0x7fa6b8c4bf28>,\n",
       "  <matplotlib.lines.Line2D at 0x7fa6b8c53c50>,\n",
       "  <matplotlib.lines.Line2D at 0x7fa6b8c67d68>,\n",
       "  <matplotlib.lines.Line2D at 0x7fa6b8c6fcc0>,\n",
       "  <matplotlib.lines.Line2D at 0x7fa6b8c00dd8>,\n",
       "  <matplotlib.lines.Line2D at 0x7fa6b8c00ef0>,\n",
       "  <matplotlib.lines.Line2D at 0x7fa6b8c13f98>,\n",
       "  <matplotlib.lines.Line2D at 0x7fa6b8c1af60>,\n",
       "  <matplotlib.lines.Line2D at 0x7fa6a5551518>,\n",
       "  <matplotlib.lines.Line2D at 0x7fa6a554e940>,\n",
       "  <matplotlib.lines.Line2D at 0x7fa6b8c33f28>,\n",
       "  <matplotlib.lines.Line2D at 0x7fa6b8bbaef0>,\n",
       "  <matplotlib.lines.Line2D at 0x7fa6b8bcbef0>,\n",
       "  <matplotlib.lines.Line2D at 0x7fa6b8bd2860>,\n",
       "  <matplotlib.lines.Line2D at 0x7fa6b8be4978>,\n",
       "  <matplotlib.lines.Line2D at 0x7fa6b8be4a90>,\n",
       "  <matplotlib.lines.Line2D at 0x7fa6b8b76b38>,\n",
       "  <matplotlib.lines.Line2D at 0x7fa6b8b7cb00>,\n",
       "  <matplotlib.lines.Line2D at 0x7fa6b8b90c18>,\n",
       "  <matplotlib.lines.Line2D at 0x7fa6b8b90d30>,\n",
       "  <matplotlib.lines.Line2D at 0x7fa6b8ba2dd8>,\n",
       "  <matplotlib.lines.Line2D at 0x7fa6b8ba7da0>,\n",
       "  <matplotlib.lines.Line2D at 0x7fa6b8b3aeb8>,\n",
       "  <matplotlib.lines.Line2D at 0x7fa6b8b3afd0>]}"
      ]
     },
     "execution_count": 19,
     "metadata": {},
     "output_type": "execute_result"
    },
    {
     "data": {
      "image/png": "[encoded data removed]",
      "text/plain": [
       "<matplotlib.figure.Figure at 0x7fa6a55b55c0>"
      ]
     },
     "metadata": {},
     "output_type": "display_data"
    }
   ],
   "source": [
    "import matplotlib.pyplot as plt\n",
    "%matplotlib inline  \n",
    "plt.rcParams['figure.figsize'] = [15, 5]\n",
    "\n",
    "diff = np.array(results[['f0', 'f1', 'f2', 'f3', 'f4', 'f5', 'f6', 'f7', 'f8', 'f9', 'f10', 'f11']]) - results[['f0c', 'f1c', 'f2c', 'f3c', 'f4c', 'f5c', 'f6c', 'f7c', 'f8c', 'f9c', 'f10c', 'f11c']]\n",
    "\n",
    "diff.boxplot(column=['f0c', 'f1c', 'f2c', 'f3c', 'f4c', 'f5c', 'f6c', 'f7c', 'f8c', 'f9c', 'f10c', 'f11c'])"
   ]
  },
  {
   "cell_type": "code",
   "execution_count": 21,
   "metadata": {
    "collapsed": false
   },
   "outputs": [],
   "source": [
    "# results['f11'] - results['f11c']"
   ]
  },
  {
   "cell_type": "code",
   "execution_count": 113,
   "metadata": {
    "collapsed": false
   },
   "outputs": [],
   "source": [
    "# results[['f0', 'f1', 'f2', 'f3', 'f4', 'f5', 'f6', 'f7', 'f8', 'f9', 'f10', 'f11']].mean()"
   ]
  },
  {
   "cell_type": "code",
   "execution_count": 114,
   "metadata": {
    "collapsed": false
   },
   "outputs": [],
   "source": [
    "# results[['f0c', 'f1c', 'f2c', 'f3c', 'f4c', 'f5c', 'f6c', 'f7c', 'f8c', 'f9c', 'f10c', 'f11c']].mean()"
   ]
  },
  {
   "cell_type": "code",
   "execution_count": 25,
   "metadata": {
    "collapsed": false
   },
   "outputs": [
    {
     "data": {
      "text/plain": [
       "Ttest_indResult(statistic=-5.7097452676234921, pvalue=1.1315010157426141e-08)"
      ]
     },
     "execution_count": 25,
     "metadata": {},
     "output_type": "execute_result"
    }
   ],
   "source": [
    "from scipy.stats import ttest_ind\n",
    "\n",
    "ttest_ind(results['f0'], results['f0c'])"
   ]
  },
  {
   "cell_type": "code",
   "execution_count": 26,
   "metadata": {
    "collapsed": true
   },
   "outputs": [],
   "source": [
    "# low variance"
   ]
  },
  {
   "cell_type": "code",
   "execution_count": 27,
   "metadata": {
    "collapsed": true
   },
   "outputs": [],
   "source": [
    "# any bias. I assume there will be."
   ]
  },
  {
   "cell_type": "code",
   "execution_count": 29,
   "metadata": {
    "collapsed": false
   },
   "outputs": [],
   "source": [
    "from sklearn.linear_model import LogisticRegression\n",
    "from sklearn.cross_validation import train_test_split\n",
    "import numpy as np\n",
    "from sklearn.metrics import hamming_loss\n",
    "from scipy import stats"
   ]
  },
  {
   "cell_type": "code",
   "execution_count": 48,
   "metadata": {
    "collapsed": false
   },
   "outputs": [
    {
     "name": "stdout",
     "output_type": "stream",
     "text": [
      "1.0\n"
     ]
    }
   ],
   "source": [
    "clf=LogisticRegression()\n",
    "loss=hamming_loss\n",
    "bootstraps=300\n",
    "\n",
    "c = results[['f0','f1','f2','f3','f4','f5','f6','f7','f8','f9','f10','f11']]\n",
    "c['treatment'] = 0\n",
    "\n",
    "t = results[['f0c','f1c','f2c','f3c','f4c','f5c','f6c','f7c','f8c','f9c','f10c','f11c']]\n",
    "t.columns = ['f0','f1','f2','f3','f4','f5','f6','f7','f8','f9','f10','f11']\n",
    "t['treatment'] = 1\n",
    "            \n",
    "c2test = pd.concat([t, c])\n",
    "c2test = c2test.sample(frac=0.1)\n",
    "\n",
    "X_train, X_test, y_train, y_test = train_test_split(c2test[['f0','f1','f2','f3','f4','f5','f6','f7','f8','f9','f10','f11']], c2test['treatment'], test_size=0.33, random_state=35)\n",
    "\n",
    "y_pred = clf.fit(X_train, y_train).predict(X_test)\n",
    "emp_loss = loss(y_test, y_pred)\n",
    "bs_losses = []\n",
    "y_bar = np.mean(c2test['treatment'])\n",
    "\n",
    "for b in range(100+1):\n",
    "    clear_output()\n",
    "    print(b/100.)\n",
    "    y_random = np.random.binomial(1, y_bar, size=c2test['treatment'].shape[0])\n",
    "    X_train, X_test, y_train, y_test = train_test_split(c2test[['f0','f1','f2','f3','f4','f5','f6','f7','f8','f9','f10','f11']], y_random)\n",
    "    y_pred_bs = clf.fit(X_train, y_train).predict(X_test)\n",
    "    bs_losses += [loss(y_test, y_pred_bs)]\n",
    "    \n",
    "pc = stats.percentileofscore(sorted(bs_losses), emp_loss) / 100.\n",
    "pvalue = pc if pc < y_bar else 1 - pc"
   ]
  },
  {
   "cell_type": "code",
   "execution_count": 49,
   "metadata": {
    "collapsed": false
   },
   "outputs": [
    {
     "name": "stdout",
     "output_type": "stream",
     "text": [
      "Loss of classifier trained on treatment variable of full dataset: 0.500058175439\n",
      "Average loss of classifers trained on random treatment variable: 0.500085476889\n"
     ]
    }
   ],
   "source": [
    "print(\"Loss of classifier trained on treatment variable of full dataset: %s\" % emp_loss)\n",
    "print(\"Average loss of classifers trained on random treatment variable: %s\" % (np.mean(bs_losses)))"
   ]
  },
  {
   "cell_type": "code",
   "execution_count": 50,
   "metadata": {
    "collapsed": false
   },
   "outputs": [
    {
     "data": {
      "text/plain": [
       "Ttest_1sampResult(statistic=0.20887189235053805, pvalue=0.83497312540608026)"
      ]
     },
     "execution_count": 50,
     "metadata": {},
     "output_type": "execute_result"
    }
   ],
   "source": [
    "stats.ttest_1samp(bs_losses, emp_loss)\n"
   ]
  },
  {
   "cell_type": "code",
   "execution_count": 53,
   "metadata": {
    "collapsed": false
   },
   "outputs": [
    {
     "data": {
      "text/plain": [
       "<matplotlib.text.Text at 0x7fa6a72eb940>"
      ]
     },
     "execution_count": 53,
     "metadata": {},
     "output_type": "execute_result"
    },
    {
     "data": {
      "image/png": "[encoded data removed]",
      "text/plain": [
       "<matplotlib.figure.Figure at 0x7fa6b89a0b00>"
      ]
     },
     "metadata": {},
     "output_type": "display_data"
    }
   ],
   "source": [
    "import matplotlib.pyplot as plt\n",
    "import seaborn as sns\n",
    "\n",
    "sns.distplot(bs_losses, bins=50)\n",
    "plt.axvline(emp_loss, color='r')\n",
    "# plt.text(emp_loss+.1,0,'Treatment loss',rotation=90)\n",
    "plt.axvline(np.mean(bs_losses), color='black')\n",
    "plt.title(\"Distribution of Null Hypothesis and Treatment Loss\")\n",
    "plt.ylabel(\"Frequency\")\n",
    "plt.xlabel(\"Hamming Loss\")"
   ]
  },
  {
   "cell_type": "code",
   "execution_count": 112,
   "metadata": {
    "collapsed": false
   },
   "outputs": [],
   "source": [
    "# pd.DataFrame(results['test_ix'].value_counts()[:100])"
   ]
  },
  {
   "cell_type": "code",
   "execution_count": 64,
   "metadata": {
    "collapsed": false
   },
   "outputs": [
    {
     "data": {
      "text/plain": [
       "<matplotlib.axes._subplots.AxesSubplot at 0x7fa6a73abd30>"
      ]
     },
     "execution_count": 64,
     "metadata": {},
     "output_type": "execute_result"
    },
    {
     "data": {
      "image/png": "[encoded data removed]",
      "text/plain": [
       "<matplotlib.figure.Figure at 0x7fa6a7d43518>"
      ]
     },
     "metadata": {},
     "output_type": "display_data"
    }
   ],
   "source": [
    "sns.distplot(results['test_ix'].value_counts())"
   ]
  },
  {
   "cell_type": "code",
   "execution_count": 96,
   "metadata": {
    "collapsed": false
   },
   "outputs": [],
   "source": [
    "br = pd.DataFrame(results['test_ix'].value_counts()[:100]).reset_index()"
   ]
  },
  {
   "cell_type": "code",
   "execution_count": 97,
   "metadata": {
    "collapsed": false
   },
   "outputs": [
    {
     "data": {
      "text/html": [
       "<div>\n",
       "<table border=\"1\" class=\"dataframe\">\n",
       "  <thead>\n",
       "    <tr style=\"text-align: right;\">\n",
       "      <th></th>\n",
       "      <th>index</th>\n",
       "      <th>test_ix</th>\n",
       "    </tr>\n",
       "  </thead>\n",
       "  <tbody>\n",
       "    <tr>\n",
       "      <th>0</th>\n",
       "      <td>1280898</td>\n",
       "      <td>684628</td>\n",
       "    </tr>\n",
       "    <tr>\n",
       "      <th>1</th>\n",
       "      <td>13550094</td>\n",
       "      <td>104536</td>\n",
       "    </tr>\n",
       "    <tr>\n",
       "      <th>2</th>\n",
       "      <td>16709608</td>\n",
       "      <td>2541</td>\n",
       "    </tr>\n",
       "    <tr>\n",
       "      <th>3</th>\n",
       "      <td>16967772</td>\n",
       "      <td>2443</td>\n",
       "    </tr>\n",
       "    <tr>\n",
       "      <th>4</th>\n",
       "      <td>7386755</td>\n",
       "      <td>2395</td>\n",
       "    </tr>\n",
       "  </tbody>\n",
       "</table>\n",
       "</div>"
      ],
      "text/plain": [
       "      index  test_ix\n",
       "0   1280898   684628\n",
       "1  13550094   104536\n",
       "2  16709608     2541\n",
       "3  16967772     2443\n",
       "4   7386755     2395"
      ]
     },
     "execution_count": 97,
     "metadata": {},
     "output_type": "execute_result"
    }
   ],
   "source": [
    "br.head()"
   ]
  },
  {
   "cell_type": "code",
   "execution_count": 98,
   "metadata": {
    "collapsed": false
   },
   "outputs": [
    {
     "data": {
      "text/plain": [
       "<matplotlib.axes._subplots.AxesSubplot at 0x7fa6a4b97860>"
      ]
     },
     "execution_count": 98,
     "metadata": {},
     "output_type": "execute_result"
    },
    {
     "data": {
      "image/png": "[encoded data removed]",
      "text/plain": [
       "<matplotlib.figure.Figure at 0x7fa6a480dc88>"
      ]
     },
     "metadata": {},
     "output_type": "display_data"
    }
   ],
   "source": [
    "#sns.barplot(results['test_ix'].value_counts()[:100])\n",
    "sns.barplot(x=\"index\", y=\"test_ix\", data=br, order=br['index'])"
   ]
  },
  {
   "cell_type": "code",
   "execution_count": 100,
   "metadata": {
    "collapsed": false
   },
   "outputs": [],
   "source": [
    "br = pd.DataFrame(results['test_ix'].value_counts()).reset_index()"
   ]
  },
  {
   "cell_type": "code",
   "execution_count": 104,
   "metadata": {
    "collapsed": false
   },
   "outputs": [
    {
     "data": {
      "text/plain": [
       "0.7806243864229088"
      ]
     },
     "execution_count": 104,
     "metadata": {},
     "output_type": "execute_result"
    }
   ],
   "source": [
    "br[br.test_ix ==1].shape[0] / br.shape[0]"
   ]
  },
  {
   "cell_type": "code",
   "execution_count": 110,
   "metadata": {
    "collapsed": false
   },
   "outputs": [],
   "source": [
    "br = pd.DataFrame(results['test_ix'].value_counts()).reset_index()\n",
    "results.index = results['test_ix']\n",
    "sampled_results = results.loc[list(br[br.test_ix ==1]['index'])]"
   ]
  },
  {
   "cell_type": "code",
   "execution_count": 111,
   "metadata": {
    "collapsed": false
   },
   "outputs": [
    {
     "data": {
      "text/html": [
       "<div>\n",
       "<table border=\"1\" class=\"dataframe\">\n",
       "  <thead>\n",
       "    <tr style=\"text-align: right;\">\n",
       "      <th></th>\n",
       "      <th>control_ix</th>\n",
       "      <th>test_ix</th>\n",
       "      <th>control_out</th>\n",
       "      <th>test_out</th>\n",
       "      <th>distance</th>\n",
       "      <th>f0</th>\n",
       "      <th>f1</th>\n",
       "      <th>f2</th>\n",
       "      <th>f3</th>\n",
       "      <th>f4</th>\n",
       "      <th>...</th>\n",
       "      <th>f2c</th>\n",
       "      <th>f3c</th>\n",
       "      <th>f4c</th>\n",
       "      <th>f5c</th>\n",
       "      <th>f6c</th>\n",
       "      <th>f7c</th>\n",
       "      <th>f8c</th>\n",
       "      <th>f9c</th>\n",
       "      <th>f10c</th>\n",
       "      <th>f11c</th>\n",
       "    </tr>\n",
       "    <tr>\n",
       "      <th>test_ix</th>\n",
       "      <th></th>\n",
       "      <th></th>\n",
       "      <th></th>\n",
       "      <th></th>\n",
       "      <th></th>\n",
       "      <th></th>\n",
       "      <th></th>\n",
       "      <th></th>\n",
       "      <th></th>\n",
       "      <th></th>\n",
       "      <th></th>\n",
       "      <th></th>\n",
       "      <th></th>\n",
       "      <th></th>\n",
       "      <th></th>\n",
       "      <th></th>\n",
       "      <th></th>\n",
       "      <th></th>\n",
       "      <th></th>\n",
       "      <th></th>\n",
       "      <th></th>\n",
       "    </tr>\n",
       "  </thead>\n",
       "  <tbody>\n",
       "    <tr>\n",
       "      <th>3016344</th>\n",
       "      <td>3016472</td>\n",
       "      <td>3016344</td>\n",
       "      <td>0</td>\n",
       "      <td>0</td>\n",
       "      <td>0.000000</td>\n",
       "      <td>-1.688018</td>\n",
       "      <td>3.263641</td>\n",
       "      <td>9.303380</td>\n",
       "      <td>3.735871</td>\n",
       "      <td>3.506733</td>\n",
       "      <td>...</td>\n",
       "      <td>9.305228</td>\n",
       "      <td>3.735871</td>\n",
       "      <td>3.506733</td>\n",
       "      <td>10.161281</td>\n",
       "      <td>2.386066</td>\n",
       "      <td>-0.166689</td>\n",
       "      <td>-0.584392</td>\n",
       "      <td>9.850093</td>\n",
       "      <td>-1.860900</td>\n",
       "      <td>4.157648</td>\n",
       "    </tr>\n",
       "    <tr>\n",
       "      <th>19242593</th>\n",
       "      <td>19213039</td>\n",
       "      <td>19242593</td>\n",
       "      <td>0</td>\n",
       "      <td>0</td>\n",
       "      <td>0.000074</td>\n",
       "      <td>1.991981</td>\n",
       "      <td>3.263641</td>\n",
       "      <td>8.625908</td>\n",
       "      <td>3.735871</td>\n",
       "      <td>3.506733</td>\n",
       "      <td>...</td>\n",
       "      <td>8.621006</td>\n",
       "      <td>3.735871</td>\n",
       "      <td>3.506733</td>\n",
       "      <td>10.161281</td>\n",
       "      <td>2.981721</td>\n",
       "      <td>-0.166689</td>\n",
       "      <td>-8.061212</td>\n",
       "      <td>14.400272</td>\n",
       "      <td>-1.860900</td>\n",
       "      <td>4.157648</td>\n",
       "    </tr>\n",
       "    <tr>\n",
       "      <th>3654030</th>\n",
       "      <td>9981133</td>\n",
       "      <td>3654030</td>\n",
       "      <td>0</td>\n",
       "      <td>0</td>\n",
       "      <td>0.009882</td>\n",
       "      <td>-0.152212</td>\n",
       "      <td>3.263641</td>\n",
       "      <td>9.309209</td>\n",
       "      <td>2.788978</td>\n",
       "      <td>3.506733</td>\n",
       "      <td>...</td>\n",
       "      <td>9.215848</td>\n",
       "      <td>2.858453</td>\n",
       "      <td>3.506733</td>\n",
       "      <td>10.161281</td>\n",
       "      <td>-3.069418</td>\n",
       "      <td>-0.166689</td>\n",
       "      <td>-4.677287</td>\n",
       "      <td>9.850093</td>\n",
       "      <td>-1.860900</td>\n",
       "      <td>4.157648</td>\n",
       "    </tr>\n",
       "    <tr>\n",
       "      <th>2611106</th>\n",
       "      <td>5773222</td>\n",
       "      <td>2611106</td>\n",
       "      <td>0</td>\n",
       "      <td>0</td>\n",
       "      <td>0.003311</td>\n",
       "      <td>-1.242291</td>\n",
       "      <td>3.263641</td>\n",
       "      <td>9.168223</td>\n",
       "      <td>3.735871</td>\n",
       "      <td>3.506733</td>\n",
       "      <td>...</td>\n",
       "      <td>9.191633</td>\n",
       "      <td>3.735871</td>\n",
       "      <td>3.506733</td>\n",
       "      <td>10.840586</td>\n",
       "      <td>0.477333</td>\n",
       "      <td>-3.966327</td>\n",
       "      <td>-2.716012</td>\n",
       "      <td>9.850093</td>\n",
       "      <td>-1.860900</td>\n",
       "      <td>4.157648</td>\n",
       "    </tr>\n",
       "    <tr>\n",
       "      <th>6708761</th>\n",
       "      <td>19275689</td>\n",
       "      <td>6708761</td>\n",
       "      <td>0</td>\n",
       "      <td>0</td>\n",
       "      <td>0.008894</td>\n",
       "      <td>1.991981</td>\n",
       "      <td>3.263641</td>\n",
       "      <td>8.391833</td>\n",
       "      <td>3.735871</td>\n",
       "      <td>3.803153</td>\n",
       "      <td>...</td>\n",
       "      <td>8.294610</td>\n",
       "      <td>3.735871</td>\n",
       "      <td>4.013466</td>\n",
       "      <td>10.161281</td>\n",
       "      <td>2.981721</td>\n",
       "      <td>-0.166689</td>\n",
       "      <td>-15.800094</td>\n",
       "      <td>18.219106</td>\n",
       "      <td>-3.205456</td>\n",
       "      <td>4.315296</td>\n",
       "    </tr>\n",
       "  </tbody>\n",
       "</table>\n",
       "<p>5 rows × 29 columns</p>\n",
       "</div>"
      ],
      "text/plain": [
       "          control_ix   test_ix  control_out  test_out  distance        f0  \\\n",
       "test_ix                                                                     \n",
       "3016344      3016472   3016344            0         0  0.000000 -1.688018   \n",
       "19242593    19213039  19242593            0         0  0.000074  1.991981   \n",
       "3654030      9981133   3654030            0         0  0.009882 -0.152212   \n",
       "2611106      5773222   2611106            0         0  0.003311 -1.242291   \n",
       "6708761     19275689   6708761            0         0  0.008894  1.991981   \n",
       "\n",
       "                f1        f2        f3        f4    ...          f2c  \\\n",
       "test_ix                                             ...                \n",
       "3016344   3.263641  9.303380  3.735871  3.506733    ...     9.305228   \n",
       "19242593  3.263641  8.625908  3.735871  3.506733    ...     8.621006   \n",
       "3654030   3.263641  9.309209  2.788978  3.506733    ...     9.215848   \n",
       "2611106   3.263641  9.168223  3.735871  3.506733    ...     9.191633   \n",
       "6708761   3.263641  8.391833  3.735871  3.803153    ...     8.294610   \n",
       "\n",
       "               f3c       f4c        f5c       f6c       f7c        f8c  \\\n",
       "test_ix                                                                  \n",
       "3016344   3.735871  3.506733  10.161281  2.386066 -0.166689  -0.584392   \n",
       "19242593  3.735871  3.506733  10.161281  2.981721 -0.166689  -8.061212   \n",
       "3654030   2.858453  3.506733  10.161281 -3.069418 -0.166689  -4.677287   \n",
       "2611106   3.735871  3.506733  10.840586  0.477333 -3.966327  -2.716012   \n",
       "6708761   3.735871  4.013466  10.161281  2.981721 -0.166689 -15.800094   \n",
       "\n",
       "                f9c      f10c      f11c  \n",
       "test_ix                                  \n",
       "3016344    9.850093 -1.860900  4.157648  \n",
       "19242593  14.400272 -1.860900  4.157648  \n",
       "3654030    9.850093 -1.860900  4.157648  \n",
       "2611106    9.850093 -1.860900  4.157648  \n",
       "6708761   18.219106 -3.205456  4.315296  \n",
       "\n",
       "[5 rows x 29 columns]"
      ]
     },
     "execution_count": 111,
     "metadata": {},
     "output_type": "execute_result"
    }
   ],
   "source": [
    "sampled_results.head()"
   ]
  },
  {
   "cell_type": "code",
   "execution_count": 115,
   "metadata": {
    "collapsed": false
   },
   "outputs": [
    {
     "name": "stderr",
     "output_type": "stream",
     "text": [
      "/home/cbartondepaul/anaconda3/lib/python3.5/site-packages/ipykernel_launcher.py:3: FutureWarning: \n",
      "The default value for 'return_type' will change to 'axes' in a future release.\n",
      " To use the future behavior now, set return_type='axes'.\n",
      " To keep the previous behavior and silence this warning, set return_type='dict'.\n",
      "  This is separate from the ipykernel package so we can avoid doing imports until\n"
     ]
    },
    {
     "data": {
      "text/plain": [
       "{'boxes': [<matplotlib.lines.Line2D at 0x7fa6a44df780>,\n",
       "  <matplotlib.lines.Line2D at 0x7fa6a452d048>,\n",
       "  <matplotlib.lines.Line2D at 0x7fa6a45745f8>,\n",
       "  <matplotlib.lines.Line2D at 0x7fa6a453a5f8>,\n",
       "  <matplotlib.lines.Line2D at 0x7fa6a433f240>,\n",
       "  <matplotlib.lines.Line2D at 0x7fa6a40e6eb8>,\n",
       "  <matplotlib.lines.Line2D at 0x7fa6a3f55f60>,\n",
       "  <matplotlib.lines.Line2D at 0x7fa6a3f998d0>,\n",
       "  <matplotlib.lines.Line2D at 0x7fa6a3f66240>,\n",
       "  <matplotlib.lines.Line2D at 0x7fa6a3f73b70>,\n",
       "  <matplotlib.lines.Line2D at 0x7fa69eb654e0>,\n",
       "  <matplotlib.lines.Line2D at 0x7fa69eb3be10>],\n",
       " 'caps': [<matplotlib.lines.Line2D at 0x7fa6a44ce2e8>,\n",
       "  <matplotlib.lines.Line2D at 0x7fa6a44c4978>,\n",
       "  <matplotlib.lines.Line2D at 0x7fa6a4512f60>,\n",
       "  <matplotlib.lines.Line2D at 0x7fa6a450bd68>,\n",
       "  <matplotlib.lines.Line2D at 0x7fa6a455e240>,\n",
       "  <matplotlib.lines.Line2D at 0x7fa6a4555630>,\n",
       "  <matplotlib.lines.Line2D at 0x7fa6a3ff7e10>,\n",
       "  <matplotlib.lines.Line2D at 0x7fa6a3ff4588>,\n",
       "  <matplotlib.lines.Line2D at 0x7fa6a3fafba8>,\n",
       "  <matplotlib.lines.Line2D at 0x7fa6a3fafd30>,\n",
       "  <matplotlib.lines.Line2D at 0x7fa6a3f8f358>,\n",
       "  <matplotlib.lines.Line2D at 0x7fa6a3f45828>,\n",
       "  <matplotlib.lines.Line2D at 0x7fa6a3fb1ef0>,\n",
       "  <matplotlib.lines.Line2D at 0x7fa6a3f8c748>,\n",
       "  <matplotlib.lines.Line2D at 0x7fa6a3f5e860>,\n",
       "  <matplotlib.lines.Line2D at 0x7fa6a3f5ef98>,\n",
       "  <matplotlib.lines.Line2D at 0x7fa6a3f6ba90>,\n",
       "  <matplotlib.lines.Line2D at 0x7fa6a3f709e8>,\n",
       "  <matplotlib.lines.Line2D at 0x7fa69eb64b00>,\n",
       "  <matplotlib.lines.Line2D at 0x7fa69eb64c18>,\n",
       "  <matplotlib.lines.Line2D at 0x7fa69eb66d30>,\n",
       "  <matplotlib.lines.Line2D at 0x7fa69eb4ac88>,\n",
       "  <matplotlib.lines.Line2D at 0x7fa69eb5bda0>,\n",
       "  <matplotlib.lines.Line2D at 0x7fa69eb5beb8>],\n",
       " 'fliers': [<matplotlib.lines.Line2D at 0x7fa6a4532d68>,\n",
       "  <matplotlib.lines.Line2D at 0x7fa6a44fb470>,\n",
       "  <matplotlib.lines.Line2D at 0x7fa6a4543d30>,\n",
       "  <matplotlib.lines.Line2D at 0x7fa6a42495f8>,\n",
       "  <matplotlib.lines.Line2D at 0x7fa6a5ca93c8>,\n",
       "  <matplotlib.lines.Line2D at 0x7fa6a3f85b00>,\n",
       "  <matplotlib.lines.Line2D at 0x7fa6a3f997b8>,\n",
       "  <matplotlib.lines.Line2D at 0x7fa6a3f629e8>,\n",
       "  <matplotlib.lines.Line2D at 0x7fa6a3f73a58>,\n",
       "  <matplotlib.lines.Line2D at 0x7fa69eb72c88>,\n",
       "  <matplotlib.lines.Line2D at 0x7fa69eb3bcf8>,\n",
       "  <matplotlib.lines.Line2D at 0x7fa69eb43f28>],\n",
       " 'means': [],\n",
       " 'medians': [<matplotlib.lines.Line2D at 0x7fa6a44bada0>,\n",
       "  <matplotlib.lines.Line2D at 0x7fa6a4506080>,\n",
       "  <matplotlib.lines.Line2D at 0x7fa6a454c668>,\n",
       "  <matplotlib.lines.Line2D at 0x7fa6a4287128>,\n",
       "  <matplotlib.lines.Line2D at 0x7fa6a40817b8>,\n",
       "  <matplotlib.lines.Line2D at 0x7fa6a43f5a90>,\n",
       "  <matplotlib.lines.Line2D at 0x7fa6a3f8c860>,\n",
       "  <matplotlib.lines.Line2D at 0x7fa6a3f621d0>,\n",
       "  <matplotlib.lines.Line2D at 0x7fa6a3f70b00>,\n",
       "  <matplotlib.lines.Line2D at 0x7fa69eb72470>,\n",
       "  <matplotlib.lines.Line2D at 0x7fa69eb4ada0>,\n",
       "  <matplotlib.lines.Line2D at 0x7fa69eb43710>],\n",
       " 'whiskers': [<matplotlib.lines.Line2D at 0x7fa6a44d9c88>,\n",
       "  <matplotlib.lines.Line2D at 0x7fa6a44d2a58>,\n",
       "  <matplotlib.lines.Line2D at 0x7fa6a4525470>,\n",
       "  <matplotlib.lines.Line2D at 0x7fa6a4517160>,\n",
       "  <matplotlib.lines.Line2D at 0x7fa6a456b908>,\n",
       "  <matplotlib.lines.Line2D at 0x7fa6a4562438>,\n",
       "  <matplotlib.lines.Line2D at 0x7fa6a45b5400>,\n",
       "  <matplotlib.lines.Line2D at 0x7fa6a5c3d0f0>,\n",
       "  <matplotlib.lines.Line2D at 0x7fa6a423d668>,\n",
       "  <matplotlib.lines.Line2D at 0x7fa6a4338fd0>,\n",
       "  <matplotlib.lines.Line2D at 0x7fa6a3f869b0>,\n",
       "  <matplotlib.lines.Line2D at 0x7fa6a3fb5f60>,\n",
       "  <matplotlib.lines.Line2D at 0x7fa6a3fabe80>,\n",
       "  <matplotlib.lines.Line2D at 0x7fa6a3fabf98>,\n",
       "  <matplotlib.lines.Line2D at 0x7fa6a3f5b7f0>,\n",
       "  <matplotlib.lines.Line2D at 0x7fa6a3f5bef0>,\n",
       "  <matplotlib.lines.Line2D at 0x7fa6a3f669b0>,\n",
       "  <matplotlib.lines.Line2D at 0x7fa6a3f6b978>,\n",
       "  <matplotlib.lines.Line2D at 0x7fa6a3f3aa90>,\n",
       "  <matplotlib.lines.Line2D at 0x7fa6a3f3aba8>,\n",
       "  <matplotlib.lines.Line2D at 0x7fa69eb65c50>,\n",
       "  <matplotlib.lines.Line2D at 0x7fa69eb66c18>,\n",
       "  <matplotlib.lines.Line2D at 0x7fa69eb5ad30>,\n",
       "  <matplotlib.lines.Line2D at 0x7fa69eb5ae48>]}"
      ]
     },
     "execution_count": 115,
     "metadata": {},
     "output_type": "execute_result"
    },
    {
     "data": {
      "image/png": "[encoded data removed]",
      "text/plain": [
       "<matplotlib.figure.Figure at 0x7fa6a40b7ef0>"
      ]
     },
     "metadata": {},
     "output_type": "display_data"
    }
   ],
   "source": [
    "diff = np.array(sampled_results[['f0', 'f1', 'f2', 'f3', 'f4', 'f5', 'f6', 'f7', 'f8', 'f9', 'f10', 'f11']]) - sampled_results[['f0c', 'f1c', 'f2c', 'f3c', 'f4c', 'f5c', 'f6c', 'f7c', 'f8c', 'f9c', 'f10c', 'f11c']]\n",
    "\n",
    "diff.boxplot(column=['f0c', 'f1c', 'f2c', 'f3c', 'f4c', 'f5c', 'f6c', 'f7c', 'f8c', 'f9c', 'f10c', 'f11c'])"
   ]
  },
  {
   "cell_type": "code",
   "execution_count": 116,
   "metadata": {
    "collapsed": false
   },
   "outputs": [
    {
     "name": "stdout",
     "output_type": "stream",
     "text": [
      "1.0\n",
      "Loss of classifier trained on treatment variable of full dataset: 0.497482883609\n",
      "Average loss of classifers trained on random treatment variable: 0.498519144535\n"
     ]
    }
   ],
   "source": [
    "clf=LogisticRegression()\n",
    "loss=hamming_loss\n",
    "bootstraps=300\n",
    "\n",
    "c = sampled_results[['f0','f1','f2','f3','f4','f5','f6','f7','f8','f9','f10','f11']]\n",
    "c['treatment'] = 0\n",
    "\n",
    "t = sampled_results[['f0c','f1c','f2c','f3c','f4c','f5c','f6c','f7c','f8c','f9c','f10c','f11c']]\n",
    "t.columns = ['f0','f1','f2','f3','f4','f5','f6','f7','f8','f9','f10','f11']\n",
    "t['treatment'] = 1\n",
    "            \n",
    "c2test = pd.concat([t, c])\n",
    "c2test = c2test.sample(frac=0.1)\n",
    "\n",
    "X_train, X_test, y_train, y_test = train_test_split(c2test[['f0','f1','f2','f3','f4','f5','f6','f7','f8','f9','f10','f11']], c2test['treatment'], test_size=0.33, random_state=35)\n",
    "\n",
    "y_pred = clf.fit(X_train, y_train).predict(X_test)\n",
    "emp_loss = loss(y_test, y_pred)\n",
    "bs_losses = []\n",
    "y_bar = np.mean(c2test['treatment'])\n",
    "\n",
    "for b in range(100+1):\n",
    "    clear_output()\n",
    "    print(b/100.)\n",
    "    y_random = np.random.binomial(1, y_bar, size=c2test['treatment'].shape[0])\n",
    "    X_train, X_test, y_train, y_test = train_test_split(c2test[['f0','f1','f2','f3','f4','f5','f6','f7','f8','f9','f10','f11']], y_random)\n",
    "    y_pred_bs = clf.fit(X_train, y_train).predict(X_test)\n",
    "    bs_losses += [loss(y_test, y_pred_bs)]\n",
    "    \n",
    "pc = stats.percentileofscore(sorted(bs_losses), emp_loss) / 100.\n",
    "pvalue = pc if pc < y_bar else 1 - pc\n",
    "\n",
    "print(\"Loss of classifier trained on treatment variable of full dataset: %s\" % emp_loss)\n",
    "print(\"Average loss of classifers trained on random treatment variable: %s\" % (np.mean(bs_losses)))"
   ]
  },
  {
   "cell_type": "code",
   "execution_count": 117,
   "metadata": {
    "collapsed": false
   },
   "outputs": [
    {
     "data": {
      "text/plain": [
       "Ttest_1sampResult(statistic=3.7854163168078858, pvalue=0.00026184969691037075)"
      ]
     },
     "execution_count": 117,
     "metadata": {},
     "output_type": "execute_result"
    }
   ],
   "source": [
    "stats.ttest_1samp(bs_losses, emp_loss)"
   ]
  },
  {
   "cell_type": "code",
   "execution_count": 118,
   "metadata": {
    "collapsed": false
   },
   "outputs": [
    {
     "data": {
      "text/plain": [
       "<matplotlib.text.Text at 0x7fa6a403b4e0>"
      ]
     },
     "execution_count": 118,
     "metadata": {},
     "output_type": "execute_result"
    },
    {
     "data": {
      "image/png": "[encoded data removed]",
      "text/plain": [
       "<matplotlib.figure.Figure at 0x7fa6a3feba58>"
      ]
     },
     "metadata": {},
     "output_type": "display_data"
    }
   ],
   "source": [
    "sns.distplot(bs_losses, bins=50)\n",
    "plt.axvline(emp_loss, color='r')\n",
    "# plt.text(emp_loss+.1,0,'Treatment loss',rotation=90)\n",
    "plt.axvline(np.mean(bs_losses), color='black')\n",
    "plt.title(\"Distribution of Null Hypothesis and Treatment Loss\")\n",
    "plt.ylabel(\"Frequency\")\n",
    "plt.xlabel(\"Hamming Loss\")"
   ]
  },
  {
   "cell_type": "code",
   "execution_count": null,
   "metadata": {
    "collapsed": true
   },
   "outputs": [],
   "source": []
  },
  {
   "cell_type": "code",
   "execution_count": null,
   "metadata": {
    "collapsed": true
   },
   "outputs": [],
   "source": [
    "# product a number of files\n",
    "# 1: just based on matched files (results.csv)\n",
    "# 2. balanced to eliminate overrepresentation (sampled_results.csv)\n",
    "# 3. exact match (exact)\n",
    "# 4. exact plus single instance \n"
   ]
  },
  {
   "cell_type": "code",
   "execution_count": 122,
   "metadata": {
    "collapsed": false
   },
   "outputs": [
    {
     "data": {
      "text/plain": [
       "0.7841036596369574"
      ]
     },
     "execution_count": 122,
     "metadata": {},
     "output_type": "execute_result"
    }
   ],
   "source": [
    "results[results.distance == 0].shape[0] / results.shape[0]"
   ]
  },
  {
   "cell_type": "code",
   "execution_count": 123,
   "metadata": {
    "collapsed": false
   },
   "outputs": [
    {
     "data": {
      "text/html": [
       "<div>\n",
       "<table border=\"1\" class=\"dataframe\">\n",
       "  <thead>\n",
       "    <tr style=\"text-align: right;\">\n",
       "      <th></th>\n",
       "      <th>control_ix</th>\n",
       "      <th>test_ix</th>\n",
       "      <th>control_out</th>\n",
       "      <th>test_out</th>\n",
       "      <th>distance</th>\n",
       "      <th>f0</th>\n",
       "      <th>f1</th>\n",
       "      <th>f2</th>\n",
       "      <th>f3</th>\n",
       "      <th>f4</th>\n",
       "      <th>...</th>\n",
       "      <th>f2c</th>\n",
       "      <th>f3c</th>\n",
       "      <th>f4c</th>\n",
       "      <th>f5c</th>\n",
       "      <th>f6c</th>\n",
       "      <th>f7c</th>\n",
       "      <th>f8c</th>\n",
       "      <th>f9c</th>\n",
       "      <th>f10c</th>\n",
       "      <th>f11c</th>\n",
       "    </tr>\n",
       "    <tr>\n",
       "      <th>test_ix</th>\n",
       "      <th></th>\n",
       "      <th></th>\n",
       "      <th></th>\n",
       "      <th></th>\n",
       "      <th></th>\n",
       "      <th></th>\n",
       "      <th></th>\n",
       "      <th></th>\n",
       "      <th></th>\n",
       "      <th></th>\n",
       "      <th></th>\n",
       "      <th></th>\n",
       "      <th></th>\n",
       "      <th></th>\n",
       "      <th></th>\n",
       "      <th></th>\n",
       "      <th></th>\n",
       "      <th></th>\n",
       "      <th></th>\n",
       "      <th></th>\n",
       "      <th></th>\n",
       "    </tr>\n",
       "  </thead>\n",
       "  <tbody>\n",
       "    <tr>\n",
       "      <th>19114443</th>\n",
       "      <td>1</td>\n",
       "      <td>19114443</td>\n",
       "      <td>0</td>\n",
       "      <td>0</td>\n",
       "      <td>0.007983</td>\n",
       "      <td>1.478699</td>\n",
       "      <td>3.417861</td>\n",
       "      <td>8.390882</td>\n",
       "      <td>2.344760</td>\n",
       "      <td>3.506733</td>\n",
       "      <td>...</td>\n",
       "      <td>8.372049</td>\n",
       "      <td>2.307094</td>\n",
       "      <td>3.506733</td>\n",
       "      <td>10.840586</td>\n",
       "      <td>-2.526549</td>\n",
       "      <td>-0.752980</td>\n",
       "      <td>-9.904933</td>\n",
       "      <td>16.894056</td>\n",
       "      <td>-1.860900</td>\n",
       "      <td>4.157648</td>\n",
       "    </tr>\n",
       "    <tr>\n",
       "      <th>9637197</th>\n",
       "      <td>9</td>\n",
       "      <td>9637197</td>\n",
       "      <td>0</td>\n",
       "      <td>0</td>\n",
       "      <td>0.011760</td>\n",
       "      <td>0.732334</td>\n",
       "      <td>3.263641</td>\n",
       "      <td>8.678399</td>\n",
       "      <td>2.703948</td>\n",
       "      <td>3.506733</td>\n",
       "      <td>...</td>\n",
       "      <td>8.749926</td>\n",
       "      <td>2.613870</td>\n",
       "      <td>3.506733</td>\n",
       "      <td>10.161281</td>\n",
       "      <td>-1.343855</td>\n",
       "      <td>-0.166689</td>\n",
       "      <td>-8.286829</td>\n",
       "      <td>13.193869</td>\n",
       "      <td>-1.860900</td>\n",
       "      <td>4.157648</td>\n",
       "    </tr>\n",
       "    <tr>\n",
       "      <th>152609</th>\n",
       "      <td>16</td>\n",
       "      <td>152609</td>\n",
       "      <td>0</td>\n",
       "      <td>0</td>\n",
       "      <td>0.003313</td>\n",
       "      <td>-0.742603</td>\n",
       "      <td>3.263641</td>\n",
       "      <td>8.980436</td>\n",
       "      <td>3.735871</td>\n",
       "      <td>3.506733</td>\n",
       "      <td>...</td>\n",
       "      <td>9.005744</td>\n",
       "      <td>3.735871</td>\n",
       "      <td>3.506733</td>\n",
       "      <td>10.161281</td>\n",
       "      <td>-2.039146</td>\n",
       "      <td>-0.166689</td>\n",
       "      <td>-16.247004</td>\n",
       "      <td>9.850093</td>\n",
       "      <td>-1.860900</td>\n",
       "      <td>4.157648</td>\n",
       "    </tr>\n",
       "    <tr>\n",
       "      <th>81790</th>\n",
       "      <td>33</td>\n",
       "      <td>81790</td>\n",
       "      <td>0</td>\n",
       "      <td>0</td>\n",
       "      <td>0.011970</td>\n",
       "      <td>0.947677</td>\n",
       "      <td>3.263641</td>\n",
       "      <td>8.442494</td>\n",
       "      <td>3.022606</td>\n",
       "      <td>4.013466</td>\n",
       "      <td>...</td>\n",
       "      <td>8.274047</td>\n",
       "      <td>2.877999</td>\n",
       "      <td>3.803153</td>\n",
       "      <td>10.161281</td>\n",
       "      <td>-0.728742</td>\n",
       "      <td>-0.166689</td>\n",
       "      <td>-23.066055</td>\n",
       "      <td>24.184974</td>\n",
       "      <td>-8.601271</td>\n",
       "      <td>4.157648</td>\n",
       "    </tr>\n",
       "    <tr>\n",
       "      <th>3238104</th>\n",
       "      <td>38</td>\n",
       "      <td>3238104</td>\n",
       "      <td>0</td>\n",
       "      <td>0</td>\n",
       "      <td>0.020262</td>\n",
       "      <td>1.527733</td>\n",
       "      <td>3.263641</td>\n",
       "      <td>8.552558</td>\n",
       "      <td>3.162731</td>\n",
       "      <td>3.506733</td>\n",
       "      <td>...</td>\n",
       "      <td>8.388038</td>\n",
       "      <td>2.703948</td>\n",
       "      <td>3.506733</td>\n",
       "      <td>10.840586</td>\n",
       "      <td>-4.169010</td>\n",
       "      <td>-2.751289</td>\n",
       "      <td>-15.614602</td>\n",
       "      <td>16.250365</td>\n",
       "      <td>-1.860900</td>\n",
       "      <td>4.157648</td>\n",
       "    </tr>\n",
       "  </tbody>\n",
       "</table>\n",
       "<p>5 rows × 29 columns</p>\n",
       "</div>"
      ],
      "text/plain": [
       "          control_ix   test_ix  control_out  test_out  distance        f0  \\\n",
       "test_ix                                                                     \n",
       "19114443           1  19114443            0         0  0.007983  1.478699   \n",
       "9637197            9   9637197            0         0  0.011760  0.732334   \n",
       "152609            16    152609            0         0  0.003313 -0.742603   \n",
       "81790             33     81790            0         0  0.011970  0.947677   \n",
       "3238104           38   3238104            0         0  0.020262  1.527733   \n",
       "\n",
       "                f1        f2        f3        f4    ...          f2c  \\\n",
       "test_ix                                             ...                \n",
       "19114443  3.417861  8.390882  2.344760  3.506733    ...     8.372049   \n",
       "9637197   3.263641  8.678399  2.703948  3.506733    ...     8.749926   \n",
       "152609    3.263641  8.980436  3.735871  3.506733    ...     9.005744   \n",
       "81790     3.263641  8.442494  3.022606  4.013466    ...     8.274047   \n",
       "3238104   3.263641  8.552558  3.162731  3.506733    ...     8.388038   \n",
       "\n",
       "               f3c       f4c        f5c       f6c       f7c        f8c  \\\n",
       "test_ix                                                                  \n",
       "19114443  2.307094  3.506733  10.840586 -2.526549 -0.752980  -9.904933   \n",
       "9637197   2.613870  3.506733  10.161281 -1.343855 -0.166689  -8.286829   \n",
       "152609    3.735871  3.506733  10.161281 -2.039146 -0.166689 -16.247004   \n",
       "81790     2.877999  3.803153  10.161281 -0.728742 -0.166689 -23.066055   \n",
       "3238104   2.703948  3.506733  10.840586 -4.169010 -2.751289 -15.614602   \n",
       "\n",
       "                f9c      f10c      f11c  \n",
       "test_ix                                  \n",
       "19114443  16.894056 -1.860900  4.157648  \n",
       "9637197   13.193869 -1.860900  4.157648  \n",
       "152609     9.850093 -1.860900  4.157648  \n",
       "81790     24.184974 -8.601271  4.157648  \n",
       "3238104   16.250365 -1.860900  4.157648  \n",
       "\n",
       "[5 rows x 29 columns]"
      ]
     },
     "execution_count": 123,
     "metadata": {},
     "output_type": "execute_result"
    }
   ],
   "source": [
    "results.head()"
   ]
  },
  {
   "cell_type": "code",
   "execution_count": 125,
   "metadata": {
    "collapsed": true
   },
   "outputs": [],
   "source": [
    "br = pd.DataFrame(results[results.distance == 0 ]['test_ix'].value_counts()).reset_index()\n",
    "results.index = results['test_ix']\n",
    "sampled_exact_results = results.loc[list(br[br.test_ix ==1]['index'])]"
   ]
  },
  {
   "cell_type": "code",
   "execution_count": 126,
   "metadata": {
    "collapsed": false
   },
   "outputs": [
    {
     "data": {
      "text/html": [
       "<div>\n",
       "<table border=\"1\" class=\"dataframe\">\n",
       "  <thead>\n",
       "    <tr style=\"text-align: right;\">\n",
       "      <th></th>\n",
       "      <th>control_ix</th>\n",
       "      <th>test_ix</th>\n",
       "      <th>control_out</th>\n",
       "      <th>test_out</th>\n",
       "      <th>distance</th>\n",
       "      <th>f0</th>\n",
       "      <th>f1</th>\n",
       "      <th>f2</th>\n",
       "      <th>f3</th>\n",
       "      <th>f4</th>\n",
       "      <th>...</th>\n",
       "      <th>f2c</th>\n",
       "      <th>f3c</th>\n",
       "      <th>f4c</th>\n",
       "      <th>f5c</th>\n",
       "      <th>f6c</th>\n",
       "      <th>f7c</th>\n",
       "      <th>f8c</th>\n",
       "      <th>f9c</th>\n",
       "      <th>f10c</th>\n",
       "      <th>f11c</th>\n",
       "    </tr>\n",
       "    <tr>\n",
       "      <th>test_ix</th>\n",
       "      <th></th>\n",
       "      <th></th>\n",
       "      <th></th>\n",
       "      <th></th>\n",
       "      <th></th>\n",
       "      <th></th>\n",
       "      <th></th>\n",
       "      <th></th>\n",
       "      <th></th>\n",
       "      <th></th>\n",
       "      <th></th>\n",
       "      <th></th>\n",
       "      <th></th>\n",
       "      <th></th>\n",
       "      <th></th>\n",
       "      <th></th>\n",
       "      <th></th>\n",
       "      <th></th>\n",
       "      <th></th>\n",
       "      <th></th>\n",
       "      <th></th>\n",
       "    </tr>\n",
       "  </thead>\n",
       "  <tbody>\n",
       "    <tr>\n",
       "      <th>12978749</th>\n",
       "      <td>3408352</td>\n",
       "      <td>12978749</td>\n",
       "      <td>0</td>\n",
       "      <td>0</td>\n",
       "      <td>0.0</td>\n",
       "      <td>1.991981</td>\n",
       "      <td>3.263641</td>\n",
       "      <td>8.981211</td>\n",
       "      <td>3.735871</td>\n",
       "      <td>3.506733</td>\n",
       "      <td>...</td>\n",
       "      <td>8.983805</td>\n",
       "      <td>3.735871</td>\n",
       "      <td>3.506733</td>\n",
       "      <td>10.161281</td>\n",
       "      <td>2.981721</td>\n",
       "      <td>-0.166689</td>\n",
       "      <td>-13.482981</td>\n",
       "      <td>9.850093</td>\n",
       "      <td>-1.8609</td>\n",
       "      <td>4.157648</td>\n",
       "    </tr>\n",
       "    <tr>\n",
       "      <th>10252550</th>\n",
       "      <td>16581748</td>\n",
       "      <td>10252550</td>\n",
       "      <td>0</td>\n",
       "      <td>0</td>\n",
       "      <td>0.0</td>\n",
       "      <td>-1.246184</td>\n",
       "      <td>3.263641</td>\n",
       "      <td>8.272483</td>\n",
       "      <td>3.735871</td>\n",
       "      <td>3.506733</td>\n",
       "      <td>...</td>\n",
       "      <td>8.272483</td>\n",
       "      <td>3.735871</td>\n",
       "      <td>3.506733</td>\n",
       "      <td>10.840586</td>\n",
       "      <td>0.477333</td>\n",
       "      <td>-3.913714</td>\n",
       "      <td>1.107571</td>\n",
       "      <td>9.850093</td>\n",
       "      <td>-1.8609</td>\n",
       "      <td>4.157648</td>\n",
       "    </tr>\n",
       "    <tr>\n",
       "      <th>3847594</th>\n",
       "      <td>6878330</td>\n",
       "      <td>3847594</td>\n",
       "      <td>0</td>\n",
       "      <td>0</td>\n",
       "      <td>0.0</td>\n",
       "      <td>-1.870487</td>\n",
       "      <td>3.263641</td>\n",
       "      <td>8.272483</td>\n",
       "      <td>3.735871</td>\n",
       "      <td>3.506733</td>\n",
       "      <td>...</td>\n",
       "      <td>8.272483</td>\n",
       "      <td>3.735871</td>\n",
       "      <td>3.506733</td>\n",
       "      <td>10.161281</td>\n",
       "      <td>-1.592239</td>\n",
       "      <td>-0.166689</td>\n",
       "      <td>1.107571</td>\n",
       "      <td>9.850093</td>\n",
       "      <td>-1.8609</td>\n",
       "      <td>4.157648</td>\n",
       "    </tr>\n",
       "    <tr>\n",
       "      <th>14728945</th>\n",
       "      <td>11544909</td>\n",
       "      <td>14728945</td>\n",
       "      <td>0</td>\n",
       "      <td>0</td>\n",
       "      <td>0.0</td>\n",
       "      <td>-0.621896</td>\n",
       "      <td>3.263641</td>\n",
       "      <td>8.272483</td>\n",
       "      <td>3.735871</td>\n",
       "      <td>3.506733</td>\n",
       "      <td>...</td>\n",
       "      <td>8.272483</td>\n",
       "      <td>3.735871</td>\n",
       "      <td>3.506733</td>\n",
       "      <td>10.161281</td>\n",
       "      <td>0.231920</td>\n",
       "      <td>-0.166689</td>\n",
       "      <td>1.107571</td>\n",
       "      <td>9.850093</td>\n",
       "      <td>-1.8609</td>\n",
       "      <td>4.157648</td>\n",
       "    </tr>\n",
       "    <tr>\n",
       "      <th>620405</th>\n",
       "      <td>16455881</td>\n",
       "      <td>620405</td>\n",
       "      <td>0</td>\n",
       "      <td>0</td>\n",
       "      <td>0.0</td>\n",
       "      <td>-1.084616</td>\n",
       "      <td>3.263641</td>\n",
       "      <td>8.272483</td>\n",
       "      <td>3.735871</td>\n",
       "      <td>3.506733</td>\n",
       "      <td>...</td>\n",
       "      <td>8.272483</td>\n",
       "      <td>3.735871</td>\n",
       "      <td>3.506733</td>\n",
       "      <td>10.161281</td>\n",
       "      <td>-1.136601</td>\n",
       "      <td>-0.166689</td>\n",
       "      <td>1.107571</td>\n",
       "      <td>9.850093</td>\n",
       "      <td>-1.8609</td>\n",
       "      <td>4.157648</td>\n",
       "    </tr>\n",
       "  </tbody>\n",
       "</table>\n",
       "<p>5 rows × 29 columns</p>\n",
       "</div>"
      ],
      "text/plain": [
       "          control_ix   test_ix  control_out  test_out  distance        f0  \\\n",
       "test_ix                                                                     \n",
       "12978749     3408352  12978749            0         0       0.0  1.991981   \n",
       "10252550    16581748  10252550            0         0       0.0 -1.246184   \n",
       "3847594      6878330   3847594            0         0       0.0 -1.870487   \n",
       "14728945    11544909  14728945            0         0       0.0 -0.621896   \n",
       "620405      16455881    620405            0         0       0.0 -1.084616   \n",
       "\n",
       "                f1        f2        f3        f4    ...          f2c  \\\n",
       "test_ix                                             ...                \n",
       "12978749  3.263641  8.981211  3.735871  3.506733    ...     8.983805   \n",
       "10252550  3.263641  8.272483  3.735871  3.506733    ...     8.272483   \n",
       "3847594   3.263641  8.272483  3.735871  3.506733    ...     8.272483   \n",
       "14728945  3.263641  8.272483  3.735871  3.506733    ...     8.272483   \n",
       "620405    3.263641  8.272483  3.735871  3.506733    ...     8.272483   \n",
       "\n",
       "               f3c       f4c        f5c       f6c       f7c        f8c  \\\n",
       "test_ix                                                                  \n",
       "12978749  3.735871  3.506733  10.161281  2.981721 -0.166689 -13.482981   \n",
       "10252550  3.735871  3.506733  10.840586  0.477333 -3.913714   1.107571   \n",
       "3847594   3.735871  3.506733  10.161281 -1.592239 -0.166689   1.107571   \n",
       "14728945  3.735871  3.506733  10.161281  0.231920 -0.166689   1.107571   \n",
       "620405    3.735871  3.506733  10.161281 -1.136601 -0.166689   1.107571   \n",
       "\n",
       "               f9c    f10c      f11c  \n",
       "test_ix                               \n",
       "12978749  9.850093 -1.8609  4.157648  \n",
       "10252550  9.850093 -1.8609  4.157648  \n",
       "3847594   9.850093 -1.8609  4.157648  \n",
       "14728945  9.850093 -1.8609  4.157648  \n",
       "620405    9.850093 -1.8609  4.157648  \n",
       "\n",
       "[5 rows x 29 columns]"
      ]
     },
     "execution_count": 126,
     "metadata": {},
     "output_type": "execute_result"
    }
   ],
   "source": [
    "sampled_exact_results.head()"
   ]
  },
  {
   "cell_type": "code",
   "execution_count": 127,
   "metadata": {
    "collapsed": true
   },
   "outputs": [],
   "source": [
    "results[results.distance == 0].to_csv('exact.csv', index=False)\n",
    "sampled_exact_results.to_csv('sample_exact.csv', index=False)\n",
    "sampled_results.to_csv('sample_results.csv', index=False)"
   ]
  },
  {
   "cell_type": "code",
   "execution_count": null,
   "metadata": {
    "collapsed": true
   },
   "outputs": [],
   "source": []
  },
  {
   "cell_type": "code",
   "execution_count": null,
   "metadata": {
    "collapsed": true
   },
   "outputs": [],
   "source": []
  },
  {
   "cell_type": "code",
   "execution_count": 124,
   "metadata": {
    "collapsed": false
   },
   "outputs": [],
   "source": [
    "# diff.hist(bins=100)"
   ]
  },
  {
   "cell_type": "code",
   "execution_count": 60,
   "metadata": {
    "collapsed": true
   },
   "outputs": [],
   "source": [
    "results.to_csv('results.csv', index=False)"
   ]
  },
  {
   "cell_type": "code",
   "execution_count": 71,
   "metadata": {
    "collapsed": false
   },
   "outputs": [
    {
     "data": {
      "text/plain": [
       "<matplotlib.axes._subplots.AxesSubplot at 0x7f7505b219e8>"
      ]
     },
     "execution_count": 71,
     "metadata": {},
     "output_type": "execute_result"
    },
    {
     "data": {
      "image/png": "[encoded data removed]",
      "text/plain": [
       "<matplotlib.figure.Figure at 0x7f7505982080>"
      ]
     },
     "metadata": {},
     "output_type": "display_data"
    }
   ],
   "source": [
    "results.distance.hist(bins=100)"
   ]
  },
  {
   "cell_type": "code",
   "execution_count": null,
   "metadata": {
    "collapsed": true
   },
   "outputs": [],
   "source": [
    "# save covariates for each test and control"
   ]
  },
  {
   "cell_type": "code",
   "execution_count": null,
   "metadata": {
    "collapsed": true
   },
   "outputs": [],
   "source": [
    "# take difference \n",
    "# average difference for bias / variance diagnostics"
   ]
  },
  {
   "cell_type": "code",
   "execution_count": null,
   "metadata": {
    "collapsed": true
   },
   "outputs": [],
   "source": [
    "# find ways to pull data that produce different diagnostics \n",
    "# use best "
   ]
  }
 ],
 "metadata": {
  "kernelspec": {
   "display_name": "Python 3",
   "language": "python",
   "name": "python3"
  },
  "language_info": {
   "codemirror_mode": {
    "name": "ipython",
    "version": 3
   },
   "file_extension": ".py",
   "mimetype": "text/x-python",
   "name": "python",
   "nbconvert_exporter": "python",
   "pygments_lexer": "ipython3",
   "version": "3.5.4"
  }
 },
 "nbformat": 4,
 "nbformat_minor": 0
}
