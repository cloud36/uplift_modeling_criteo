
# coding: utf-8

# In[1]:


import google.datalab.bigquery as bq
import pandas as pd
import numpy as np
import seaborn as sns
import matplotlib
import matplotlib.pyplot as plt


# In[2]:


sampling_query="""
select *
from  `fit-reference-229502.uplift_criteo_raw.raw`
order by rand()
limit 506906
"""


# In[3]:


df = bq.Query(sampling_query).execute().result().to_dataframe()


# In[4]:


pd.crosstab([df['treatment'], df['exposure']],[df['visit'],df['conversion']])


# In[5]:


pd.crosstab([df['treatment'], df['exposure']],[df['visit'],df['conversion']], normalize = 'index')


# In[9]:


df.head()


# In[10]:


df.columns


# In[4]:


df.columns = ['f00', 'f01', 'f02','f03','f04','f05','f06','f07', 'f08','f09','f10','f11','treatment','conversion','visit','exposure']


# In[12]:


df.describe()


# In[5]:


df_f = df.iloc[:, 0:12]


# In[6]:


df_f.head()


# In[15]:


plt.figure(figsize = (20,10));
df_f.boxplot()


# In[16]:


df_f.hist(figsize =(20,10))


# In[12]:


corr = df_f.corr()
corr.style.background_gradient().set_precision(2)


# In[13]:


corr2 = df.corr()
corr2.style.background_gradient().set_precision(2)


# In[20]:


# feature correlation matrix
mask = np.zeros_like(corr, dtype=np.bool)
mask[np.triu_indices_from(mask)] = True
f, ax = plt.subplots(figsize=(11, 9))
cmap = sns.diverging_palette(10,220, as_cmap=True)
sns.heatmap(corr, mask=mask, cmap=cmap, vmax=.3, center=0,
            square=True, linewidths=.5, cbar_kws={"shrink": .5})


# In[19]:


# features and target variables
mask = np.zeros_like(corr2, dtype=np.bool)
mask[np.triu_indices_from(mask)] = True
f, ax = plt.subplots(figsize=(11, 9))
cmap = sns.diverging_palette(10,220, as_cmap=True)
sns.heatmap(corr2, mask=mask, cmap=cmap, vmax=.3, center=0,
            square=True, linewidths=.5, cbar_kws={"shrink": .5})


# In[37]:


f1_f5 = sns.lmplot(data=df, x='f01', y='f05', hue='conversion', 
                   fit_reg=False, legend=True, legend_out=True)


# In[38]:


f0_f6 = sns.lmplot(data=df, x='f00', y='f06', hue='conversion', 
                   fit_reg=False, legend=True, legend_out=True)


# In[39]:


f3_f6 = sns.lmplot(data=df, x='f03', y='f06', hue='conversion', 
                   fit_reg=False, legend=True, legend_out=True)


# In[42]:


f04_f11 = sns.lmplot(data=df, x='f04', y='f11', hue='conversion', 
                   fit_reg=False, legend=True, legend_out=True)


# In[43]:


f04_f10 = sns.lmplot(data=df, x='f04', y='f10', hue='conversion', 
                   fit_reg=False, legend=True, legend_out=True)


# In[44]:


f05_f07 = sns.lmplot(data=df, x='f05', y='f07', hue='conversion', 
                   fit_reg=False, legend=True, legend_out=True)


# In[45]:


f08_f09 = sns.lmplot(data=df, x='f05', y='f07', hue='conversion', 
                   fit_reg=False, legend=True, legend_out=True)


# In[ ]:


from sklearn.metrics.pairwise import cosine_distances
dist = cosine_distances(df_f,df_f)


# In[ ]:


dist.describe()
dist.hist()

