{
 "cells": [
  {
   "cell_type": "markdown",
   "metadata": {},
   "source": [
    "# Uplift Modeling Evaluation\n",
    "\n",
    "*Author: Chris Barton* \n",
    "\n",
    "In this notebook, we look at how to evaluate an uplift model. This is trickier than evaluating a traditional supervised learning model as we don't know the ground truth, that is, we don't know the outcome of the target variable had we taken a different action. For this reason, traditional metrics like RMSE and accuracy don't make a ton of sense. \n",
    "\n",
    "To begin exploration of this topic, we will import some data and look at the average treatment effect for the control and test population. "
   ]
  },
  {
   "cell_type": "code",
   "execution_count": 28,
   "metadata": {
    "collapsed": false
   },
   "outputs": [
    {
     "name": "stdout",
     "output_type": "stream",
     "text": [
      "The google.cloud.bigquery extension is already loaded. To reload it, use:\n",
      "  %reload_ext google.cloud.bigquery\n"
     ]
    }
   ],
   "source": [
    "from google.cloud import bigquery\n",
    "import matplotlib.pyplot as plt\n",
    "import xgboost\n",
    "from sklearn.model_selection import train_test_split\n",
    "from sklearn.metrics import accuracy_score\n",
    "import pandas as pd\n",
    "import numpy as np\n",
    "from IPython.display import clear_output\n",
    "from scipy import stats\n",
    "%matplotlib inline\n",
    "%load_ext google.cloud.bigquery"
   ]
  },
  {
   "cell_type": "code",
   "execution_count": 2,
   "metadata": {
    "collapsed": false
   },
   "outputs": [],
   "source": [
    "client = bigquery.Client()\n",
    "\n",
    "query_job = client.query(\"\"\"\n",
    "       SELECT f0,f1,f2,f3,f4,f5,f6,f7,f8,f9,f10,f11, treatment, conversion \n",
    "       FROM `uplift.data` b \n",
    "       ORDER BY RAND() \n",
    "       LIMIT 1000000\n",
    "    \"\"\")\n",
    "\n",
    "df = query_job.to_dataframe()"
   ]
  },
  {
   "cell_type": "markdown",
   "metadata": {},
   "source": [
    "### Average Treatment Effect (ATE)"
   ]
  },
  {
   "cell_type": "code",
   "execution_count": 4,
   "metadata": {
    "collapsed": false
   },
   "outputs": [
    {
     "name": "stdout",
     "output_type": "stream",
     "text": [
      "Control: 273, N = 153885, Rate: 0.001774052051856906\n",
      "Test: 1995, N = 846115, Rate: 0.0023578355188124548\n",
      "\n",
      "estimated_effect 0.0005837834669555487, standard_error: 0.00023428472665056992\n",
      "\n",
      "Lift: 0.32906783447785576\n",
      "\n",
      "Test Statistic: 4.428330040575782, P-Value: 9.49755531677034e-06\n"
     ]
    }
   ],
   "source": [
    "base = df[df.treatment == 0]\n",
    "variant = df[df.treatment == 1]\n",
    "    \n",
    "delta = variant.conversion.mean() - base.conversion.mean()\n",
    "\n",
    "delta_err = 1.96 * np.sqrt(variant.conversion.var() / variant.shape[0] + base.conversion.var() / base.shape[0])\n",
    "  \n",
    "print(\"Control: %s, N = %s, Rate: %s\" % ( df[df.treatment == 0]['conversion'].sum() \n",
    "                               , df[df.treatment == 0].shape[0]\n",
    "                               , df[df.treatment == 0]['conversion'].sum() / float(df[df.treatment == 0].shape[0]\n",
    "     )))\n",
    "\n",
    "print(\"Test: %s, N = %s, Rate: %s\" % (df[df.treatment == 1]['conversion'].sum()\n",
    "                            , df[df.treatment == 1].shape[0]\n",
    "                            , df[df.treatment == 1]['conversion'].sum() / float(df[df.treatment == 1].shape[0]\n",
    "     )))\n",
    "\n",
    "print(\"\")\n",
    "print(\"estimated_effect %s, standard_error: %s\" % (delta, delta_err))\n",
    "print(\"\")\n",
    "lift = (variant.conversion.mean() - base.conversion.mean()) / base.conversion.mean()\n",
    "print(\"Lift: %s\" % lift)\n",
    "print(\"\")\n",
    "t = stats.ttest_ind(df[df.treatment == 1]['conversion'], df[df.treatment == 0]['conversion'])\n",
    "print(\"Test Statistic: %s, P-Value: %s\" % (t[0], t[1]))"
   ]
  },
  {
   "cell_type": "markdown",
   "metadata": {},
   "source": [
    "### ATE: Results \n",
    "\n",
    "Above, we can see there is a difference in conversion rate between the control and test, resulting in a 33% lift in conversion. Albeit, the conversion rate is very low at .17% and .23% for control and test, respectively. \n",
    "\n",
    "Now that we have established that there is a difference is test and control conversion rates, we can proceed with Uplift Modeling. \n",
    "\n",
    "Moving forward, we will build a model to predict conversion on the treatment dataset. We will use under sampling to balance the outcome class during training. "
   ]
  },
  {
   "cell_type": "code",
   "execution_count": 6,
   "metadata": {
    "collapsed": false
   },
   "outputs": [
    {
     "name": "stdout",
     "output_type": "stream",
     "text": [
      "Accuracy: 92.28%\n"
     ]
    }
   ],
   "source": [
    "# subset dataset and train model. \n",
    "X_train, X_test, y_train, y_test = train_test_split(df[['f0','f1','f2','f3','f4','f5','f6','f7','f8','f9','f10','f11']][df.treatment == 1], df['conversion'][df.treatment == 1], test_size=0.33, random_state=35)\n",
    "\n",
    "spw=(y_train.shape[0] - y_train.sum()) / y_train.sum()\n",
    "\n",
    "# train model with balanced dataset \n",
    "treatment_model = xgboost.XGBClassifier(scale_pos_weight=spw)\n",
    "treatment_model.fit(X_train, y_train)\n",
    "\n",
    "y_pred = treatment_model.predict(X_test)\n",
    "predictions = [round(value) for value in y_pred]\n",
    "\n",
    "accuracy = accuracy_score(y_test, predictions)\n",
    "print(\"Accuracy: %.2f%%\" % (accuracy * 100.0))"
   ]
  },
  {
   "cell_type": "code",
   "execution_count": 13,
   "metadata": {
    "collapsed": false
   },
   "outputs": [
    {
     "data": {
      "text/html": [
       "<div>\n",
       "<style scoped>\n",
       "    .dataframe tbody tr th:only-of-type {\n",
       "        vertical-align: middle;\n",
       "    }\n",
       "\n",
       "    .dataframe tbody tr th {\n",
       "        vertical-align: top;\n",
       "    }\n",
       "\n",
       "    .dataframe thead th {\n",
       "        text-align: right;\n",
       "    }\n",
       "</style>\n",
       "<table border=\"1\" class=\"dataframe\">\n",
       "  <thead>\n",
       "    <tr style=\"text-align: right;\">\n",
       "      <th></th>\n",
       "      <th>conversion</th>\n",
       "      <th>treatment</th>\n",
       "      <th>prob</th>\n",
       "      <th>prediction</th>\n",
       "    </tr>\n",
       "  </thead>\n",
       "  <tbody>\n",
       "    <tr>\n",
       "      <th>91754</th>\n",
       "      <td>0</td>\n",
       "      <td>1</td>\n",
       "      <td>0.134870</td>\n",
       "      <td>0</td>\n",
       "    </tr>\n",
       "    <tr>\n",
       "      <th>308249</th>\n",
       "      <td>0</td>\n",
       "      <td>1</td>\n",
       "      <td>0.311785</td>\n",
       "      <td>0</td>\n",
       "    </tr>\n",
       "    <tr>\n",
       "      <th>1073</th>\n",
       "      <td>0</td>\n",
       "      <td>1</td>\n",
       "      <td>0.047511</td>\n",
       "      <td>0</td>\n",
       "    </tr>\n",
       "    <tr>\n",
       "      <th>782374</th>\n",
       "      <td>0</td>\n",
       "      <td>1</td>\n",
       "      <td>0.046478</td>\n",
       "      <td>0</td>\n",
       "    </tr>\n",
       "    <tr>\n",
       "      <th>110369</th>\n",
       "      <td>0</td>\n",
       "      <td>1</td>\n",
       "      <td>0.012314</td>\n",
       "      <td>0</td>\n",
       "    </tr>\n",
       "  </tbody>\n",
       "</table>\n",
       "</div>"
      ],
      "text/plain": [
       "        conversion  treatment      prob  prediction\n",
       "91754            0          1  0.134870           0\n",
       "308249           0          1  0.311785           0\n",
       "1073             0          1  0.047511           0\n",
       "782374           0          1  0.046478           0\n",
       "110369           0          1  0.012314           0"
      ]
     },
     "execution_count": 13,
     "metadata": {},
     "output_type": "execute_result"
    }
   ],
   "source": [
    "treatment_results               = pd.DataFrame(y_test)\n",
    "treatment_results['treatment']  = 1\n",
    "treatment_results['prob']       = treatment_model.predict_proba(X_test)[:,1]\n",
    "treatment_results['prediction'] = treatment_model.predict(X_test)\n",
    "treatment_results.head()"
   ]
  },
  {
   "cell_type": "markdown",
   "metadata": {},
   "source": [
    "## Gain Curve\n",
    "\n",
    "Before we explore Uplift specific evaluation metrics, it is useful to create a gains chart and Gini coefficient, as traditional metrics used in Uplift modeling can be thought of as a generalization of the Gini coefficient. \n",
    "\n",
    "In the treatment_results dataframe, we have four columns:\n",
    "    - Conversion\n",
    "    - Treatment\n",
    "    - Probability of conversion\n",
    "    - Prediction (binary)\n",
    "    \n",
    "To create a gains chart we follow a few simple steps:\n",
    "\n",
    "1. Sort by probability of conversion (descending). \n",
    "2. Create array for cumulative sum of conversions.\n",
    "3. Create array for number of users targeted. \n",
    "4. Plot targeted users on the Y axis and conversions on the X axis. \n"
   ]
  },
  {
   "cell_type": "code",
   "execution_count": 14,
   "metadata": {
    "collapsed": false
   },
   "outputs": [
    {
     "data": {
      "text/plain": [
       "Text(0.5, 1.0, 'Gain Chart')"
      ]
     },
     "execution_count": 14,
     "metadata": {},
     "output_type": "execute_result"
    },
    {
     "data": {
      "image/png": "[encoded data removed]",
      "text/plain": [
       "<Figure size 720x360 with 1 Axes>"
      ]
     },
     "metadata": {},
     "output_type": "display_data"
    }
   ],
   "source": [
    "import seaborn as sns; sns.set()\n",
    "plt.rcParams['figure.figsize'] = [10, 5]\n",
    "treatment_results = treatment_results.sort_values(by=['prob'], ascending=False)\n",
    "number_purchases = treatment_results['conversion'].cumsum()\n",
    "number_targeted  = treatment_results['treatment'].cumsum()\n",
    "plt.plot(number_targeted, number_purchases)\n",
    "plt.xlabel(\"Cumulative Conversions\")\n",
    "plt.ylabel(\"Customers Targeted\")\n",
    "plt.title(\"Gain Chart\")"
   ]
  },
  {
   "cell_type": "markdown",
   "metadata": {
    "collapsed": true
   },
   "source": [
    "Now in order to make this chart more intuitive we need to add some perspective. We will do this by graphing a baseline (random) model and a perfect model. \n",
    "\n",
    "- Random: This just assigns a random probability of conversion for every row.\n",
    "- Perfect: This sorts dataframe by conversions, so that every person who converts get targeted before a non-converter. "
   ]
  },
  {
   "cell_type": "code",
   "execution_count": 15,
   "metadata": {
    "collapsed": false
   },
   "outputs": [
    {
     "data": {
      "text/plain": [
       "Text(0.5, 1.0, 'Gains Chart')"
      ]
     },
     "execution_count": 15,
     "metadata": {},
     "output_type": "execute_result"
    },
    {
     "data": {
      "image/png": "[encoded data removed]",
      "text/plain": [
       "<Figure size 720x360 with 1 Axes>"
      ]
     },
     "metadata": {},
     "output_type": "display_data"
    }
   ],
   "source": [
    "# add random targeting\n",
    "treatment_results['random_prob'] = [ np.random.random()  for k in treatment_results.index]\n",
    "treatment_results = treatment_results.sort_values(by=['random_prob'], ascending=False)\n",
    "rand_number_purchases = treatment_results['conversion'].cumsum()\n",
    "rand_number_targeted  = treatment_results['treatment'].cumsum()\n",
    "\n",
    "# add optimal targeting  \n",
    "treatment_results = treatment_results.sort_values(by=['conversion'], ascending=False)\n",
    "optimum_number_purchases = treatment_results['conversion'].cumsum()\n",
    "optimum_number_targeted  = treatment_results['treatment'].cumsum()\n",
    "\n",
    "plt.plot( number_targeted          ,  number_purchases, label='Model')\n",
    "plt.plot( rand_number_targeted     ,  rand_number_purchases, label='Random')\n",
    "plt.plot( optimum_number_targeted  ,  optimum_number_purchases, label='Perfect')\n",
    "plt.xlabel(\"Cumulative Conversions\")\n",
    "plt.ylabel(\"Customers Targeted\")\n",
    "plt.legend(loc='upper center', bbox_to_anchor=(0.5, -0.05),fancybox=True, shadow=True, ncol=5)\n",
    "plt.title(\"Gains Chart\")"
   ]
  },
  {
   "cell_type": "markdown",
   "metadata": {},
   "source": [
    "The chart above gives us a good visualization of how well are model performs compared to a random and perfect model. This is where the Gini Coefficient comes in. \n",
    "\n",
    "### Gini Coefficient\n",
    "\n",
    "From the gains chart, one defines the Gini coefficient as the ratio between two areas:\n",
    "- The area above the diagonal line (random model) and the cumulative gains line; \n",
    "- The area between the diagonal and the optimum\n",
    "\n",
    "Below, we will calculate this. "
   ]
  },
  {
   "cell_type": "code",
   "execution_count": 16,
   "metadata": {
    "collapsed": true
   },
   "outputs": [],
   "source": [
    "# https://www.kaggle.com/batzner/gini-coefficient-an-intuitive-explanation"
   ]
  },
  {
   "cell_type": "code",
   "execution_count": null,
   "metadata": {
    "collapsed": false
   },
   "outputs": [],
   "source": []
  },
  {
   "cell_type": "markdown",
   "metadata": {},
   "source": [
    "### From Gini to Qini \n",
    "\n",
    "Now, using the Gini metric/curve for evaluating an Uplift Modeling doesn't make as much sense as we don't know the true counterfactual outcome. That is, we want to see how well our Uplift model is at predicting uplift, but since we don't know the outcome of the counterfactual (i.e. what somebody would have done given other action), we can't plot this at an individual level. \n",
    "\n",
    "However, we can compare segments of the population. For example, we can sort the dataframe by uplift score (descending). Then for each decile in test and control we calculate the number of positive outcomes. We then subtract the number of positive outcomes in treatment minus the number in control. This give us incremental sales or uplift per decile. \n",
    "\n",
    "Now let's step back, for a second, and think about why this makes sense. If we sort by uplift and segment test and control populations by decile, the first decile in the test group should have a large number of converters. These are people how we predicted would convert when shown an ad, and since they are in the treatment group they were shown and ad. Furthermore, we would expect the control to have a low number of conversions. We also predicted they'd convert if shown and ad, however they were not shown and ad, so their likelihood of converting is, most likely, very small. Ideally we will see the highest uplift in the first decile, then it should decrease and level off until the last deciles where we could/should see negative uplift. If we see negative uplift (downlift) in segments we are observing what is known as sleeping dogs (customers who will buy without seeing and ad, but will not buy if they do see an ad). \n",
    "\n",
    "Below, we will build a model for the control group. We will then subtract the output probabilities of the test model and control model to come up with predicted uplift (two-model approach), after which we will build an Uplift plot. \n"
   ]
  },
  {
   "cell_type": "code",
   "execution_count": 16,
   "metadata": {
    "collapsed": false
   },
   "outputs": [
    {
     "data": {
      "text/plain": [
       "XGBClassifier(base_score=0.5, booster='gbtree', colsample_bylevel=1,\n",
       "       colsample_bytree=1, gamma=0, learning_rate=0.1, max_delta_step=0,\n",
       "       max_depth=3, min_child_weight=1, missing=None, n_estimators=100,\n",
       "       n_jobs=1, nthread=None, objective='binary:logistic', random_state=0,\n",
       "       reg_alpha=0, reg_lambda=1, scale_pos_weight=511.9452736318408,\n",
       "       seed=None, silent=True, subsample=1)"
      ]
     },
     "execution_count": 16,
     "metadata": {},
     "output_type": "execute_result"
    }
   ],
   "source": [
    "# build control model \n",
    "Xc_train, Xc_test, yc_train, yc_test = train_test_split(df[['f0','f1','f2','f3','f4','f5','f6','f7','f8','f9','f10','f11']][df.treatment == 0], df['conversion'][df.treatment == 0], test_size=0.33, random_state=35)\n",
    "spw=(yc_train.shape[0] - yc_train.sum()) / yc_train.sum()\n",
    "\n",
    "# train model with balanced dataset \n",
    "control_model = xgboost.XGBClassifier(scale_pos_weight=spw)\n",
    "control_model.fit(Xc_train, yc_train)"
   ]
  },
  {
   "cell_type": "code",
   "execution_count": 17,
   "metadata": {
    "collapsed": true
   },
   "outputs": [],
   "source": [
    "# build test dataframe \n",
    "c = pd.concat([Xc_test, yc_test], axis=1)\n",
    "c['treatment'] = 0\n",
    "t = pd.concat([X_test, y_test], axis=1)\n",
    "t['treatment'] = 1\n",
    "test_df = pd.concat([c, t])"
   ]
  },
  {
   "cell_type": "code",
   "execution_count": 18,
   "metadata": {
    "collapsed": false
   },
   "outputs": [],
   "source": [
    "results                         = pd.DataFrame(test_df['conversion'])\n",
    "results['treatment']            = test_df['treatment']\n",
    "results['treatment_prob']       = treatment_model.predict_proba(test_df[test_df.columns[:-2]])[:,1]\n",
    "results['control_prob']         = control_model.predict_proba(test_df[test_df.columns[:-2]])[:,1]\n",
    "results['treatment_pred']       = treatment_model.predict(test_df[test_df.columns[:-2]]) \n",
    "results['control_pred']         = control_model.predict(test_df[test_df.columns[:-2]]) "
   ]
  },
  {
   "cell_type": "code",
   "execution_count": 19,
   "metadata": {
    "collapsed": true
   },
   "outputs": [],
   "source": [
    "results['uplift'] = results['treatment_prob'] - results['control_prob']\n",
    "results           = results.sort_values(by=['uplift'], ascending=False)\n",
    "results['random'] = [ np.random.random()  for k in results.index]"
   ]
  },
  {
   "cell_type": "code",
   "execution_count": 20,
   "metadata": {
    "collapsed": false
   },
   "outputs": [
    {
     "name": "stderr",
     "output_type": "stream",
     "text": [
      "/home/cbartondepaul/Notebooks/env/lib/python3.5/site-packages/ipykernel_launcher.py:28: RuntimeWarning: invalid value encountered in double_scalars\n",
      "/home/cbartondepaul/Notebooks/env/lib/python3.5/site-packages/ipykernel_launcher.py:29: RuntimeWarning: invalid value encountered in double_scalars\n",
      "/home/cbartondepaul/Notebooks/env/lib/python3.5/site-packages/ipykernel_launcher.py:30: RuntimeWarning: invalid value encountered in double_scalars\n",
      "/home/cbartondepaul/Notebooks/env/lib/python3.5/site-packages/ipykernel_launcher.py:31: RuntimeWarning: invalid value encountered in double_scalars\n"
     ]
    }
   ],
   "source": [
    "control_total   = results[results.treatment == 0].shape[0]\n",
    "treatment_total = results[results.treatment == 1].shape[0]\n",
    "\n",
    "uplift_ttl = pd.DataFrame({'segment'      : np.arange(0,1.1, .1)                 ,\n",
    "                           'control_pop'  : np.arange(0,1.1, .1)*control_total   ,\n",
    "                           'test_pop'     : np.arange(0,1.1, .1)*treatment_total \n",
    "                      })\n",
    "\n",
    "uplift_ttl['test_pop']      = uplift_ttl['test_pop'].astype(int)\n",
    "uplift_ttl['control_pop']   = uplift_ttl['control_pop'].astype(int)\n",
    "uplift_ttl['r_tk']          = uplift_ttl['test_pop'].apply(lambda x: results[results.treatment == 1].sort_values(by=['uplift'], ascending=False)['conversion'][:x].sum())\n",
    "uplift_ttl['r_ck']          = uplift_ttl['control_pop'].apply(lambda x: results[results.treatment == 0].sort_values(by=['uplift']  , ascending=False)['conversion'][:x].sum())\n",
    "\n",
    "uplift_ttl['rand_tk']       = uplift_ttl['test_pop'].apply(lambda x: results[results.treatment == 1].sort_values(by=['random'], ascending=False)['conversion'][:x].sum())\n",
    "uplift_ttl['rand_ck']       = uplift_ttl['control_pop'].apply(lambda x: results[results.treatment == 0].sort_values(by=['random']  , ascending=False)['conversion'][:x].sum())\n",
    "\n",
    "# for perfect we need to sort by incremental \n",
    "uplift_ttl['perfect_tk']    = uplift_ttl['test_pop'].apply(lambda x: results[results.treatment == 1].sort_values(by=['conversion'], ascending=False)['conversion'][:x].sum())\n",
    "uplift_ttl['perfect_ck']    = uplift_ttl['control_pop'].apply(lambda x: results[results.treatment == 0].sort_values(by=['conversion'] )['conversion'][:x].sum())\n",
    "\n",
    "uplift_ttl['pract_tk']      = uplift_ttl['test_pop'].apply(lambda x: results[results.treatment == 1].sort_values(by=['conversion'], ascending=False)['conversion'][:x].sum())\n",
    "uplift_ttl['pract_ck']      = uplift_ttl['control_pop'].apply(lambda x: results[results.treatment == 0].sort_values(by=['conversion'], ascending=False )['conversion'][:x].sum())\n",
    "\n",
    "# calculate uplift \n",
    "uplift_ttl['q']     = uplift_ttl.apply(lambda x: x[3] - x[2] * x[4] / x[0]  , axis=1)\n",
    "uplift_ttl['rq']    = uplift_ttl.apply(lambda x: x[5] - x[2] * x[6] / x[0]  , axis=1)\n",
    "uplift_ttl['pq']    = uplift_ttl.apply(lambda x: x[7] - x[2] * x[8] / x[0]  , axis=1)\n",
    "uplift_ttl['ppq']   = uplift_ttl.apply(lambda x: x[9] - x[2] * x[10] / x[0] , axis=1)"
   ]
  },
  {
   "cell_type": "code",
   "execution_count": 21,
   "metadata": {
    "collapsed": false
   },
   "outputs": [],
   "source": [
    "uplift_ttl = uplift_ttl.fillna(0)"
   ]
  },
  {
   "cell_type": "code",
   "execution_count": 27,
   "metadata": {
    "collapsed": false
   },
   "outputs": [
    {
     "data": {
      "text/plain": [
       "Text(0.5, 1.0, 'Uplift Chart')"
      ]
     },
     "execution_count": 27,
     "metadata": {},
     "output_type": "execute_result"
    },
    {
     "data": {
      "image/png": "[encoded data removed]",
      "text/plain": [
       "<Figure size 720x360 with 1 Axes>"
      ]
     },
     "metadata": {},
     "output_type": "display_data"
    }
   ],
   "source": [
    "plt.plot(np.arange(0,1.1, .1),  uplift_ttl['q']   , label='Qini Curve')\n",
    "plt.plot(np.arange(0,1.1, .1),  uplift_ttl['rq']  , label='Random Targeting')\n",
    "plt.plot(np.arange(0,1.1, .1),  uplift_ttl['pq']  , label='Perfect')\n",
    "plt.plot(np.arange(0,1.1, .1),  uplift_ttl['ppq'] , label='No Sleeping Dogs')\n",
    "plt.legend(loc='upper center', bbox_to_anchor=(0.5, -0.05),fancybox=True, shadow=True, ncol=5)\n",
    "plt.xlabel(\"Fraction of Customers Targeted\")\n",
    "plt.ylabel(\"Incremental Sales\")\n",
    "plt.title(\"Uplift Chart\")"
   ]
  },
  {
   "cell_type": "markdown",
   "metadata": {},
   "source": [
    "Similar to the Gini Coeffecient, the Qini coefficient is calculated by taking the ratio of two areas:\n",
    "1. The area between the random curve and the Qini Curve.\n",
    "2. The area between the random curve and the perfect curve.\n",
    "    - As we discuss below, there are two options for the prefect curve. \n",
    "\n",
    "The perfect targeting curve can take many different forms. Two are outlined below. \n",
    "\n",
    "1. No Negative Effect (No Sleeping Dogs)\n",
    "    - In this curve, we make the assumption that targeting somebody with an Ad can not have any negative effects i.e. no sleeping dogs. We can see this curve above in the red line. \n",
    "2. Negative Effects.\n",
    "    - In this curve, we make the assume the perfect model, predicts all incremental sales first and puts any negative effects at the end of the model. \n",
    "\n",
    "\n",
    "### Additional Metrics\n",
    "\n",
    "The Qini coefficient and curve have many variants that have been developed overtime. Below we will look at a few common variants and their benefits. \n",
    "\n",
    "- Cumulative Gain \n",
    "\n",
    "- Adjusted Qini Curve \n",
    "\n"
   ]
  },
  {
   "cell_type": "code",
   "execution_count": null,
   "metadata": {
    "collapsed": true
   },
   "outputs": [],
   "source": []
  },
  {
   "cell_type": "code",
   "execution_count": null,
   "metadata": {
    "collapsed": true
   },
   "outputs": [],
   "source": []
  },
  {
   "cell_type": "code",
   "execution_count": null,
   "metadata": {
    "collapsed": true
   },
   "outputs": [],
   "source": []
  },
  {
   "cell_type": "markdown",
   "metadata": {
    "collapsed": true
   },
   "source": [
    "## References \n",
    "\n",
    "1. The University of Edinburgh School of Mathematics, Testing a New Metric for Uplift Models by Oscar Mesalles Naranjo"
   ]
  },
  {
   "cell_type": "code",
   "execution_count": null,
   "metadata": {
    "collapsed": true
   },
   "outputs": [],
   "source": []
  }
 ],
 "metadata": {
  "anaconda-cloud": {},
  "kernelspec": {
   "display_name": "env",
   "language": "python",
   "name": "env"
  },
  "language_info": {
   "codemirror_mode": {
    "name": "ipython",
    "version": 3
   },
   "file_extension": ".py",
   "mimetype": "text/x-python",
   "name": "python",
   "nbconvert_exporter": "python",
   "pygments_lexer": "ipython3",
   "version": "3.5.2"
  }
 },
 "nbformat": 4,
 "nbformat_minor": 1
}
