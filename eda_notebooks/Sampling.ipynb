{
 "cells": [
  {
   "cell_type": "markdown",
   "metadata": {},
   "source": [
    "### Sampling\n",
    "* Training on 10% & 25% of the dataset. For train/test split, use 90/10. \n",
    "* Note that RAND does not use a deterministic seed. "
   ]
  },
  {
   "cell_type": "code",
   "execution_count": 3,
   "metadata": {},
   "outputs": [
    {
     "name": "stdout",
     "output_type": "stream",
     "text": [
      "The current project is capstone-project-229521\n"
     ]
    }
   ],
   "source": [
    "from google.datalab import Context\n",
    "\n",
    "context = Context.default()\n",
    "print('The current project is %s' % context.project_id)"
   ]
  },
  {
   "cell_type": "code",
   "execution_count": 4,
   "metadata": {},
   "outputs": [
    {
     "data": {
      "text/html": [
       "<div>\n",
       "<style scoped>\n",
       "    .dataframe tbody tr th:only-of-type {\n",
       "        vertical-align: middle;\n",
       "    }\n",
       "\n",
       "    .dataframe tbody tr th {\n",
       "        vertical-align: top;\n",
       "    }\n",
       "\n",
       "    .dataframe thead th {\n",
       "        text-align: right;\n",
       "    }\n",
       "</style>\n",
       "<table border=\"1\" class=\"dataframe\">\n",
       "  <thead>\n",
       "    <tr style=\"text-align: right;\">\n",
       "      <th></th>\n",
       "      <th>total_rows</th>\n",
       "    </tr>\n",
       "  </thead>\n",
       "  <tbody>\n",
       "    <tr>\n",
       "      <th>0</th>\n",
       "      <td>25309482</td>\n",
       "    </tr>\n",
       "  </tbody>\n",
       "</table>\n",
       "</div>"
      ],
      "text/plain": [
       "   total_rows\n",
       "0    25309482"
      ]
     },
     "execution_count": 4,
     "metadata": {},
     "output_type": "execute_result"
    }
   ],
   "source": [
    "import google.datalab.bigquery as bq\n",
    "\n",
    "query=\"\"\"\n",
    "SELECT COUNT(*) as total_rows\n",
    "FROM `uplift.data`\n",
    "\"\"\"\n",
    "\n",
    "df = bq.Query(query).execute().result().to_dataframe()\n",
    "df.head()"
   ]
  },
  {
   "cell_type": "markdown",
   "metadata": {},
   "source": [
    "#### 10% data"
   ]
  },
  {
   "cell_type": "code",
   "execution_count": 5,
   "metadata": {},
   "outputs": [],
   "source": [
    "%%bq query --name samples\n",
    "SELECT f0, f1, f2, f3, f4, f5, f6, f7, f8, f9, f10, f11, treatment, conversion\n",
    "FROM `uplift.data` \n",
    "WHERE RAND() < 0.1"
   ]
  },
  {
   "cell_type": "code",
   "execution_count": 6,
   "metadata": {},
   "outputs": [
    {
     "data": {
      "text/plain": [
       "2534376"
      ]
     },
     "execution_count": 6,
     "metadata": {},
     "output_type": "execute_result"
    }
   ],
   "source": [
    "df = samples.execute().result().to_dataframe()\n",
    "len(df)"
   ]
  },
  {
   "cell_type": "markdown",
   "metadata": {},
   "source": [
    "There are 2533296 observations in the sample set, which is about 10% of the whole data."
   ]
  },
  {
   "cell_type": "markdown",
   "metadata": {},
   "source": [
    "#### Store data\n",
    "* Pickle is a serialized way of storing a Pandas dataframe. \n",
    "* Save the 10% dataframe using the code df.to_pickle(file_name)\n",
    "* We can easily load the dataframe back using df = pd.read_pickle(file_name)"
   ]
  },
  {
   "cell_type": "code",
   "execution_count": 7,
   "metadata": {},
   "outputs": [],
   "source": [
    "df.to_pickle('data10.pkl')"
   ]
  },
  {
   "cell_type": "code",
   "execution_count": null,
   "metadata": {},
   "outputs": [],
   "source": [
    "df = pd.read_pickle('data10.pkl')"
   ]
  },
  {
   "cell_type": "markdown",
   "metadata": {},
   "source": [
    "#### 25% data"
   ]
  },
  {
   "cell_type": "code",
   "execution_count": 8,
   "metadata": {},
   "outputs": [],
   "source": [
    "%%bq query --name samples\n",
    "SELECT f0, f1, f2, f3, f4, f5, f6, f7, f8, f9, f10, f11, treatment, conversion\n",
    "FROM `uplift.data` \n",
    "WHERE RAND() < 0.25"
   ]
  },
  {
   "cell_type": "code",
   "execution_count": 9,
   "metadata": {},
   "outputs": [
    {
     "data": {
      "text/plain": [
       "6327782"
      ]
     },
     "execution_count": 9,
     "metadata": {},
     "output_type": "execute_result"
    }
   ],
   "source": [
    "df25 = samples.execute().result().to_dataframe()\n",
    "len(df25)"
   ]
  },
  {
   "cell_type": "code",
   "execution_count": 10,
   "metadata": {},
   "outputs": [],
   "source": [
    "df25.to_pickle('data25.pkl')"
   ]
  },
  {
   "cell_type": "code",
   "execution_count": null,
   "metadata": {},
   "outputs": [],
   "source": [
    "# df = pd.read_pickle('data25.pkl')"
   ]
  },
  {
   "cell_type": "markdown",
   "metadata": {},
   "source": [
    "There are 6325022 observations in the sample set, which is about 25% of the whole data."
   ]
  },
  {
   "cell_type": "markdown",
   "metadata": {},
   "source": [
    "#### Normalize the data"
   ]
  },
  {
   "cell_type": "code",
   "execution_count": 5,
   "metadata": {},
   "outputs": [
    {
     "data": {
      "text/html": [
       "<div>\n",
       "<style scoped>\n",
       "    .dataframe tbody tr th:only-of-type {\n",
       "        vertical-align: middle;\n",
       "    }\n",
       "\n",
       "    .dataframe tbody tr th {\n",
       "        vertical-align: top;\n",
       "    }\n",
       "\n",
       "    .dataframe thead th {\n",
       "        text-align: right;\n",
       "    }\n",
       "</style>\n",
       "<table border=\"1\" class=\"dataframe\">\n",
       "  <thead>\n",
       "    <tr style=\"text-align: right;\">\n",
       "      <th></th>\n",
       "      <th>f0</th>\n",
       "      <th>f1</th>\n",
       "      <th>f2</th>\n",
       "      <th>f3</th>\n",
       "      <th>f4</th>\n",
       "      <th>f5</th>\n",
       "      <th>f6</th>\n",
       "      <th>f7</th>\n",
       "      <th>f8</th>\n",
       "      <th>f9</th>\n",
       "      <th>f10</th>\n",
       "      <th>f11</th>\n",
       "      <th>treatment</th>\n",
       "      <th>conversion</th>\n",
       "    </tr>\n",
       "  </thead>\n",
       "  <tbody>\n",
       "    <tr>\n",
       "      <th>0</th>\n",
       "      <td>0.748562</td>\n",
       "      <td>0.0</td>\n",
       "      <td>0.127308</td>\n",
       "      <td>0.940855</td>\n",
       "      <td>0.169318</td>\n",
       "      <td>0.0</td>\n",
       "      <td>0.666944</td>\n",
       "      <td>1.0</td>\n",
       "      <td>0.465607</td>\n",
       "      <td>0.201160</td>\n",
       "      <td>0.013567</td>\n",
       "      <td>0.000000</td>\n",
       "      <td>0.0</td>\n",
       "      <td>0.0</td>\n",
       "    </tr>\n",
       "    <tr>\n",
       "      <th>1</th>\n",
       "      <td>0.224739</td>\n",
       "      <td>0.0</td>\n",
       "      <td>0.849874</td>\n",
       "      <td>1.000000</td>\n",
       "      <td>0.231494</td>\n",
       "      <td>0.0</td>\n",
       "      <td>0.510309</td>\n",
       "      <td>1.0</td>\n",
       "      <td>0.574894</td>\n",
       "      <td>0.000000</td>\n",
       "      <td>0.078046</td>\n",
       "      <td>0.000000</td>\n",
       "      <td>1.0</td>\n",
       "      <td>0.0</td>\n",
       "    </tr>\n",
       "    <tr>\n",
       "      <th>2</th>\n",
       "      <td>0.566353</td>\n",
       "      <td>0.0</td>\n",
       "      <td>0.009958</td>\n",
       "      <td>0.817259</td>\n",
       "      <td>0.395456</td>\n",
       "      <td>0.0</td>\n",
       "      <td>0.424659</td>\n",
       "      <td>1.0</td>\n",
       "      <td>0.364059</td>\n",
       "      <td>0.571041</td>\n",
       "      <td>0.990042</td>\n",
       "      <td>0.290586</td>\n",
       "      <td>1.0</td>\n",
       "      <td>1.0</td>\n",
       "    </tr>\n",
       "    <tr>\n",
       "      <th>3</th>\n",
       "      <td>0.874888</td>\n",
       "      <td>0.0</td>\n",
       "      <td>0.393534</td>\n",
       "      <td>0.940855</td>\n",
       "      <td>0.169318</td>\n",
       "      <td>0.0</td>\n",
       "      <td>0.626398</td>\n",
       "      <td>1.0</td>\n",
       "      <td>0.635650</td>\n",
       "      <td>0.397272</td>\n",
       "      <td>0.606396</td>\n",
       "      <td>0.192067</td>\n",
       "      <td>1.0</td>\n",
       "      <td>0.0</td>\n",
       "    </tr>\n",
       "    <tr>\n",
       "      <th>4</th>\n",
       "      <td>0.896559</td>\n",
       "      <td>0.0</td>\n",
       "      <td>0.102252</td>\n",
       "      <td>0.454785</td>\n",
       "      <td>0.000000</td>\n",
       "      <td>0.0</td>\n",
       "      <td>0.507131</td>\n",
       "      <td>1.0</td>\n",
       "      <td>0.589101</td>\n",
       "      <td>0.448026</td>\n",
       "      <td>1.000000</td>\n",
       "      <td>0.000000</td>\n",
       "      <td>1.0</td>\n",
       "      <td>0.0</td>\n",
       "    </tr>\n",
       "  </tbody>\n",
       "</table>\n",
       "</div>"
      ],
      "text/plain": [
       "         f0   f1        f2        f3        f4   f5        f6   f7        f8  \\\n",
       "0  0.748562  0.0  0.127308  0.940855  0.169318  0.0  0.666944  1.0  0.465607   \n",
       "1  0.224739  0.0  0.849874  1.000000  0.231494  0.0  0.510309  1.0  0.574894   \n",
       "2  0.566353  0.0  0.009958  0.817259  0.395456  0.0  0.424659  1.0  0.364059   \n",
       "3  0.874888  0.0  0.393534  0.940855  0.169318  0.0  0.626398  1.0  0.635650   \n",
       "4  0.896559  0.0  0.102252  0.454785  0.000000  0.0  0.507131  1.0  0.589101   \n",
       "\n",
       "         f9       f10       f11  treatment  conversion  \n",
       "0  0.201160  0.013567  0.000000        0.0         0.0  \n",
       "1  0.000000  0.078046  0.000000        1.0         0.0  \n",
       "2  0.571041  0.990042  0.290586        1.0         1.0  \n",
       "3  0.397272  0.606396  0.192067        1.0         0.0  \n",
       "4  0.448026  1.000000  0.000000        1.0         0.0  "
      ]
     },
     "execution_count": 5,
     "metadata": {},
     "output_type": "execute_result"
    }
   ],
   "source": [
    "normalized_df=(df-df.min())/(df.max()-df.min())\n",
    "normalized_df.head()"
   ]
  },
  {
   "cell_type": "markdown",
   "metadata": {},
   "source": [
    "#### Train/Test Split\n",
    "\n",
    "We can use the same codes for training/testing split."
   ]
  },
  {
   "cell_type": "code",
   "execution_count": 7,
   "metadata": {},
   "outputs": [],
   "source": [
    "from sklearn.model_selection import train_test_split\n",
    "\n",
    "# split the data\n",
    "X_train, X_test, y_train, y_test = train_test_split(normalized_df[normalized_df.columns[:-1]], normalized_df[['treatment','conversion']], \n",
    "                                                    test_size=0.1, random_state=35)"
   ]
  }
 ],
 "metadata": {
  "kernelspec": {
   "display_name": "Python 2",
   "language": "python",
   "name": "python2"
  },
  "language_info": {
   "codemirror_mode": {
    "name": "ipython",
    "version": 2
   },
   "file_extension": ".py",
   "mimetype": "text/x-python",
   "name": "python",
   "nbconvert_exporter": "python",
   "pygments_lexer": "ipython2",
   "version": "2.7.15"
  }
 },
 "nbformat": 4,
 "nbformat_minor": 2
}
