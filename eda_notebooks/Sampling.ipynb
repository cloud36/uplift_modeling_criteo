{
 "cells": [
  {
   "cell_type": "markdown",
   "metadata": {},
   "source": [
    "### Sampling\n",
    "* Training on 10% & 25% of the dataset. For train/test split, use 90/10. \n",
    "* Note that RAND does not use a deterministic seed. "
   ]
  },
  {
   "cell_type": "code",
   "execution_count": 1,
   "metadata": {},
   "outputs": [
    {
     "name": "stdout",
     "output_type": "stream",
     "text": [
      "The current project is capstone-project-229521\n"
     ]
    },
    {
     "data": {
      "text/html": [
       "<div>\n",
       "<style scoped>\n",
       "    .dataframe tbody tr th:only-of-type {\n",
       "        vertical-align: middle;\n",
       "    }\n",
       "\n",
       "    .dataframe tbody tr th {\n",
       "        vertical-align: top;\n",
       "    }\n",
       "\n",
       "    .dataframe thead th {\n",
       "        text-align: right;\n",
       "    }\n",
       "</style>\n",
       "<table border=\"1\" class=\"dataframe\">\n",
       "  <thead>\n",
       "    <tr style=\"text-align: right;\">\n",
       "      <th></th>\n",
       "      <th>total_rows</th>\n",
       "    </tr>\n",
       "  </thead>\n",
       "  <tbody>\n",
       "    <tr>\n",
       "      <th>0</th>\n",
       "      <td>25309482</td>\n",
       "    </tr>\n",
       "  </tbody>\n",
       "</table>\n",
       "</div>"
      ],
      "text/plain": [
       "   total_rows\n",
       "0    25309482"
      ]
     },
     "execution_count": 1,
     "metadata": {},
     "output_type": "execute_result"
    }
   ],
   "source": [
    "from google.datalab import Context\n",
    "\n",
    "context = Context.default()\n",
    "print('The current project is %s' % context.project_id)\n",
    "\n",
    "import google.datalab.bigquery as bq\n",
    "\n",
    "query=\"\"\"\n",
    "SELECT COUNT(*) as total_rows\n",
    "FROM `uplift.data`\n",
    "\"\"\"\n",
    "\n",
    "df = bq.Query(query).execute().result().to_dataframe()\n",
    "df.head()"
   ]
  },
  {
   "cell_type": "code",
   "execution_count": 2,
   "metadata": {},
   "outputs": [],
   "source": [
    "%%bq query --name uplift\n",
    "SELECT\n",
    "  *\n",
    "FROM uplift.data"
   ]
  },
  {
   "cell_type": "code",
   "execution_count": 3,
   "metadata": {},
   "outputs": [
    {
     "data": {
      "text/html": [
       "<div>\n",
       "<style scoped>\n",
       "    .dataframe tbody tr th:only-of-type {\n",
       "        vertical-align: middle;\n",
       "    }\n",
       "\n",
       "    .dataframe tbody tr th {\n",
       "        vertical-align: top;\n",
       "    }\n",
       "\n",
       "    .dataframe thead th {\n",
       "        text-align: right;\n",
       "    }\n",
       "</style>\n",
       "<table border=\"1\" class=\"dataframe\">\n",
       "  <thead>\n",
       "    <tr style=\"text-align: right;\">\n",
       "      <th></th>\n",
       "      <th>f0</th>\n",
       "      <th>f1</th>\n",
       "      <th>f2</th>\n",
       "      <th>f3</th>\n",
       "      <th>f4</th>\n",
       "      <th>f5</th>\n",
       "      <th>f6</th>\n",
       "      <th>f7</th>\n",
       "      <th>f8</th>\n",
       "      <th>f9</th>\n",
       "      <th>f10</th>\n",
       "      <th>f11</th>\n",
       "      <th>treatment</th>\n",
       "      <th>conversion</th>\n",
       "      <th>visit</th>\n",
       "      <th>exposure</th>\n",
       "    </tr>\n",
       "  </thead>\n",
       "  <tbody>\n",
       "    <tr>\n",
       "      <th>0</th>\n",
       "      <td>1.991981</td>\n",
       "      <td>3.263641</td>\n",
       "      <td>8.272483</td>\n",
       "      <td>3.735871</td>\n",
       "      <td>3.506733</td>\n",
       "      <td>10.161281</td>\n",
       "      <td>2.981721</td>\n",
       "      <td>-0.166689</td>\n",
       "      <td>1.107571</td>\n",
       "      <td>9.850093</td>\n",
       "      <td>-1.8609</td>\n",
       "      <td>4.157648</td>\n",
       "      <td>1</td>\n",
       "      <td>0</td>\n",
       "      <td>0</td>\n",
       "      <td>0</td>\n",
       "    </tr>\n",
       "    <tr>\n",
       "      <th>1</th>\n",
       "      <td>1.991981</td>\n",
       "      <td>3.263641</td>\n",
       "      <td>8.272483</td>\n",
       "      <td>3.735871</td>\n",
       "      <td>3.506733</td>\n",
       "      <td>10.161281</td>\n",
       "      <td>2.981721</td>\n",
       "      <td>-0.166689</td>\n",
       "      <td>1.107571</td>\n",
       "      <td>9.850093</td>\n",
       "      <td>-1.8609</td>\n",
       "      <td>4.157648</td>\n",
       "      <td>1</td>\n",
       "      <td>0</td>\n",
       "      <td>0</td>\n",
       "      <td>0</td>\n",
       "    </tr>\n",
       "    <tr>\n",
       "      <th>2</th>\n",
       "      <td>1.991981</td>\n",
       "      <td>3.263641</td>\n",
       "      <td>8.272483</td>\n",
       "      <td>3.735871</td>\n",
       "      <td>3.506733</td>\n",
       "      <td>10.161281</td>\n",
       "      <td>2.981721</td>\n",
       "      <td>-0.166689</td>\n",
       "      <td>1.107571</td>\n",
       "      <td>9.850093</td>\n",
       "      <td>-1.8609</td>\n",
       "      <td>4.157648</td>\n",
       "      <td>1</td>\n",
       "      <td>0</td>\n",
       "      <td>0</td>\n",
       "      <td>0</td>\n",
       "    </tr>\n",
       "    <tr>\n",
       "      <th>3</th>\n",
       "      <td>1.991981</td>\n",
       "      <td>3.263641</td>\n",
       "      <td>8.272483</td>\n",
       "      <td>3.735871</td>\n",
       "      <td>3.506733</td>\n",
       "      <td>10.161281</td>\n",
       "      <td>2.981721</td>\n",
       "      <td>-0.166689</td>\n",
       "      <td>1.107571</td>\n",
       "      <td>9.850093</td>\n",
       "      <td>-1.8609</td>\n",
       "      <td>4.157648</td>\n",
       "      <td>1</td>\n",
       "      <td>0</td>\n",
       "      <td>0</td>\n",
       "      <td>0</td>\n",
       "    </tr>\n",
       "    <tr>\n",
       "      <th>4</th>\n",
       "      <td>1.991981</td>\n",
       "      <td>3.263641</td>\n",
       "      <td>8.272483</td>\n",
       "      <td>3.735871</td>\n",
       "      <td>3.506733</td>\n",
       "      <td>10.161281</td>\n",
       "      <td>2.981721</td>\n",
       "      <td>-0.166689</td>\n",
       "      <td>1.107571</td>\n",
       "      <td>9.850093</td>\n",
       "      <td>-1.8609</td>\n",
       "      <td>4.157648</td>\n",
       "      <td>1</td>\n",
       "      <td>0</td>\n",
       "      <td>0</td>\n",
       "      <td>0</td>\n",
       "    </tr>\n",
       "  </tbody>\n",
       "</table>\n",
       "</div>"
      ],
      "text/plain": [
       "         f0        f1        f2        f3        f4         f5        f6  \\\n",
       "0  1.991981  3.263641  8.272483  3.735871  3.506733  10.161281  2.981721   \n",
       "1  1.991981  3.263641  8.272483  3.735871  3.506733  10.161281  2.981721   \n",
       "2  1.991981  3.263641  8.272483  3.735871  3.506733  10.161281  2.981721   \n",
       "3  1.991981  3.263641  8.272483  3.735871  3.506733  10.161281  2.981721   \n",
       "4  1.991981  3.263641  8.272483  3.735871  3.506733  10.161281  2.981721   \n",
       "\n",
       "         f7        f8        f9     f10       f11  treatment  conversion  \\\n",
       "0 -0.166689  1.107571  9.850093 -1.8609  4.157648          1           0   \n",
       "1 -0.166689  1.107571  9.850093 -1.8609  4.157648          1           0   \n",
       "2 -0.166689  1.107571  9.850093 -1.8609  4.157648          1           0   \n",
       "3 -0.166689  1.107571  9.850093 -1.8609  4.157648          1           0   \n",
       "4 -0.166689  1.107571  9.850093 -1.8609  4.157648          1           0   \n",
       "\n",
       "   visit  exposure  \n",
       "0      0         0  \n",
       "1      0         0  \n",
       "2      0         0  \n",
       "3      0         0  \n",
       "4      0         0  "
      ]
     },
     "execution_count": 3,
     "metadata": {},
     "output_type": "execute_result"
    }
   ],
   "source": [
    "df = uplift.execute(output_options=bq.QueryOutput.dataframe()).result()\n",
    "df.head()"
   ]
  },
  {
   "cell_type": "markdown",
   "metadata": {},
   "source": [
    "This step is **time-consuming**, so a better idea maybe directly read from csv via **chunksize** regardless of using google bigquery."
   ]
  },
  {
   "cell_type": "markdown",
   "metadata": {},
   "source": [
    "#### 10% data"
   ]
  },
  {
   "cell_type": "code",
   "execution_count": 4,
   "metadata": {},
   "outputs": [
    {
     "data": {
      "text/html": [
       "<div>\n",
       "<style scoped>\n",
       "    .dataframe tbody tr th:only-of-type {\n",
       "        vertical-align: middle;\n",
       "    }\n",
       "\n",
       "    .dataframe tbody tr th {\n",
       "        vertical-align: top;\n",
       "    }\n",
       "\n",
       "    .dataframe thead th {\n",
       "        text-align: right;\n",
       "    }\n",
       "</style>\n",
       "<table border=\"1\" class=\"dataframe\">\n",
       "  <thead>\n",
       "    <tr style=\"text-align: right;\">\n",
       "      <th></th>\n",
       "      <th>f0</th>\n",
       "      <th>f1</th>\n",
       "      <th>f2</th>\n",
       "      <th>f3</th>\n",
       "      <th>f4</th>\n",
       "      <th>f5</th>\n",
       "      <th>f6</th>\n",
       "      <th>f7</th>\n",
       "      <th>f8</th>\n",
       "      <th>f9</th>\n",
       "      <th>f10</th>\n",
       "      <th>f11</th>\n",
       "      <th>treatment</th>\n",
       "      <th>conversion</th>\n",
       "    </tr>\n",
       "  </thead>\n",
       "  <tbody>\n",
       "    <tr>\n",
       "      <th>0</th>\n",
       "      <td>1.991981</td>\n",
       "      <td>3.263641</td>\n",
       "      <td>8.272483</td>\n",
       "      <td>3.735871</td>\n",
       "      <td>3.506733</td>\n",
       "      <td>10.161281</td>\n",
       "      <td>2.981721</td>\n",
       "      <td>-0.166689</td>\n",
       "      <td>1.107571</td>\n",
       "      <td>9.850093</td>\n",
       "      <td>-1.8609</td>\n",
       "      <td>4.157648</td>\n",
       "      <td>1</td>\n",
       "      <td>0</td>\n",
       "    </tr>\n",
       "    <tr>\n",
       "      <th>1</th>\n",
       "      <td>1.991981</td>\n",
       "      <td>3.263641</td>\n",
       "      <td>8.272483</td>\n",
       "      <td>3.735871</td>\n",
       "      <td>3.506733</td>\n",
       "      <td>10.161281</td>\n",
       "      <td>2.981721</td>\n",
       "      <td>-0.166689</td>\n",
       "      <td>1.107571</td>\n",
       "      <td>9.850093</td>\n",
       "      <td>-1.8609</td>\n",
       "      <td>4.157648</td>\n",
       "      <td>1</td>\n",
       "      <td>0</td>\n",
       "    </tr>\n",
       "    <tr>\n",
       "      <th>2</th>\n",
       "      <td>1.991981</td>\n",
       "      <td>3.263641</td>\n",
       "      <td>8.272483</td>\n",
       "      <td>3.735871</td>\n",
       "      <td>3.506733</td>\n",
       "      <td>10.161281</td>\n",
       "      <td>2.981721</td>\n",
       "      <td>-0.166689</td>\n",
       "      <td>1.107571</td>\n",
       "      <td>9.850093</td>\n",
       "      <td>-1.8609</td>\n",
       "      <td>4.157648</td>\n",
       "      <td>1</td>\n",
       "      <td>0</td>\n",
       "    </tr>\n",
       "    <tr>\n",
       "      <th>3</th>\n",
       "      <td>1.991981</td>\n",
       "      <td>3.263641</td>\n",
       "      <td>8.272483</td>\n",
       "      <td>3.735871</td>\n",
       "      <td>3.506733</td>\n",
       "      <td>10.161281</td>\n",
       "      <td>2.981721</td>\n",
       "      <td>-0.166689</td>\n",
       "      <td>1.107571</td>\n",
       "      <td>9.850093</td>\n",
       "      <td>-1.8609</td>\n",
       "      <td>4.157648</td>\n",
       "      <td>1</td>\n",
       "      <td>0</td>\n",
       "    </tr>\n",
       "    <tr>\n",
       "      <th>4</th>\n",
       "      <td>1.991981</td>\n",
       "      <td>3.263641</td>\n",
       "      <td>8.272483</td>\n",
       "      <td>3.735871</td>\n",
       "      <td>3.506733</td>\n",
       "      <td>10.161281</td>\n",
       "      <td>2.981721</td>\n",
       "      <td>-0.166689</td>\n",
       "      <td>1.107571</td>\n",
       "      <td>9.850093</td>\n",
       "      <td>-1.8609</td>\n",
       "      <td>4.157648</td>\n",
       "      <td>1</td>\n",
       "      <td>0</td>\n",
       "    </tr>\n",
       "  </tbody>\n",
       "</table>\n",
       "</div>"
      ],
      "text/plain": [
       "         f0        f1        f2        f3        f4         f5        f6  \\\n",
       "0  1.991981  3.263641  8.272483  3.735871  3.506733  10.161281  2.981721   \n",
       "1  1.991981  3.263641  8.272483  3.735871  3.506733  10.161281  2.981721   \n",
       "2  1.991981  3.263641  8.272483  3.735871  3.506733  10.161281  2.981721   \n",
       "3  1.991981  3.263641  8.272483  3.735871  3.506733  10.161281  2.981721   \n",
       "4  1.991981  3.263641  8.272483  3.735871  3.506733  10.161281  2.981721   \n",
       "\n",
       "         f7        f8        f9     f10       f11  treatment  conversion  \n",
       "0 -0.166689  1.107571  9.850093 -1.8609  4.157648          1           0  \n",
       "1 -0.166689  1.107571  9.850093 -1.8609  4.157648          1           0  \n",
       "2 -0.166689  1.107571  9.850093 -1.8609  4.157648          1           0  \n",
       "3 -0.166689  1.107571  9.850093 -1.8609  4.157648          1           0  \n",
       "4 -0.166689  1.107571  9.850093 -1.8609  4.157648          1           0  "
      ]
     },
     "execution_count": 4,
     "metadata": {},
     "output_type": "execute_result"
    }
   ],
   "source": [
    "df = df.drop(['visit', 'exposure'], axis=1)\n",
    "df.head()"
   ]
  },
  {
   "cell_type": "code",
   "execution_count": 5,
   "metadata": {},
   "outputs": [
    {
     "data": {
      "text/plain": [
       "2530948"
      ]
     },
     "execution_count": 5,
     "metadata": {},
     "output_type": "execute_result"
    }
   ],
   "source": [
    "df10 = df.sample(frac=0.1, replace=True, random_state=35)\n",
    "len(df10)"
   ]
  },
  {
   "cell_type": "markdown",
   "metadata": {},
   "source": [
    "There are 2530948 observations in the sample set, which is about 10% of the whole data."
   ]
  },
  {
   "cell_type": "markdown",
   "metadata": {},
   "source": [
    "#### Store data\n",
    "* Pickle is a serialized way of storing a Pandas dataframe. \n",
    "* Save the 10% dataframe using the code df.to_pickle(file_name)\n",
    "* We can easily load the dataframe back using df = pd.read_pickle(file_name)"
   ]
  },
  {
   "cell_type": "code",
   "execution_count": 6,
   "metadata": {},
   "outputs": [],
   "source": [
    "df10.to_pickle('data10.pkl')"
   ]
  },
  {
   "cell_type": "code",
   "execution_count": null,
   "metadata": {},
   "outputs": [],
   "source": [
    "#df = pd.read_pickle('data10.pkl')"
   ]
  },
  {
   "cell_type": "markdown",
   "metadata": {},
   "source": [
    "#### 25% data"
   ]
  },
  {
   "cell_type": "code",
   "execution_count": 7,
   "metadata": {},
   "outputs": [
    {
     "data": {
      "text/plain": [
       "6327371"
      ]
     },
     "execution_count": 7,
     "metadata": {},
     "output_type": "execute_result"
    }
   ],
   "source": [
    "df25 = df.sample(frac=0.25, replace=True, random_state=35)\n",
    "len(df25)"
   ]
  },
  {
   "cell_type": "code",
   "execution_count": 8,
   "metadata": {},
   "outputs": [],
   "source": [
    "df25.to_pickle('data25.pkl')"
   ]
  },
  {
   "cell_type": "markdown",
   "metadata": {},
   "source": [
    "There are 6327371 observations in the sample set, which is about 25% of the whole data."
   ]
  },
  {
   "cell_type": "markdown",
   "metadata": {},
   "source": [
    "#### 50% data"
   ]
  },
  {
   "cell_type": "code",
   "execution_count": 9,
   "metadata": {},
   "outputs": [
    {
     "data": {
      "text/plain": [
       "12654741"
      ]
     },
     "execution_count": 9,
     "metadata": {},
     "output_type": "execute_result"
    }
   ],
   "source": [
    "df50 = df.sample(frac=0.50, replace=True, random_state=35)\n",
    "len(df50)"
   ]
  },
  {
   "cell_type": "code",
   "execution_count": 10,
   "metadata": {},
   "outputs": [],
   "source": [
    "df50.to_pickle('data50.pkl')"
   ]
  },
  {
   "cell_type": "markdown",
   "metadata": {},
   "source": [
    "There are 12654741 observations in the sample set, which is about 25% of the whole data."
   ]
  },
  {
   "cell_type": "markdown",
   "metadata": {},
   "source": [
    "#### Normalize the data"
   ]
  },
  {
   "cell_type": "code",
   "execution_count": 11,
   "metadata": {},
   "outputs": [],
   "source": [
    "normalized_df=(df-df.min())/(df.max()-df.min())"
   ]
  },
  {
   "cell_type": "markdown",
   "metadata": {},
   "source": [
    "#### Train/Test Split\n",
    "\n",
    "We can use the same codes for training/testing split."
   ]
  },
  {
   "cell_type": "code",
   "execution_count": 7,
   "metadata": {},
   "outputs": [],
   "source": [
    "from sklearn.model_selection import train_test_split\n",
    "\n",
    "# split the data\n",
    "X_train, X_test, y_train, y_test = train_test_split(normalized_df[normalized_df.columns[:-1]], normalized_df[['treatment','conversion']], \n",
    "                                                    test_size=0.1, random_state=35)"
   ]
  }
 ],
 "metadata": {
  "kernelspec": {
   "display_name": "Python 2",
   "language": "python",
   "name": "python2"
  },
  "language_info": {
   "codemirror_mode": {
    "name": "ipython",
    "version": 2
   },
   "file_extension": ".py",
   "mimetype": "text/x-python",
   "name": "python",
   "nbconvert_exporter": "python",
   "pygments_lexer": "ipython2",
   "version": "2.7.15"
  }
 },
 "nbformat": 4,
 "nbformat_minor": 2
}
